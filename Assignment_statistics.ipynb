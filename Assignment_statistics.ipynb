{
 "cells": [
  {
   "cell_type": "code",
   "execution_count": 2,
   "id": "b90577b4-ffaf-4a9d-8666-db2133dcd47d",
   "metadata": {},
   "outputs": [],
   "source": [
    "#Q1. What are the three measures of central tendency?\n",
    "# Ans:-i.mean\n",
    "#      ii.median\n",
    "#      iii.mode"
   ]
  },
  {
   "cell_type": "code",
   "execution_count": 3,
   "id": "a859f2ff-4549-4858-9bfe-d547ab431eac",
   "metadata": {},
   "outputs": [],
   "source": [
    "# Q2. What is the difference between the mean, median, and mode? How are they used to measure the\n",
    "# central tendency of a dataset?\n",
    "# Ans:-mean:- through the mean we find out the average value of dataset\n",
    "#      median:-through the meadian we find out middle element of dataset\n",
    "#      mode:- it provide frequency of given element"
   ]
  },
  {
   "cell_type": "code",
   "execution_count": 4,
   "id": "cade1099-1ebb-47fc-b2d5-0dceabec77b8",
   "metadata": {},
   "outputs": [],
   "source": [
    "# Q3. Measure the three measures of central tendency for the given height data:\n",
    "# [178,177,176,177,178.2,178,175,179,180,175,178.9,176.2,177,172.5,178,176.5]\n",
    "# Ans:-Calculate the Mean:\n",
    "#      Mean = (Sum of all values) / (Number of values)\n",
    "\n",
    "#      Mean = (178 + 177 + 176 + 177 + 178.2 + 178 + 175 + 179 + 180 + 175 + 178.9 + 176.2 + 177 + 172.5 + 178 + 176.5) / 16\n",
    "\n",
    "#      Mean ≈ 177.05\n",
    "\n",
    "# Calculate the Median:\n",
    "#     First, arrange the data in ascending order:\n",
    "#     172.5, 175, 175, 176, 176, 176, 177, 177, 177, 178, 178, 178, 178, 178.2, 178.9, 180\n",
    "\n",
    "#     Since there are 16 values (an even number), the median will be the average of the two middle values:\n",
    "\n",
    "#     Median = (177 + 178) / 2\n",
    "#     Median = 177.5\n",
    "\n",
    "# Calculate the Mode:\n",
    "#      The mode is the value that appears most frequently in the dataset. In this case, the mode is the value that occurs the most times. You can see that 178 appears five times, which is more frequent than any other value.\n",
    "\n",
    "#     Mode = 178"
   ]
  },
  {
   "cell_type": "code",
   "execution_count": 5,
   "id": "4a9eb5c9-aa1f-4897-94ce-cbe1d2798480",
   "metadata": {},
   "outputs": [],
   "source": [
    "# Q4. Find the standard deviation for the given data:\n",
    "# [178,177,176,177,178.2,178,175,179,180,175,178.9,176.2,177,172.5,178,176.5]\n",
    "# Ans:-Mean = 177.05 (as calculated previously)\n",
    "\n",
    "# Find the squared differences and sum them:\n",
    "\n",
    "# Squared differences:\n",
    "# (178 - 177.05)^2 = 0.9025\n",
    "# (177 - 177.05)^2 = 0.0025\n",
    "# (176 - 177.05)^2 = 1.1025\n",
    "# (177 - 177.05)^2 = 0.0025\n",
    "# (178.2 - 177.05)^2 = 1.3025\n",
    "# (178 - 177.05)^2 = 0.9025\n",
    "# (175 - 177.05)^2 = 4.2025\n",
    "# (179 - 177.05)^2 = 3.8025\n",
    "# (180 - 177.05)^2 = 8.6825\n",
    "# (175 - 177.05)^2 = 4.2025\n",
    "# (178.9 - 177.05)^2 = 3.4225\n",
    "# (176.2 - 177.05)^2 = 0.7225\n",
    "# (177 - 177.05)^2 = 0.0025\n",
    "# (172.5 - 177.05)^2 = 20.5025\n",
    "# (178 - 177.05)^2 = 0.9025\n",
    "# (176.5 - 177.05)^2 = 0.3025\n",
    "\n",
    "# Sum of squared differences = 49.7200\n",
    "\n",
    "# Divide the sum by the number of data points (n = 16):\n",
    "# Variance = 49.7200 / 16 = 3.1075\n",
    "\n",
    "# Take the square root of the variance to find the standard deviation:\n",
    "# Standard Deviation ≈ √3.1075 ≈ 1.7603 (rounded to four decimal places)"
   ]
  },
  {
   "cell_type": "code",
   "execution_count": 6,
   "id": "6e439167-d415-4ae2-b6af-9ad1b48ef243",
   "metadata": {},
   "outputs": [],
   "source": [
    "# Q5. How are measures of dispersion such as range, variance, and standard deviation used to describe\n",
    "# the spread of a dataset? Provide an example"
   ]
  },
  {
   "cell_type": "code",
   "execution_count": 7,
   "id": "2ba8ad8a-53b9-4ab0-a3a3-f797845a536c",
   "metadata": {},
   "outputs": [],
   "source": [
    "# Q6. What is a Venn diagram?\n",
    "# A Venn diagram is a graphical representation used to depict the relationships and\n",
    "# commonalities between different sets or groups. It consists of overlapping circles, each \n",
    "# representing a set or a category. Venn diagrams are a useful tool for visualizing the \n",
    "# intersections and differences among sets and helping to illustrate concepts related to set theory, logic, and data analysis."
   ]
  },
  {
   "cell_type": "code",
   "execution_count": 9,
   "id": "2d149797-402b-4753-9a78-b23b9239200b",
   "metadata": {},
   "outputs": [],
   "source": [
    "# Q7. For the two given sets A = (2,3,4,5,6,7) & B = (0,2,6,8,10). Find:\n",
    "#     (i) A intersecetion B\n",
    "#     (ii) A union B\n",
    "# Ans :- i. {2,6}\n",
    "#        ii.{2,3,4,5,6,7,0,8,10}"
   ]
  },
  {
   "cell_type": "code",
   "execution_count": 11,
   "id": "41f66d9c-1e40-4767-a79a-fc598198607d",
   "metadata": {},
   "outputs": [],
   "source": [
    "#Q8. What do you understand about skewness in data?\n",
    "# Ans:-Skewness in data is a statistical measure that describes the asymmetry \n",
    "# or lack of symmetry in the distribution of values within a dataset. \n",
    "# It provides insight into the shape of the distribution, particularly\n",
    "# the direction and extent to which the data is skewed (deviates from a symmetrical, bell-shaped curve)."
   ]
  },
  {
   "cell_type": "code",
   "execution_count": 12,
   "id": "35dd22d9-4500-49f0-8e03-862d4f1c8628",
   "metadata": {},
   "outputs": [],
   "source": [
    "# Q9. If a data is right skewed then what will be the position of median with respect to mean?\n",
    "# Ans:-mean>=median>=mode"
   ]
  },
  {
   "cell_type": "code",
   "execution_count": 15,
   "id": "cf9bb807-4ef6-4eeb-b794-a60fb26e2591",
   "metadata": {},
   "outputs": [],
   "source": [
    "# Q10. Explain the difference between covariance and correlation. How are these measures used in\n",
    "# statistical analysis?\n",
    "#Ans:-\n",
    "\n",
    "# 1.Covariance:- and correlation are both measures used in statistics to describe the relationship between two variables, but they serve slightly different purposes and have distinct characteristics.\n",
    "# Covariance is a measure that quantifies how two random variables change together. It assesses whether an increase in one variable corresponds to an increase or decrease in another.\n",
    "# The formula for calculating the covariance between two variables X and Y in a dataset is:\n",
    "# Cov(X, Y) = Σ [(Xᵢ - X̄) * (Yᵢ - Ȳ)] / (n - 1)\n",
    "# Covariance can be positive, negative, or zero:\n",
    "# Positive covariance (Cov(X, Y) > 0) indicates that as one variable increases, the other tends to increase as well.\n",
    "# Negative covariance (Cov(X, Y) < 0) indicates that as one variable increases, the other tends to decrease.\n",
    "# Zero covariance (Cov(X, Y) ≈ 0) suggests no linear relationship between the variables.\n",
    "# The problem with covariance is that its magnitude depends on the units of the variables, making it difficult to compare across different datasets.\n",
    "# 2.Correlation:\n",
    "# Correlation is a standardized measure of the strength and direction of the linear relationship between two variables. It provides a value between -1 and 1, where -1 represents a perfect negative linear relationship, 1 represents a perfect positive linear relationship, and 0 represents no linear relationship.\n",
    "# The most common measure of correlation is the Pearson correlation coefficient (r), which is calculated as:\n",
    "# r = (Σ [(Xᵢ - X̄) * (Yᵢ - Ȳ)]) / [√Σ(Xᵢ - X̄)² * Σ(Yᵢ - Ȳ)²]\n",
    "# Unlike covariance, correlation is unitless and standardized, making it easier to compare across datasets.\n",
    "# Correlation quantifies the degree to which two variables move together and the strength of the linear association between them.\n",
    "# Correlation does not imply causation, but it helps identify the direction and strength of a linear relationship."
   ]
  },
  {
   "cell_type": "code",
   "execution_count": 16,
   "id": "35f11d12-8ef3-43c3-aff6-eb0df04c41da",
   "metadata": {},
   "outputs": [],
   "source": [
    "# Q11. What is the formula for calculating the sample mean? Provide an example calculation for a\n",
    "# dataset.\n",
    "# The formula for calculating the sample mean (also known as the average) is:\n",
    "\n",
    "# Sample Mean (X̄) = (Σx) / n\n",
    "\n",
    "# Where:\n",
    "\n",
    "# X̄ represents the sample mean.\n",
    "# Σx denotes the sum of all the individual data points in the sample.\n",
    "# n is the number of data points in the sample.\n",
    "# Here's an example calculation of the sample mean for a dataset:\n",
    "\n",
    "# Dataset: 12, 15, 18, 20, 22\n",
    "\n",
    "# Calculate the sum of the data points (Σx):\n",
    "# Σx = 12 + 15 + 18 + 20 + 22\n",
    "# Σx = 87\n",
    "\n",
    "# Determine the number of data points (n), which is 5 in this case.\n",
    "\n",
    "# Calculate the sample mean (X̄) using the formula:\n",
    "# X̄ = Σx / n\n",
    "# X̄ = 87 / 5\n",
    "# X̄ = 17.4"
   ]
  },
  {
   "cell_type": "code",
   "execution_count": 17,
   "id": "0ba32e19-977b-4cd5-b4c1-802a360ce829",
   "metadata": {},
   "outputs": [],
   "source": [
    "#Q12. For a normal distribution data what is the relationship between its measure of central tendency?\n",
    "#ans:- here mean=median=mode "
   ]
  },
  {
   "cell_type": "code",
   "execution_count": 18,
   "id": "8eb10113-de2f-4108-8cab-b47643493f71",
   "metadata": {},
   "outputs": [],
   "source": [
    "#Q13. How is covariance different from correlation?\n",
    "# Ans:-Covariance and correlation are both statistical measures that describe the relationship between two variables,\n",
    "# but they have key differences in terms of their interpretation, scale, and usefulness:\n",
    "#     1.Scale and Interpretation:\n",
    "#     2.units\n",
    "#     3.Range\n",
    "#     4.Interpretability:"
   ]
  },
  {
   "cell_type": "code",
   "execution_count": 19,
   "id": "6fa6f7b7-e2d9-4044-b183-516c200003d7",
   "metadata": {},
   "outputs": [],
   "source": [
    "#Q14. How do outliers affect measures of central tendency and dispersion? Provide an example.\n",
    "Ans:outlier also effect because in the medain we find middle value but outlier gives huge amount value\n",
    "    eg:-{1,2,3,4,5}\n",
    "    medain - 3,\n",
    "    eg:-"
   ]
  },
  {
   "cell_type": "code",
   "execution_count": null,
   "id": "9759bffd-ec23-4d56-9240-b1bcb054792b",
   "metadata": {},
   "outputs": [],
   "source": []
  }
 ],
 "metadata": {
  "kernelspec": {
   "display_name": "Python 3 (ipykernel)",
   "language": "python",
   "name": "python3"
  },
  "language_info": {
   "codemirror_mode": {
    "name": "ipython",
    "version": 3
   },
   "file_extension": ".py",
   "mimetype": "text/x-python",
   "name": "python",
   "nbconvert_exporter": "python",
   "pygments_lexer": "ipython3",
   "version": "3.10.8"
  }
 },
 "nbformat": 4,
 "nbformat_minor": 5
}
