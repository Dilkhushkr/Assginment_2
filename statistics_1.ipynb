{
 "cells": [
  {
   "cell_type": "code",
   "execution_count": 2,
   "id": "923af776-2922-461d-8593-6a592f20a0c2",
   "metadata": {},
   "outputs": [],
   "source": [
    "# Q1. What is Statistics?\n",
    "#Ans :- Statistics is the science of collection , organizing and analyzing data"
   ]
  },
  {
   "cell_type": "code",
   "execution_count": 4,
   "id": "6f0e562c-8132-48fe-b99e-cdf44cb5d968",
   "metadata": {},
   "outputs": [],
   "source": [
    "# Q2. Define the different types of statistics and give an example of when each type might be used.\n",
    "# Ans: - there are two types of statistics:-\n",
    "#   1.Descriptive Statistics:-\n",
    "#Eg:- If we want to find out average value of any types of data \n",
    "#   2.Inferential Statistics:-\n",
    "#Eg:-Here We compare to Population data and sample data "
   ]
  },
  {
   "cell_type": "code",
   "execution_count": 5,
   "id": "acd8e360-4649-4c20-a9b7-db937581def8",
   "metadata": {},
   "outputs": [],
   "source": [
    "# Q3. What are the different types of data and how do they differ from each other? Provide an example of\n",
    "# each type of data."
   ]
  },
  {
   "cell_type": "code",
   "execution_count": 6,
   "id": "0eab6451-fcd9-4a78-8dd5-885e2c574664",
   "metadata": {},
   "outputs": [],
   "source": [
    "# Ans:-There are two types of data :\n",
    "#     1.Quantitative :- in this case  numericale data  will be\n",
    "#         here i. Discrete:-\n",
    "#             in this case we can take whole no :\n",
    "#                 Eg:-No of kids\n",
    "#              ii.Continuous:-\n",
    "#                 in this case we can take any no :-\n",
    "#                 Eg:-Weight \n",
    "#                     Height\n",
    "                \n",
    "#     2.Qualitaive :- in this case Categorical data will be\n",
    "#       here i.Nominal:-in this case there are no any types of rank\n",
    "#             Eg: male and female ,pincode, blood group\n",
    "#            ii.Ordinal:in this case rank matters \n",
    "#             Eg:- Good\n",
    "#                 Best\n",
    "#                 Batter"
   ]
  },
  {
   "cell_type": "code",
   "execution_count": 7,
   "id": "7522ec92-bc90-4002-9ab0-644fe3602f99",
   "metadata": {},
   "outputs": [],
   "source": [
    "# Q4. Categorise the following datasets with respect to quantitative and qualitative data types:\n",
    "# (i) Grading in exam: A+, A, B+, B, C+, C, D, E\n",
    "# (ii) Colour of mangoes: yellow, green, orange, red\n",
    "# (iii) Height data of a class: [178.9, 179, 179.5, 176, 177.2, 178.3, 175.8,...]\n",
    "# (iv) Number of mangoes exported by a farm: [500, 600, 478, 672, ...]"
   ]
  },
  {
   "cell_type": "code",
   "execution_count": 8,
   "id": "7d4ac7be-6473-434f-8bf7-37a9c0a08112",
   "metadata": {},
   "outputs": [],
   "source": [
    "# Ans:- \n",
    "#       i.Qualitaive:-Ordinal\n",
    "#       ii.Qualitaive-Nominal\n",
    "#       iii.Quantitative-Continuous\n",
    "#       iv.Quantitative-Discrete"
   ]
  },
  {
   "cell_type": "code",
   "execution_count": 9,
   "id": "192f5843-1cae-47d1-b426-919ae118f1e6",
   "metadata": {},
   "outputs": [],
   "source": [
    "# Q5. Explain the concept of levels of measurement and give an example of a variable for each level.\n",
    "# Ans : - \n",
    "#     There are four level measurement :\n",
    "#         1.Nominal:- \n",
    "#         i.In this case Qualitaive comes \n",
    "#         ii. Order does not metter\n",
    "#         Eg:- Red,Blue,Orange    \n",
    "#         2.Ordinal:-\n",
    "#         i.In this case order matters \n",
    "#         ii.but difference does not matter\n",
    "#         Eg:- Good,Best,Better\n",
    "#         3.Interval:-\n",
    "#          i.In this case order matters \n",
    "#          ii. ii.but difference matters\n",
    "#          iii.Ratio does not matter\n",
    "#          iv. start point can not be '0'\n",
    "#          Eg:- \n",
    "#            30f,60f,90f,120f\n",
    "#         4.Ratio:-\n",
    "#         i.In this case order matters \n",
    "#          ii.but difference matters\n",
    "#          iii.Ratio  matters\n",
    "#          iv. start point can be '0'\n",
    "#             Eg:30,40,50,60,70,80,90"
   ]
  },
  {
   "cell_type": "code",
   "execution_count": 10,
   "id": "63896776-b649-403b-b5ba-ac7d03252689",
   "metadata": {},
   "outputs": [],
   "source": [
    "# # Q6. Why is it important to understand the level of measurement when analyzing data? Provide an\n",
    "# # example to illustrate your answer.\n",
    "# Ans:-\n",
    "# Understanding the level of measurement is crucial when analyzing data because it determines\n",
    "# the mathematical operations that can be performed on the data and the types of statistical analyses that are appropriate.\n",
    "# The level of measurement refers to the nature of the data and the properties it possesses,\n",
    "# and it can be classified into four types: nominal, ordinal, interval, and ratio."
   ]
  },
  {
   "cell_type": "code",
   "execution_count": 11,
   "id": "b2bc3f20-799b-4cb7-aff0-bac1e209f36d",
   "metadata": {},
   "outputs": [],
   "source": [
    "# Q7. How nominal data type is different from ordinal data type.\n",
    "# Ans:- In the nominal case has no rank on data \n",
    "#      like : coloure,sex and etc.\n",
    "#     In the ordinal case has rank \n",
    "#     like: Good better best"
   ]
  },
  {
   "cell_type": "code",
   "execution_count": 13,
   "id": "1909b1ed-3e49-42fd-ad2d-69307a407565",
   "metadata": {},
   "outputs": [],
   "source": [
    "# Q8. Which type of plot can be used to display data in terms of range?\n",
    "# Ans:-\n",
    "#     A box plot (also known as a box-and-whisker plot) is a type of plot that is particularly useful for displaying data in terms of its range.\n",
    "#     A box plot provides a visual representation of the distribution of a dataset and highlights key statistical measures such as the median, quartiles, and potential outliers."
   ]
  },
  {
   "cell_type": "code",
   "execution_count": 14,
   "id": "b530a33d-bddf-4d5d-97d1-514a1084002b",
   "metadata": {},
   "outputs": [],
   "source": [
    "# Q.9 Q9. Describe the difference between descriptive and inferential statistics. Give an example of each\n",
    "# type of statistics and explain how they are used.\n",
    "# Descriptive Statistics:\n",
    "\n",
    "# Descriptive statistics involve the organization, summarization, and presentation of data in a meaningful way. \n",
    "# These statistics provide a summary of the main aspects of a dataset without making inferences about a larger population.\n",
    "# Descriptive statistics are used to describe and understand the main features of a dataset.\n",
    "\n",
    "# Example:\n",
    "# Suppose you have a dataset of exam scores for a class of students.\n",
    "# Descriptive statistics for this dataset would include measures such as the mean (average) score,\n",
    "# median (middle score), range (difference between the highest and lowest scores),\n",
    "# and standard deviation (a measure of the spread of scores). These statistics help you understand the central tendency, variability,\n",
    "# and distribution of scores within the class.\n",
    "\n",
    "# Inferential Statistics:\n",
    "\n",
    "# Inferential statistics involve making predictions or inferences about a population based on a sample of data taken from that population.\n",
    "# Instead of describing the sample itself, inferential statistics allow you to generalize the findings to a larger population and make statements or predictions about it.\n",
    "\n",
    "# Example:\n",
    "# Suppose you want to know the average height of all students in a school but it's not feasible to measure every student.\n",
    "# Instead, you take a random sample of 100 students and calculate the mean height of this sample.\n",
    "# Inferential statistics would then allow you to make a statement like,\n",
    "# \"We are 95% confident that the true average height of all students in the school is between X and Y based on our sample data.\" Here, you're using the sample to make an inference about the entire population."
   ]
  },
  {
   "cell_type": "code",
   "execution_count": 15,
   "id": "7a035e07-5481-4ef0-8db7-f8c1161f1288",
   "metadata": {},
   "outputs": [],
   "source": [
    "# Q10. What are some common measures of central tendency and variability used in statistics? Explain\n",
    "# how each measure can be used to describe a dataset."
   ]
  },
  {
   "cell_type": "code",
   "execution_count": null,
   "id": "8422bc77-0672-429b-936f-348de1c8f1b5",
   "metadata": {},
   "outputs": [],
   "source": [
    "Ans :- In this case we find the mid value of data set there"
   ]
  }
 ],
 "metadata": {
  "kernelspec": {
   "display_name": "Python 3 (ipykernel)",
   "language": "python",
   "name": "python3"
  },
  "language_info": {
   "codemirror_mode": {
    "name": "ipython",
    "version": 3
   },
   "file_extension": ".py",
   "mimetype": "text/x-python",
   "name": "python",
   "nbconvert_exporter": "python",
   "pygments_lexer": "ipython3",
   "version": "3.10.8"
  }
 },
 "nbformat": 4,
 "nbformat_minor": 5
}
