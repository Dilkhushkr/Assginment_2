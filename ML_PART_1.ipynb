{
 "cells": [
  {
   "cell_type": "code",
   "execution_count": 1,
   "id": "f6865d93-0735-4b85-b0f6-a1e805389ecd",
   "metadata": {},
   "outputs": [],
   "source": [
    "# Q.1 Explain the following with an example:\n",
    "#     1.Artificial intelligence\n",
    "#     2.Machine learning\n",
    "#     3.Deep learning"
   ]
  },
  {
   "cell_type": "code",
   "execution_count": 2,
   "id": "bae884de-662c-459a-990e-7ce4ed230e9e",
   "metadata": {},
   "outputs": [],
   "source": [
    "# Ans:\n",
    "#     1.Artificial intelligence:-AI is a human made instrument whice works like human when it works there is no need human \n",
    "#     2.Machine learning:- machine learing all depends upon algorithm through the ML computer can learn and make decision without programming\n",
    "#     3.Deep learning:- Through the deep learning we make  real world understanding in computer"
   ]
  },
  {
   "cell_type": "code",
   "execution_count": 3,
   "id": "03e8c7ad-b5f4-4253-b9d2-d7f8093f62a4",
   "metadata": {},
   "outputs": [],
   "source": [
    "# Q.2 What is supervised learning ? list some example of supervised learning?"
   ]
  },
  {
   "cell_type": "code",
   "execution_count": 1,
   "id": "1e17b7a6-e0cb-4840-8861-7e4ab6cca965",
   "metadata": {},
   "outputs": [],
   "source": [
    "# Ans:- In the supervised learning we know that what is output of any particular operation\n",
    "# EX:- Play_hours       Study_hours      Pass/Fail\n",
    "#        4                 1              Fail\n",
    "#        2                 3              Pass"
   ]
  },
  {
   "cell_type": "code",
   "execution_count": 2,
   "id": "763b6f91-6017-4a1c-b41c-5174bea06fc4",
   "metadata": {},
   "outputs": [],
   "source": [
    "#Q3. what is unsupervised learning? List some example of unsupervised learning?\n",
    "# Ans :- in this case we do not what is output after puting the input we perform group of data like cluster \n",
    "# exaple :- we have a mix group of data but the out put will come a group in like cluster"
   ]
  },
  {
   "cell_type": "code",
   "execution_count": 3,
   "id": "655c4ad6-ec8b-4c89-b510-c86bd96e9696",
   "metadata": {},
   "outputs": [],
   "source": [
    "# Q4. What is the difference between AI,ML,and DL,and DS?\n",
    "# Ans:-\n",
    "#     AI:- This is whole project it like works human\n",
    "#     ML:-this is part of AI and through the this ML computer can take dicision and understand new thing\n",
    "#     DL:- through the DL we teach of computer new new thing it like branin of computer\n",
    "#     DS:-in this case we learn on the new new data but it is subset of all the case like AI,ML,DL,DS"
   ]
  },
  {
   "cell_type": "code",
   "execution_count": 4,
   "id": "7751bf32-769e-45cb-9ce6-73b68cccf672",
   "metadata": {},
   "outputs": [],
   "source": [
    "# Q5. What is main differences between supervised,unsupervised,and semi-supervised,learning?\n",
    "# Ans:-\n",
    "#     supervised:-in this case we already know what will the output\n",
    "#     unsupervised:-in the case we do not what will output we performe group of data\n",
    "#     semi-supervised:supervised+unsupervised"
   ]
  },
  {
   "cell_type": "code",
   "execution_count": 8,
   "id": "4f4fb0e4-72bf-4e8a-9604-c6cc611e2452",
   "metadata": {},
   "outputs": [],
   "source": [
    "#Q.6 what is train,test and validation split? Explain the importance of each term.\n",
    "#Ans:-\n",
    "   # Train:- In this case we will train the data means like before the exam we do the prepartion to any book\n",
    "   #  validation:-In this case we do new thing in the data like after prepartion we solve different-differnet Questions\n",
    "   #  Test:-in this last point we see the how much data has tarined "
   ]
  },
  {
   "cell_type": "code",
   "execution_count": 9,
   "id": "24f70b03-b8a8-43e7-a68d-4ad6a772d099",
   "metadata": {},
   "outputs": [],
   "source": [
    "# #Q.7 How can unsupervised learning be used in anomaly detection?\n",
    "#      Clustering-based Anomaly Detection:\n",
    "#      Principal Component Analysis\n",
    "#      Autoencoders:\n",
    "#      Isolation Forest:\n",
    "#      One-Class SVM\n",
    "#      Histogram-based Techniques:\n",
    "#      Statistical Approaches:"
   ]
  },
  {
   "cell_type": "code",
   "execution_count": null,
   "id": "150e748d-a214-41d0-9049-41a9e67c3444",
   "metadata": {},
   "outputs": [],
   "source": [
    "# Q.8 List Down some commonly used supervised learning algorithms and unsupervised learning algorithms"
   ]
  }
 ],
 "metadata": {
  "kernelspec": {
   "display_name": "Python 3 (ipykernel)",
   "language": "python",
   "name": "python3"
  },
  "language_info": {
   "codemirror_mode": {
    "name": "ipython",
    "version": 3
   },
   "file_extension": ".py",
   "mimetype": "text/x-python",
   "name": "python",
   "nbconvert_exporter": "python",
   "pygments_lexer": "ipython3",
   "version": "3.10.8"
  }
 },
 "nbformat": 4,
 "nbformat_minor": 5
}
