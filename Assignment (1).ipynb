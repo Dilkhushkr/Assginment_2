{
 "cells": [
  {
   "cell_type": "code",
   "execution_count": 1,
   "id": "3e37faba-68f4-43f4-9de1-6a47f22796c8",
   "metadata": {},
   "outputs": [],
   "source": [
    "# Q.1 Exaplin Class and Object with respect to oop. Give a suitable example \n",
    "# Ans :class is a templete of object but object is a real world thing "
   ]
  },
  {
   "cell_type": "code",
   "execution_count": 14,
   "id": "b9b19bd5-d9bc-4481-992e-a460a9f6e971",
   "metadata": {},
   "outputs": [],
   "source": [
    "class main:\n",
    "    def test(self):\n",
    "        print(\"Hello\")"
   ]
  },
  {
   "cell_type": "code",
   "execution_count": 15,
   "id": "defd412e-4e00-493e-95d2-30843c15e71b",
   "metadata": {},
   "outputs": [],
   "source": [
    "obj = main()"
   ]
  },
  {
   "cell_type": "code",
   "execution_count": 16,
   "id": "deb75059-8e78-4d1d-a07b-14256050462f",
   "metadata": {},
   "outputs": [
    {
     "name": "stdout",
     "output_type": "stream",
     "text": [
      "Hello\n"
     ]
    }
   ],
   "source": [
    "obj.test()"
   ]
  },
  {
   "cell_type": "code",
   "execution_count": 17,
   "id": "9e19c9b3-ad2d-4953-943e-c1388846986d",
   "metadata": {},
   "outputs": [],
   "source": [
    "#Q.2 Name of four pillars of oops.\n",
    "# Ans : - i.abstraction,ii.inharitance ,iii.encapsulation,iv. polymorphism"
   ]
  },
  {
   "cell_type": "code",
   "execution_count": 18,
   "id": "2b7105c0-312f-433f-a308-a8d91d3fccc2",
   "metadata": {},
   "outputs": [],
   "source": [
    "# Q.3 Exaplain why  the __init__() function is used . Give  a suitable example \n",
    "# Ans : - __init__() is a constructror means object creation time if you want to pass argument so this function we can use "
   ]
  },
  {
   "cell_type": "code",
   "execution_count": 21,
   "id": "93d96a38-891b-4ba8-9f4d-a0b5de28ad70",
   "metadata": {},
   "outputs": [],
   "source": [
    "class test:\n",
    "    def __init__(self,a,b):\n",
    "        self.a=a\n",
    "        self.b=b"
   ]
  },
  {
   "cell_type": "code",
   "execution_count": 22,
   "id": "2c22954a-eb2f-49e1-a4e7-455751c07a18",
   "metadata": {},
   "outputs": [],
   "source": [
    "obj   = test(10,20)"
   ]
  },
  {
   "cell_type": "code",
   "execution_count": 23,
   "id": "1e4dc143-bef4-4272-82fa-7f915bdab1a2",
   "metadata": {},
   "outputs": [
    {
     "data": {
      "text/plain": [
       "10"
      ]
     },
     "execution_count": 23,
     "metadata": {},
     "output_type": "execute_result"
    }
   ],
   "source": [
    "obj.a"
   ]
  },
  {
   "cell_type": "code",
   "execution_count": 24,
   "id": "156ae8ae-a404-42a4-a389-520e19077f7b",
   "metadata": {},
   "outputs": [
    {
     "data": {
      "text/plain": [
       "20"
      ]
     },
     "execution_count": 24,
     "metadata": {},
     "output_type": "execute_result"
    }
   ],
   "source": [
    "obj.b"
   ]
  },
  {
   "cell_type": "code",
   "execution_count": 25,
   "id": "3b9f3c92-7fdd-404a-9ab8-706aff952892",
   "metadata": {},
   "outputs": [],
   "source": [
    "# 4 . why self  is used in opps "
   ]
  },
  {
   "cell_type": "code",
   "execution_count": 26,
   "id": "5d62e0ad-295d-420c-b36a-23499392c37a",
   "metadata": {},
   "outputs": [],
   "source": [
    "# Ans : - self is not a keyword  it use just making understand class to variable through the self in interct ot the class"
   ]
  },
  {
   "cell_type": "code",
   "execution_count": 27,
   "id": "510b6eb7-6503-488b-8e4b-f13aca94fba7",
   "metadata": {},
   "outputs": [],
   "source": [
    "# Q.5 :- What is inheritance ? Give an example for each type of inheritance \n",
    "# Ans :- inheritance means if you inherit all parents class in child class is called inheritance \n",
    "      # i. single inheritance \n",
    "      # ii.multiple inheritance \n",
    "      # iii.multlevel inheritance \n",
    "      # iv.Hierarchical Inheritance\n",
    "      # v.Hybrid Inheritance"
   ]
  },
  {
   "cell_type": "code",
   "execution_count": 37,
   "id": "5000f54a-fd92-414d-b90b-600e0d70d700",
   "metadata": {},
   "outputs": [],
   "source": [
    "# single inheritance \n",
    "class  test:\n",
    "    def meth(self):\n",
    "        print(\"inheritance testing \")"
   ]
  },
  {
   "cell_type": "code",
   "execution_count": 38,
   "id": "a6eb6858-a6e2-4a80-9131-949c7fe3280a",
   "metadata": {},
   "outputs": [],
   "source": [
    "class test1(test):\n",
    "    pass"
   ]
  },
  {
   "cell_type": "code",
   "execution_count": 39,
   "id": "e7e3c948-bdfc-44b7-80be-fa48830c042b",
   "metadata": {},
   "outputs": [],
   "source": [
    "obj = test1()"
   ]
  },
  {
   "cell_type": "code",
   "execution_count": 40,
   "id": "367887df-afec-4361-b7f8-1721709e0351",
   "metadata": {},
   "outputs": [
    {
     "name": "stdout",
     "output_type": "stream",
     "text": [
      "inheritance testing \n"
     ]
    }
   ],
   "source": [
    "obj.meth()"
   ]
  },
  {
   "cell_type": "code",
   "execution_count": 47,
   "id": "5b55478b-399b-4fcb-b756-bd34bf963b64",
   "metadata": {},
   "outputs": [],
   "source": [
    "# multiple inheritance \n",
    "class multi:\n",
    "    def multi_test(self):\n",
    "        print(\"hello how are you\")"
   ]
  },
  {
   "cell_type": "code",
   "execution_count": 48,
   "id": "bb8a9611-4dc8-4ef1-8bf3-304a275c20ed",
   "metadata": {},
   "outputs": [],
   "source": [
    "class multi2:\n",
    "    def mutli_test2(self):\n",
    "        print(\"i am fine bro\")"
   ]
  },
  {
   "cell_type": "code",
   "execution_count": 49,
   "id": "b720019e-7962-411b-ad33-a89c7d0766fb",
   "metadata": {},
   "outputs": [],
   "source": [
    "class test(multi,multi2):\n",
    "    pass"
   ]
  },
  {
   "cell_type": "code",
   "execution_count": 50,
   "id": "664d30e7-5e3b-4edd-9eab-846be43e483c",
   "metadata": {},
   "outputs": [],
   "source": [
    "obj = test()"
   ]
  },
  {
   "cell_type": "code",
   "execution_count": 51,
   "id": "8f3659a9-bde0-4512-8073-59ac36763917",
   "metadata": {},
   "outputs": [
    {
     "name": "stdout",
     "output_type": "stream",
     "text": [
      "hello how are you\n"
     ]
    }
   ],
   "source": [
    "obj.multi_test()"
   ]
  },
  {
   "cell_type": "code",
   "execution_count": 52,
   "id": "cf48c27c-905e-49d0-8440-810c9c088398",
   "metadata": {},
   "outputs": [
    {
     "name": "stdout",
     "output_type": "stream",
     "text": [
      "i am fine bro\n"
     ]
    }
   ],
   "source": [
    "obj.mutli_test2()"
   ]
  },
  {
   "cell_type": "code",
   "execution_count": null,
   "id": "4f03958a-e799-4ee2-a39c-675309fbcde0",
   "metadata": {},
   "outputs": [],
   "source": []
  }
 ],
 "metadata": {
  "kernelspec": {
   "display_name": "Python 3 (ipykernel)",
   "language": "python",
   "name": "python3"
  },
  "language_info": {
   "codemirror_mode": {
    "name": "ipython",
    "version": 3
   },
   "file_extension": ".py",
   "mimetype": "text/x-python",
   "name": "python",
   "nbconvert_exporter": "python",
   "pygments_lexer": "ipython3",
   "version": "3.10.8"
  }
 },
 "nbformat": 4,
 "nbformat_minor": 5
}
