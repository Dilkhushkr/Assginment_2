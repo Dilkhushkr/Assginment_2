{
 "cells": [
  {
   "cell_type": "code",
   "execution_count": 3,
   "id": "d4aaf956-3619-4711-b903-bf4d86f87c74",
   "metadata": {},
   "outputs": [],
   "source": [
    "# Q.1 what is Abstraction in oops? Explain with an example .\n",
    "# ans :- Abstraction is way to hinding internal data from outer world ."
   ]
  },
  {
   "cell_type": "code",
   "execution_count": 11,
   "id": "721deb1d-b931-4cb4-bb83-ef0dde495108",
   "metadata": {},
   "outputs": [],
   "source": [
    "import abc\n",
    "class pwskills:\n",
    "    @abc.abstractmethod\n",
    "    def student_details(self):\n",
    "        pass\n",
    "    @abc.abstractmethod\n",
    "    def student_assignment(self):\n",
    "        pass\n",
    "    "
   ]
  },
  {
   "cell_type": "code",
   "execution_count": 12,
   "id": "5008e190-c2d3-411d-885b-679c91993d69",
   "metadata": {},
   "outputs": [],
   "source": [
    "class student(pwskills):\n",
    "    def student_details(self):\n",
    "        return \"this is method for taking student details\"\n",
    "    def student_assignment(self):\n",
    "        return \"this is method for giving student details\""
   ]
  },
  {
   "cell_type": "code",
   "execution_count": 13,
   "id": "c410b41a-d1ab-412c-a623-c4dc811514ab",
   "metadata": {},
   "outputs": [],
   "source": [
    "s = student()"
   ]
  },
  {
   "cell_type": "code",
   "execution_count": 14,
   "id": "aa410ac7-7d91-44fd-9ade-c2a5fce7ee66",
   "metadata": {},
   "outputs": [
    {
     "data": {
      "text/plain": [
       "'this is method for giving student details'"
      ]
     },
     "execution_count": 14,
     "metadata": {},
     "output_type": "execute_result"
    }
   ],
   "source": [
    "s.student_assignment()"
   ]
  },
  {
   "cell_type": "code",
   "execution_count": 10,
   "id": "6b60d4a8-caf3-4cd7-9a2c-d080d4692b81",
   "metadata": {},
   "outputs": [
    {
     "data": {
      "text/plain": [
       "'this is method for taking student details'"
      ]
     },
     "execution_count": 10,
     "metadata": {},
     "output_type": "execute_result"
    }
   ],
   "source": [
    "s.student_details()"
   ]
  },
  {
   "cell_type": "code",
   "execution_count": 15,
   "id": "23e71cfe-cca9-453a-8608-a9b50a2eba2e",
   "metadata": {},
   "outputs": [],
   "source": [
    "# Q.2 Different between Abstraction and Encapsulation with an example ?\n",
    " # ans :- Abstraction is the method of hiding the unwanted information.\n",
    " #    Whereas encapsulation is a method to hide the data in a single entity or unit along with a method to protect information from outside."
   ]
  },
  {
   "cell_type": "code",
   "execution_count": 21,
   "id": "f4f6499d-75b5-4592-9322-2442f7d79401",
   "metadata": {},
   "outputs": [],
   "source": [
    "import abc\n",
    "class test:\n",
    "    def hide(self):\n",
    "        pass\n",
    "    def hide2(self):\n",
    "        pass\n",
    "    \n",
    "    "
   ]
  },
  {
   "cell_type": "code",
   "execution_count": 22,
   "id": "d22a0bdb-1cc3-401f-b7b3-f8eddbe8ffe8",
   "metadata": {},
   "outputs": [],
   "source": [
    "class test1(test):\n",
    "    def hide(self):\n",
    "        print(\"Only usre can see\")\n",
    "    def hide2(self):\n",
    "        print(\"this is for user\")\n",
    "    "
   ]
  },
  {
   "cell_type": "code",
   "execution_count": 23,
   "id": "a4b2413a-1600-4388-9f42-7a334fe42294",
   "metadata": {},
   "outputs": [],
   "source": [
    "obj = test1()"
   ]
  },
  {
   "cell_type": "code",
   "execution_count": 24,
   "id": "80becff6-8be5-4d19-b1cb-f46893ae1fa0",
   "metadata": {},
   "outputs": [
    {
     "name": "stdout",
     "output_type": "stream",
     "text": [
      "this is for user\n"
     ]
    }
   ],
   "source": [
    "obj.hide2()"
   ]
  },
  {
   "cell_type": "code",
   "execution_count": 25,
   "id": "4ee3faf4-ec1b-4905-9672-fba8fb61255a",
   "metadata": {},
   "outputs": [
    {
     "name": "stdout",
     "output_type": "stream",
     "text": [
      "Only usre can see\n"
     ]
    }
   ],
   "source": [
    "obj.hide()"
   ]
  },
  {
   "cell_type": "code",
   "execution_count": 27,
   "id": "e0dd066e-6b0d-46a5-a620-fc830dfee5d3",
   "metadata": {},
   "outputs": [],
   "source": [
    "class car:\n",
    "    def __init__(self,year,speed):\n",
    "        self.__year=year\n",
    "        self.__speed= speed\n",
    "    def set_speed(self,speed):\n",
    "        self.__speed = 0 if speed<0 else speed\n",
    "    def get_speed(self):\n",
    "        return self.__speed"
   ]
  },
  {
   "cell_type": "code",
   "execution_count": 28,
   "id": "12e5cac8-1541-4568-a4d5-fbf26bbe17e5",
   "metadata": {},
   "outputs": [],
   "source": [
    "c = car(2021,45)"
   ]
  },
  {
   "cell_type": "code",
   "execution_count": 29,
   "id": "fc866650-74ef-4503-bf6e-79886a680547",
   "metadata": {},
   "outputs": [],
   "source": [
    "c.set_speed(143)"
   ]
  },
  {
   "cell_type": "code",
   "execution_count": 31,
   "id": "4946bfc5-a1a4-4809-82d8-b5bd969cc87e",
   "metadata": {},
   "outputs": [
    {
     "data": {
      "text/plain": [
       "143"
      ]
     },
     "execution_count": 31,
     "metadata": {},
     "output_type": "execute_result"
    }
   ],
   "source": [
    "c.get_speed()"
   ]
  },
  {
   "cell_type": "code",
   "execution_count": 32,
   "id": "2967ad65-bab0-43ec-9fd5-6dfcb28d1115",
   "metadata": {},
   "outputs": [],
   "source": [
    "# Q.3  what is abc module in python? why is it used\n",
    "#Ans :- through the abc module we define the abstarct base classes and this a library"
   ]
  },
  {
   "cell_type": "code",
   "execution_count": 33,
   "id": "ef25f9fb-fe16-4ebd-88f1-1bc7c1edd512",
   "metadata": {},
   "outputs": [],
   "source": [
    "# Q.4 how can we achieve data abstraction\n",
    "from abc import ABC ,abstractmethod\n",
    "class  AbstractClass(ABC):\n",
    "    def abstract_method(self):\n",
    "        pass\n"
   ]
  },
  {
   "cell_type": "code",
   "execution_count": 34,
   "id": "9b4b8707-e258-4c9e-8e88-ead8c1b223ab",
   "metadata": {},
   "outputs": [],
   "source": [
    "class ConcreteClass1(AbstractClass):\n",
    "    def abstract_method(self):\n",
    "        print(\"this is my first abstract method\")"
   ]
  },
  {
   "cell_type": "code",
   "execution_count": 35,
   "id": "60451095-8eb2-4641-8f3b-e464980082ce",
   "metadata": {},
   "outputs": [],
   "source": [
    "obj = ConcreteClass1()"
   ]
  },
  {
   "cell_type": "code",
   "execution_count": 36,
   "id": "336e8f71-2663-4e76-8e9d-6864e0b32327",
   "metadata": {},
   "outputs": [
    {
     "name": "stdout",
     "output_type": "stream",
     "text": [
      "this is my first abstract method\n"
     ]
    }
   ],
   "source": [
    "obj.abstract_method()"
   ]
  },
  {
   "cell_type": "code",
   "execution_count": null,
   "id": "9fee61d8-7604-458a-b208-1c059b190ce8",
   "metadata": {},
   "outputs": [],
   "source": [
    "# Q.5 Can we create an instance of an abstract class ? Expalin your answer.\n",
    "ans:- no this is not possible we can not create abstract class os instance in pythone "
   ]
  }
 ],
 "metadata": {
  "kernelspec": {
   "display_name": "Python 3 (ipykernel)",
   "language": "python",
   "name": "python3"
  },
  "language_info": {
   "codemirror_mode": {
    "name": "ipython",
    "version": 3
   },
   "file_extension": ".py",
   "mimetype": "text/x-python",
   "name": "python",
   "nbconvert_exporter": "python",
   "pygments_lexer": "ipython3",
   "version": "3.10.8"
  }
 },
 "nbformat": 4,
 "nbformat_minor": 5
}
