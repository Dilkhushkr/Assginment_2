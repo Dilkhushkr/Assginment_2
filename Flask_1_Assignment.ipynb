{
 "cells": [
  {
   "cell_type": "code",
   "execution_count": 1,
   "id": "6c774a9b-f082-43d7-b079-b7f92de2ef58",
   "metadata": {},
   "outputs": [
    {
     "name": "stdout",
     "output_type": "stream",
     "text": [
      "Hello\n"
     ]
    }
   ],
   "source": [
    "print(\"Hello\")"
   ]
  },
  {
   "cell_type": "code",
   "execution_count": 2,
   "id": "f7fee327-9bc9-4ad7-b327-9b28b9723d1f",
   "metadata": {},
   "outputs": [],
   "source": [
    "# # Q1. What is Flask Framework? What are the advantages of Flask Framework?\n",
    "# Ans:-Flask is a micro web framework written in Python. It's lightweight and designed to be simple and easy to use, making it a popular choice for building web applications and APIs.\n",
    "# Here are some advantages of Flask:\n",
    "# 1.Lightweight: Flask is minimalist by design, providing just the essentials for web development. This simplicity makes it easy to learn and use.\n",
    "# 2.Flexibility: Flask allows developers to choose the components they need, such as templating engines, databases, and authentication methods, rather than imposing specific choices. This flexibility makes it suitable for a wide range of use cases.\n",
    "# 3.Extensibility: Flask is highly extensible, with a rich ecosystem of extensions available to add additional functionality as needed. These extensions cover areas such as authentication, database integration, and testing.\n",
    "# 4.Easy to Get Started: Flask has a simple and intuitive API, making it easy for developers to get started building web applications quickly.\n",
    "# 5.Integrated Development Server: Flask comes with a built-in development server, so you can start developing your application right away without needing to set up a separate server environment.\n",
    "# 6.Pythonic: Flask follows the principles of Python, making it familiar to Python developers and integrating seamlessly with other Python libraries and frameworks.\n",
    "# Overall, Flask's simplicity, flexibility, and extensibility make it a popular choice for building web applications and APIs in Python."
   ]
  },
  {
   "cell_type": "code",
   "execution_count": 3,
   "id": "994b571a-ebec-4ad2-b0a8-fd5858b4f661",
   "metadata": {},
   "outputs": [],
   "source": [
    "# Q2. Create a simple Flask application to display ‘Hello World!!’. Attach the screenshot of the output in\n",
    "# Jupyter Notebook.\n",
    "#Ans:-\n",
    "# from flask import Flask\n",
    "# tes = Flask(__name__)\n",
    "# @tes.route('/')\n",
    "# def hello():\n",
    "#     return \"Hello world!\"\n",
    "# if __name__==\"__main__\":\n",
    "#     tes.run(host=\"0.0.0.0\")"
   ]
  },
  {
   "cell_type": "code",
   "execution_count": 4,
   "id": "25dc0c1b-7059-4a26-b1ca-9a7f2fbfb4f3",
   "metadata": {},
   "outputs": [],
   "source": [
    "# # Q3. What is App routing in Flask? Why do we use app routes?\n",
    "# Ans :- In Flask, app routing refers to the mechanism by which you map URL patterns to view functions.\n",
    "# When a user requests a specific URL from your Flask application,\n",
    "# Flask uses these routes to determine which Python function should handle the request and generate the appropriate response."
   ]
  },
  {
   "cell_type": "code",
   "execution_count": 8,
   "id": "7da16460-96ba-4ee6-b671-459f1effcbee",
   "metadata": {},
   "outputs": [],
   "source": [
    "# Q4. Create a “/welcome” route to display the welcome message “Welcome to ABC Corporation” and a “/”\n",
    "# route to show the following details:\n",
    "# Company Name: ABC Corporation\n",
    "# Location: India\n",
    "# Contact Detail: 999-999-9999\n",
    "# Ans:-\n",
    "# from flask import Flask\n",
    "\n",
    "# # Create a Flask application\n",
    "# app = Flask(__name__)\n",
    "\n",
    "# # Define route for /welcome\n",
    "# @app.route('/welcome')\n",
    "# def welcome():\n",
    "#     return 'Welcome to ABC Corporation'\n",
    "\n",
    "# # Define route for /\n",
    "# @app.route('/')\n",
    "# def company_details():\n",
    "#     return '''Company Name: ABC Corporation\n",
    "# Location: India\n",
    "# Contact Detail: 999-999-9999'''\n",
    "\n",
    "# if __name__ == '__main__':\n",
    "#     app.run(debug=True)\n"
   ]
  },
  {
   "cell_type": "code",
   "execution_count": 6,
   "id": "1b1f3035-a4df-4361-a866-dc69f9f8f961",
   "metadata": {},
   "outputs": [],
   "source": [
    "# Q.Q5. What function is used in Flask for URL Building? Write a Python code to demonstrate the working of the url_for() function.\n",
    "# from flask import Flask, url_for\n",
    "\n",
    "# # Create a Flask application\n",
    "# app = Flask(__name__)\n",
    "\n",
    "# # Define route for a sample endpoint\n",
    "# @app.route('/user/<username>')\n",
    "# def profile(username):\n",
    "#     return f'Profile for {username}'\n",
    "\n",
    "# if __name__ == '__main__':\n",
    "#     with app.test_request_context():\n",
    "#         # Generate a URL for the 'profile' endpoint with the username parameter\n",
    "#         url = url_for('profile', username='john_doe')\n",
    "#         print('Generated URL:', url)\n"
   ]
  },
  {
   "cell_type": "code",
   "execution_count": null,
   "id": "51f0cc24-a944-48e6-9290-110fca7b1852",
   "metadata": {},
   "outputs": [],
   "source": []
  }
 ],
 "metadata": {
  "kernelspec": {
   "display_name": "Python 3 (ipykernel)",
   "language": "python",
   "name": "python3"
  },
  "language_info": {
   "codemirror_mode": {
    "name": "ipython",
    "version": 3
   },
   "file_extension": ".py",
   "mimetype": "text/x-python",
   "name": "python",
   "nbconvert_exporter": "python",
   "pygments_lexer": "ipython3",
   "version": "3.10.8"
  }
 },
 "nbformat": 4,
 "nbformat_minor": 5
}
