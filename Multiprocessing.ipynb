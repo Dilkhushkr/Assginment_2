{
 "cells": [
  {
   "cell_type": "code",
   "execution_count": 2,
   "id": "3198b20d-8d06-4bbb-b45c-ac0860ec3719",
   "metadata": {},
   "outputs": [],
   "source": [
    "# Q1. What is multiprocessing in python? Why is it useful?\n",
    "# Ans : - Multiprocessing in Python refers to a module in the Python standard library (multiprocessing) that allows ,\n",
    "# you to create and manage multiple processes concurrently within a Python program.\n",
    "# Each process runs independently and can execute its own code concurrently with other processes.\n",
    "#useful : -\n",
    "# Utilizing Multiple Cores\n",
    "# Parallelism\n",
    "# Isolation\n",
    "# Robustness"
   ]
  },
  {
   "cell_type": "code",
   "execution_count": 3,
   "id": "cae45eab-d7c6-45c9-9a7e-ea16fbfd1086",
   "metadata": {},
   "outputs": [],
   "source": [
    "# # Q2. What are the differences between multiprocessing and multithreading?\n",
    "# ans :-\n",
    "# Multiprocessing and multithreading are both techniques used for achieving concurrency in programs, \n",
    "# but they operate differently and have distinct characteristics. Here are the key differences between them\n",
    "# 1.Execution Model\n",
    "# 2.Resource Overhead\n",
    "# 3.Concurrency vs Parallelism\n",
    "# 4.Scalability\n",
    "# 5.Fault Isolation"
   ]
  },
  {
   "cell_type": "code",
   "execution_count": 11,
   "id": "1947c56c-1368-4011-9153-f9efff90310a",
   "metadata": {},
   "outputs": [
    {
     "name": "stdout",
     "output_type": "stream",
     "text": [
      "Task running in process with ID: 579\n",
      "Main process completed.\n"
     ]
    }
   ],
   "source": [
    "# Q3. Write a python code to create a process using the multiprocessing module.\n",
    "import multiprocessing\n",
    "import os\n",
    "def process_task():\n",
    "    process_id = os.getpid()\n",
    "    print(f\"Task running in process with ID: {process_id}\")\n",
    "process = multiprocessing.Process(target=process_task)\n",
    "process.start()\n",
    "process.join()\n",
    "print(\"Main process completed.\")"
   ]
  },
  {
   "cell_type": "code",
   "execution_count": 12,
   "id": "9ea1e476-9df8-41a4-8d3a-c4b82cbc06b4",
   "metadata": {},
   "outputs": [],
   "source": [
    "# Q4. What is a multiprocessing pool in python? Why is it used?"
   ]
  },
  {
   "cell_type": "code",
   "execution_count": 13,
   "id": "8ebc8f35-fd69-49fb-9472-43e784ce6967",
   "metadata": {},
   "outputs": [],
   "source": [
    "# A multiprocessing pool in Python, specifically in the multiprocessing module, is a convenient abstraction that provides a way to distribute tasks across multiple processes.\n",
    "# It allows you to parallelize the execution of a function across multiple input values by automatically creating a pool of worker processes."
   ]
  },
  {
   "cell_type": "code",
   "execution_count": 14,
   "id": "289508b5-530b-481e-ad9c-5f7330051c57",
   "metadata": {},
   "outputs": [],
   "source": [
    "# Q5. How can we create a pool of worker processes in python using the multiprocessing module?"
   ]
  },
  {
   "cell_type": "code",
   "execution_count": 16,
   "id": "342bb98f-1c78-468b-9eff-7dbc8edb1910",
   "metadata": {},
   "outputs": [
    {
     "name": "stdout",
     "output_type": "stream",
     "text": [
      "Result : [1, 4, 9, 16, 25]\n"
     ]
    }
   ],
   "source": [
    "def task_Function(x):\n",
    "    result = x*x\n",
    "    return result\n",
    "num_processes = multiprocessing.cpu_count()\n",
    "pool = multiprocessing.Pool(processes=num_processes)\n",
    "input_values = [1,2,3,4,5]\n",
    "result = pool.map(task_Function,input_values)\n",
    "pool.close()\n",
    "pool.join()\n",
    "print(\"Result :\",result)"
   ]
  },
  {
   "cell_type": "code",
   "execution_count": 17,
   "id": "2d4f218e-4bd7-462b-a5d8-9f9d733a9e76",
   "metadata": {},
   "outputs": [],
   "source": [
    "# Q6. Write a python program to create 4 processes, each process should print a different number using the\n",
    "# multiprocessing module in python."
   ]
  },
  {
   "cell_type": "code",
   "execution_count": 18,
   "id": "6636761b-5c3d-4a80-9845-31233ccb2beb",
   "metadata": {},
   "outputs": [],
   "source": [
    "import multiprocessing"
   ]
  },
  {
   "cell_type": "code",
   "execution_count": 19,
   "id": "a913f05c-2660-4f1b-ab02-336266973f99",
   "metadata": {},
   "outputs": [
    {
     "name": "stdout",
     "output_type": "stream",
     "text": [
      "Process 1: 1\n",
      "Process 2: 2\n",
      "Process 3: 3\n",
      "Process 4: 4\n",
      "All process have finished execution\n"
     ]
    }
   ],
   "source": [
    "def print_number(number):\n",
    "    print(f\"Process {number}: {number}\")\n",
    "numbers = [1,2,3,4]\n",
    "processes = []\n",
    "for num in numbers:\n",
    "    process = multiprocessing.Process(target=print_number, args=(num,))\n",
    "    processes.append(process)\n",
    "    process.start()\n",
    "for process in processes:\n",
    "    process.join()\n",
    "print(\"All process have finished execution\")"
   ]
  },
  {
   "cell_type": "code",
   "execution_count": null,
   "id": "f704b238-b2d7-4c4b-b70b-458b4091486e",
   "metadata": {},
   "outputs": [],
   "source": []
  }
 ],
 "metadata": {
  "kernelspec": {
   "display_name": "Python 3 (ipykernel)",
   "language": "python",
   "name": "python3"
  },
  "language_info": {
   "codemirror_mode": {
    "name": "ipython",
    "version": 3
   },
   "file_extension": ".py",
   "mimetype": "text/x-python",
   "name": "python",
   "nbconvert_exporter": "python",
   "pygments_lexer": "ipython3",
   "version": "3.10.8"
  }
 },
 "nbformat": 4,
 "nbformat_minor": 5
}
