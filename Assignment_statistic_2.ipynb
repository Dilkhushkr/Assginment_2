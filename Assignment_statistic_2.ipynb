{
 "cells": [
  {
   "cell_type": "code",
   "execution_count": 2,
   "id": "0dd728cd-d992-47b9-98fb-77900257d8f9",
   "metadata": {},
   "outputs": [],
   "source": [
    "#Q1. What is the Probability density function?\n",
    "# Ans:- A probability density function is a fundamental concept in probabilty and statistics.\n",
    "# it describes the likelihood of a continuous random variable taking on a particular value of falling within a certain range of values.\n",
    "# in essence, it provides a way to model the probability distribution of a continuous random variable "
   ]
  },
  {
   "cell_type": "code",
   "execution_count": 3,
   "id": "3f1c3ee5-d699-4386-80d9-6c648db5d275",
   "metadata": {},
   "outputs": [],
   "source": [
    "#Q2. What are the types of Probability distribution?\n",
    "# Ans:-there are two types of probability distribution function \n",
    "#      1.Discrete Probability Distributions:- here there are many types of (DPD)\n",
    "#        i.Bernoulli Distribution:\n",
    "#        ii.Binomial Distribution:\n",
    "#        iii.Poisson Distribution:\n",
    "#        iv.Geometric Distribution:\n",
    "#        v.Hypergeometric Distribution: \n",
    "#      2.Continuous Probability Distributions: here there are many types of (CPD)\n",
    "#        i.Normal Distribution:\n",
    "#        ii.Uniform Distribution:\n",
    "#        iii.Exponential Distribution:\n",
    "#        iv.Log-Normal Distribution:\n",
    "#        v.Gamma Distribution: \n",
    "#        vi.Cauchy Distribution:"
   ]
  },
  {
   "cell_type": "code",
   "execution_count": 6,
   "id": "931e33a5-22f6-4883-ae1e-ebd301c506b2",
   "metadata": {},
   "outputs": [
    {
     "name": "stdout",
     "output_type": "stream",
     "text": [
      "PDF at x=6.0 for a N(5.0, 2.0^2) distribution: 0.17603266338214976\n"
     ]
    }
   ],
   "source": [
    "# Q3. Write a Python function to calculate the probability density function of a normal distribution with\n",
    "# given mean and standard deviation at a given point.\n",
    "import scipy.stats as stats\n",
    "def calculate_normal_pdf(x,mean,std_dev):\n",
    "    pdf = stats.norm.pdf(x,loc = mean,scale=std_dev)\n",
    "    return pdf\n",
    "mean = 5.0\n",
    "std_dev = 2.0\n",
    "x = 6.0\n",
    "pdf_at_x = calculate_normal_pdf(x, mean, std_dev)\n",
    "print(f\"PDF at x={x} for a N({mean}, {std_dev}^2) distribution: {pdf_at_x}\")"
   ]
  },
  {
   "cell_type": "code",
   "execution_count": 7,
   "id": "32510026-b823-430e-8274-f0fe31e17c9f",
   "metadata": {},
   "outputs": [],
   "source": [
    "# Q4. What are the properties of Binomial distribution? Give two examples of events where binomial\n",
    "# distribution can be applied.\n",
    "# Ans:-there are many more properities here \n",
    "#  i.Two possible Outcomes\n",
    "#  ii.Fixed number of Trials\n",
    "#  iii.indeoendent Trials\n",
    "#  iv.Constatnt Probability of Success\n",
    "#  v.Discrete Random Variable\n",
    "# example :-i.Coin Flips: \n",
    "#           ii.Quality Control:"
   ]
  },
  {
   "cell_type": "code",
   "execution_count": 9,
   "id": "1ab44694-b6a7-4b1b-942c-322b9c2b69b7",
   "metadata": {},
   "outputs": [
    {
     "data": {
      "image/png": "[encoded data removed]",
      "text/plain": [
       "<Figure size 640x480 with 1 Axes>"
      ]
     },
     "metadata": {},
     "output_type": "display_data"
    }
   ],
   "source": [
    "# Q5. Generate a random sample of size 1000 from a binomial distribution with probability of success 0.4\n",
    "# and plot a histogram of the results using matplotlib.\n",
    "import numpy as np\n",
    "import matplotlib.pyplot as plt\n",
    "n = 1000\n",
    "p = 0.4\n",
    "random_sample=np.random.binomial(n,p,size = 1000)\n",
    "plt.hist(random_sample,bins = np.arange(0,n+2)-0.5,density=True,rwidth=0.8,color='blue',alpha=0.7)\n",
    "plt.title(\"Binomial Distribution Histogram\")\n",
    "plt.xlabel(\"Number of Successes\")\n",
    "plt.ylabel(\"'Probability\")\n",
    "plt.grid(axis='y', linestyle='--', alpha=0.7)\n",
    "plt.show()"
   ]
  },
  {
   "cell_type": "code",
   "execution_count": 1,
   "id": "eb0c6c0e-c85f-4e05-bbca-300f910e86be",
   "metadata": {},
   "outputs": [],
   "source": [
    "# Q6. Write a Python function to calculate the cumulative distribution function of a Poisson distribution\n",
    "# with given mean at a given point.\n",
    "import math\n",
    "def poisson_cdf(mean,k):\n",
    "    if mean<=0 or k<0:\n",
    "        return 0\n",
    "    cdf = 0\n",
    "    for i in range(k+1):\n",
    "        cdf+=(math.exp(-mean)*mean**i)/math.factorial(i)\n",
    "    return cdf"
   ]
  },
  {
   "cell_type": "code",
   "execution_count": 2,
   "id": "6df39e39-f652-4d4a-8279-ba051d163cda",
   "metadata": {},
   "outputs": [],
   "source": [
    "mean = 3\n",
    "k = 2\n",
    "result = poisson_cdf(mean,k)\n"
   ]
  },
  {
   "cell_type": "code",
   "execution_count": 3,
   "id": "ed512e7e-5761-4f60-86f5-55f558c96dee",
   "metadata": {},
   "outputs": [
    {
     "name": "stdout",
     "output_type": "stream",
     "text": [
      "CDF at k = 2:0.42319008112684353\n"
     ]
    }
   ],
   "source": [
    "print(f\"CDF at k = {k}:{result}\")"
   ]
  },
  {
   "cell_type": "code",
   "execution_count": 4,
   "id": "54d2ab81-53bc-4272-978b-44f48fb5ebd8",
   "metadata": {},
   "outputs": [],
   "source": [
    "#Q7. How Binomial distribution different from Poisson distribution?\n",
    "# Ans :- in the Binomial Distribution we see the number of probablity to coming true and\n",
    "# false value \n",
    "# but the Poisson distribution in how many persons come and go in per hourse"
   ]
  },
  {
   "cell_type": "code",
   "execution_count": 5,
   "id": "f71ab13c-da37-463d-a00a-ac4772351468",
   "metadata": {},
   "outputs": [],
   "source": [
    "# Q8.Generate a random sample of size 1000 from a Poisson distribution with mean 5 and calculate the\n",
    "# sample mean and variance."
   ]
  },
  {
   "cell_type": "code",
   "execution_count": 8,
   "id": "da83e192-3eed-4c83-a030-d73be8d2b12b",
   "metadata": {},
   "outputs": [],
   "source": [
    "import numpy as np\n",
    "np.random.seed(0)\n",
    "sample = np.random.poisson(5,1000)\n",
    "sample_mean = np.mean(sample)\n",
    "sample_variance = np.var(sample, ddof=0)"
   ]
  },
  {
   "cell_type": "code",
   "execution_count": 10,
   "id": "fef52044-fc74-4f7a-9857-7de1e5f4c16b",
   "metadata": {},
   "outputs": [
    {
     "data": {
      "text/plain": [
       "4.947"
      ]
     },
     "execution_count": 10,
     "metadata": {},
     "output_type": "execute_result"
    }
   ],
   "source": [
    "sample_mean"
   ]
  },
  {
   "cell_type": "code",
   "execution_count": 11,
   "id": "45bc9f43-bd57-435e-8b4f-62a414598464",
   "metadata": {},
   "outputs": [
    {
     "data": {
      "text/plain": [
       "4.814191"
      ]
     },
     "execution_count": 11,
     "metadata": {},
     "output_type": "execute_result"
    }
   ],
   "source": [
    "sample_variance"
   ]
  },
  {
   "cell_type": "code",
   "execution_count": 13,
   "id": "b28337d0-024a-4ddb-a3d0-2492c4745646",
   "metadata": {},
   "outputs": [],
   "source": [
    "#Q 9. How mean and variance are related in Binomial distribution and Poisson distribution?\n",
    "#Ans:- in the Binomial mean is always grater the variance but in the Poission mean is always equal to variance"
   ]
  },
  {
   "cell_type": "code",
   "execution_count": null,
   "id": "a47bdb53-523e-40ff-a690-2068ad679907",
   "metadata": {},
   "outputs": [],
   "source": [
    "#Q10. In normal distribution with respect to mean position, where does the least frequent data appear?\n",
    "Ans:- in normal distribution all depends upon mean where mean will be that position will take mean draw the figure and if data will be positive the it moves positive other wise it will "
   ]
  }
 ],
 "metadata": {
  "kernelspec": {
   "display_name": "Python 3 (ipykernel)",
   "language": "python",
   "name": "python3"
  },
  "language_info": {
   "codemirror_mode": {
    "name": "ipython",
    "version": 3
   },
   "file_extension": ".py",
   "mimetype": "text/x-python",
   "name": "python",
   "nbconvert_exporter": "python",
   "pygments_lexer": "ipython3",
   "version": "3.10.8"
  }
 },
 "nbformat": 4,
 "nbformat_minor": 5
}
