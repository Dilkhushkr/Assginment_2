{
 "cells": [
  {
   "cell_type": "code",
   "execution_count": 2,
   "id": "540c0cdd-de53-4363-8b0b-8963b3f61995",
   "metadata": {},
   "outputs": [],
   "source": [
    "# Q.1:- Create a vehicle class with an init method having instance variable as name_of_vehicle , max_speed,and average_of_vehicle"
   ]
  },
  {
   "cell_type": "code",
   "execution_count": 5,
   "id": "c846a31b-d170-4738-8dfe-3b39b5a72936",
   "metadata": {},
   "outputs": [],
   "source": [
    "class vehicle:\n",
    "    def __init__(self,max_speed,average_of_vehicle):\n",
    "        self.max_speed = max_speed\n",
    "        self.average_of_vehicle= average_of_vehicle\n",
    "    def vehicle_details(self):\n",
    "        return self.average_of_vehicle,self.max_speed\n",
    "    \n",
    "    \n",
    "        \n",
    "        "
   ]
  },
  {
   "cell_type": "code",
   "execution_count": 6,
   "id": "37f95a92-f371-4f2a-b742-3bd4c97b3361",
   "metadata": {},
   "outputs": [],
   "source": [
    "obj = vehicle(300,90)"
   ]
  },
  {
   "cell_type": "code",
   "execution_count": 7,
   "id": "cc672a8e-8731-4952-9bc9-9dc28392a563",
   "metadata": {},
   "outputs": [
    {
     "data": {
      "text/plain": [
       "(90, 300)"
      ]
     },
     "execution_count": 7,
     "metadata": {},
     "output_type": "execute_result"
    }
   ],
   "source": [
    "obj.vehicle_details()"
   ]
  },
  {
   "cell_type": "code",
   "execution_count": 11,
   "id": "76d4d935-54c9-473d-bfc2-78edcac793bd",
   "metadata": {},
   "outputs": [
    {
     "data": {
      "text/plain": [
       "300"
      ]
     },
     "execution_count": 11,
     "metadata": {},
     "output_type": "execute_result"
    }
   ],
   "source": [
    "obj.max_speed"
   ]
  },
  {
   "cell_type": "code",
   "execution_count": 12,
   "id": "cd75dc8d-88f7-4bd2-af4a-1984e21f669a",
   "metadata": {},
   "outputs": [
    {
     "data": {
      "text/plain": [
       "90"
      ]
     },
     "execution_count": 12,
     "metadata": {},
     "output_type": "execute_result"
    }
   ],
   "source": [
    "obj.average_of_vehicle"
   ]
  },
  {
   "cell_type": "code",
   "execution_count": 13,
   "id": "3db71ede-adf9-402a-ab12-0b0baca12bc1",
   "metadata": {},
   "outputs": [],
   "source": [
    "# Q.2:-Create a child class car from the vehicle class in Que 1 which will inherit the vehicle class.\n",
    "# create a method name seating_capacity which takes capacity as an argument and returns the name of vehicle and its seating \n"
   ]
  },
  {
   "cell_type": "code",
   "execution_count": 18,
   "id": "38cc84c9-418a-4759-824f-750abce23322",
   "metadata": {},
   "outputs": [],
   "source": [
    "class Vehicle:\n",
    "    def __init__(self,name,wheels):\n",
    "        self.name = name\n",
    "        self.wheels = wheels\n",
    "class Car(Vehicle):\n",
    "    def __init__(self,name,wheels,brand):\n",
    "        super().__init__(name,wheels)\n",
    "        self.brand=brand\n",
    "    def seating_capacity(self,capacity):\n",
    "        return self.name,self.brand"
   ]
  },
  {
   "cell_type": "code",
   "execution_count": 19,
   "id": "14ceea19-014b-4475-9a16-e8fe15c7705c",
   "metadata": {},
   "outputs": [],
   "source": [
    "obj = Car(name = \"Sedan\",wheels=4,brand = \"BMW\")"
   ]
  },
  {
   "cell_type": "code",
   "execution_count": 23,
   "id": "1afd954a-9c47-4fac-a5cf-857b3c61e786",
   "metadata": {},
   "outputs": [],
   "source": [
    "obj1 =obj.seating_capacity(5)"
   ]
  },
  {
   "cell_type": "code",
   "execution_count": 24,
   "id": "234d4fc7-6bf0-479b-ad9a-d5c00466be83",
   "metadata": {},
   "outputs": [
    {
     "name": "stdout",
     "output_type": "stream",
     "text": [
      "('Sedan', 'BMW')\n"
     ]
    }
   ],
   "source": [
    "print(obj1)"
   ]
  },
  {
   "cell_type": "code",
   "execution_count": 25,
   "id": "be759528-fdbd-4bfd-8177-c140935c1b6e",
   "metadata": {},
   "outputs": [],
   "source": [
    "# Q.3 what is multipale inheritance ? Write a pythone code to demonstrate multiplen inheritance"
   ]
  },
  {
   "cell_type": "code",
   "execution_count": 34,
   "id": "c40c0d40-a092-4cab-807e-39acfa8c925a",
   "metadata": {},
   "outputs": [],
   "source": [
    "class test1:\n",
    "    def meth1(self):\n",
    "        print(\"This is meht1 block\")"
   ]
  },
  {
   "cell_type": "code",
   "execution_count": 35,
   "id": "2e7d9366-9993-4132-8459-25da73f07c8e",
   "metadata": {},
   "outputs": [],
   "source": [
    "class test2:\n",
    "    def meth2(self):\n",
    "        print(\"This is meth2 block\")"
   ]
  },
  {
   "cell_type": "code",
   "execution_count": 36,
   "id": "b66493b0-5079-4483-a50b-7a6152f10762",
   "metadata": {},
   "outputs": [],
   "source": [
    "class test3(test1,test2):\n",
    "    pass"
   ]
  },
  {
   "cell_type": "code",
   "execution_count": 37,
   "id": "b9e5d55a-211f-40a0-8647-45b47fb43e78",
   "metadata": {},
   "outputs": [],
   "source": [
    "t = test3()"
   ]
  },
  {
   "cell_type": "code",
   "execution_count": 38,
   "id": "0050de24-cad9-4b16-b5a8-96ba3855a4e0",
   "metadata": {},
   "outputs": [
    {
     "name": "stdout",
     "output_type": "stream",
     "text": [
      "This is meht1 block\n"
     ]
    }
   ],
   "source": [
    "t.meth1()"
   ]
  },
  {
   "cell_type": "code",
   "execution_count": 39,
   "id": "e378be44-f09a-44af-bd71-61fbfb70d30c",
   "metadata": {},
   "outputs": [
    {
     "name": "stdout",
     "output_type": "stream",
     "text": [
      "This is meth2 block\n"
     ]
    }
   ],
   "source": [
    "t.meth2()"
   ]
  },
  {
   "cell_type": "code",
   "execution_count": 40,
   "id": "cd83aa18-de54-448b-904e-21a2955572c8",
   "metadata": {},
   "outputs": [],
   "source": [
    "# Q.4 :-What is getter and setter in pyhtone ? Create a class and create a getter and setter method in this class"
   ]
  },
  {
   "cell_type": "code",
   "execution_count": 47,
   "id": "16cf493a-24a3-44cd-8499-196b195a1460",
   "metadata": {},
   "outputs": [],
   "source": [
    "class Get_Set:\n",
    "    \n",
    "    def __init__(self,a,b):\n",
    "        self.__a = a\n",
    "        self.__b = b\n",
    "    def set_a_b(self,a,b) :\n",
    "        self.__a = a\n",
    "        self.__b = b\n",
    "    def get_a_b(self):\n",
    "        return self.__a,self.__b"
   ]
  },
  {
   "cell_type": "code",
   "execution_count": 48,
   "id": "cbadc645-4c8b-42f2-a886-e9774df4c906",
   "metadata": {},
   "outputs": [],
   "source": [
    "obj = Get_Set(10,20)"
   ]
  },
  {
   "cell_type": "code",
   "execution_count": 49,
   "id": "22f24762-fd70-41b5-8e22-ee3ecf20fc0a",
   "metadata": {},
   "outputs": [],
   "source": [
    "obj.set_a_b(120,30)"
   ]
  },
  {
   "cell_type": "code",
   "execution_count": 51,
   "id": "278696ee-6e14-4658-baf4-5c9c29063828",
   "metadata": {},
   "outputs": [
    {
     "data": {
      "text/plain": [
       "(120, 30)"
      ]
     },
     "execution_count": 51,
     "metadata": {},
     "output_type": "execute_result"
    }
   ],
   "source": [
    "obj.get_a_b()"
   ]
  },
  {
   "cell_type": "code",
   "execution_count": 52,
   "id": "cd2662d2-969a-448c-8884-8eb86214fa33",
   "metadata": {},
   "outputs": [],
   "source": [
    "# What is method overriding in pythone ?  write a code explain method overrindi"
   ]
  },
  {
   "cell_type": "code",
   "execution_count": 53,
   "id": "93009511-f665-4ea6-a59c-b2bf6296dc1c",
   "metadata": {},
   "outputs": [],
   "source": [
    "class Animal():\n",
    "    def speak(self):\n",
    "        print(\"Animal speaks\")"
   ]
  },
  {
   "cell_type": "code",
   "execution_count": 54,
   "id": "08be2a34-58e9-46ee-bd47-ea132856d8ab",
   "metadata": {},
   "outputs": [],
   "source": [
    "class Dog(Animal):\n",
    "    def speak(self):\n",
    "        print(\"Dog speak\")"
   ]
  },
  {
   "cell_type": "code",
   "execution_count": 56,
   "id": "10789364-11d3-49f0-a50a-cf9910492108",
   "metadata": {},
   "outputs": [],
   "source": [
    "class Cat(Animal):\n",
    "    def  speak(self):\n",
    "        print(\"cat speak\")"
   ]
  },
  {
   "cell_type": "code",
   "execution_count": 57,
   "id": "597454f9-e258-4252-937a-3f88edd64737",
   "metadata": {},
   "outputs": [],
   "source": [
    "dog = Dog()\n",
    "cat = Cat()"
   ]
  },
  {
   "cell_type": "code",
   "execution_count": 58,
   "id": "1d0c7c7b-0e81-4b05-a49e-09292f5a88c4",
   "metadata": {},
   "outputs": [
    {
     "name": "stdout",
     "output_type": "stream",
     "text": [
      "Dog speak\n"
     ]
    }
   ],
   "source": [
    "dog.speak()"
   ]
  },
  {
   "cell_type": "code",
   "execution_count": 59,
   "id": "19ae9e22-a282-484d-bd9a-d009d7f60c1a",
   "metadata": {},
   "outputs": [
    {
     "name": "stdout",
     "output_type": "stream",
     "text": [
      "cat speak\n"
     ]
    }
   ],
   "source": [
    "cat.speak()"
   ]
  },
  {
   "cell_type": "code",
   "execution_count": null,
   "id": "23c8a97f-f6fb-432e-8051-7e39484f8814",
   "metadata": {},
   "outputs": [],
   "source": []
  }
 ],
 "metadata": {
  "kernelspec": {
   "display_name": "Python 3 (ipykernel)",
   "language": "python",
   "name": "python3"
  },
  "language_info": {
   "codemirror_mode": {
    "name": "ipython",
    "version": 3
   },
   "file_extension": ".py",
   "mimetype": "text/x-python",
   "name": "python",
   "nbconvert_exporter": "python",
   "pygments_lexer": "ipython3",
   "version": "3.10.8"
  }
 },
 "nbformat": 4,
 "nbformat_minor": 5
}
