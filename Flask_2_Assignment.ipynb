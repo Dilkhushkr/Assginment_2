{
 "cells": [
  {
   "cell_type": "code",
   "execution_count": 3,
   "id": "e1ba99cb-df8e-45ba-8c36-3a323d9c090c",
   "metadata": {},
   "outputs": [],
   "source": [
    "#Q1. Explain GET and POST methods. \n",
    "#Ans:-\n",
    "# 1.GET Method:\n",
    "# The GET method is used to request data from a specified resource.\n",
    "# Data is sent in the URL as a query string.\n",
    "# GET requests can be bookmarked and cached because they are visible in the URL, making them suitable for fetching data that should be retrievable using a URL.\n",
    "# GET requests should not be used for sending sensitive information like passwords because the data is visible in the URL.\n",
    "# GET requests have length restrictions, which can limit the amount of data that can be sent.\n",
    "# It is idempotent, meaning multiple identical requests should have the same effect as a single request.\n",
    "# 2.POST Method:\n",
    "# The POST method is used to submit data to be processed to a specified resource.\n",
    "# Data is sent in the body of the HTTP request, not in the URL, which makes it suitable for sending large amounts of data and sensitive information like passwords.\n",
    "# POST requests are not bookmarked or cached because the data is not visible in the URL.\n",
    "# POST requests do not have length restrictions, allowing for larger amounts of data to be sent compared to GET requests.\n",
    "# It is not idempotent, meaning multiple identical requests may have different effects than a single request, such as creating multiple records in a database."
   ]
  },
  {
   "cell_type": "code",
   "execution_count": 4,
   "id": "91b16f9a-cce7-4cac-af0e-dd30c28fee19",
   "metadata": {},
   "outputs": [],
   "source": [
    "# Q2. Why is request used in Flask?\n",
    "# Ans: - In Flask, the request object is used to access incoming request data submitted by a client (typically a web browser) to the server.\n",
    "# It provides access to the data associated with an HTTP request, such as form data, query parameters, cookies, and file uploads.\n",
    "# Here are some key reasons why the request object is used in Flask:"
   ]
  },
  {
   "cell_type": "code",
   "execution_count": 6,
   "id": "5f67ba0d-9081-41d8-89ef-231f3c17d1de",
   "metadata": {},
   "outputs": [],
   "source": [
    "# Q3. Why is redirect() used in Flask?\n",
    "# Ans:-\n",
    "# In Flask, the redirect() function is used to redirect the user's browser to a different URL. It is a convenient way to send users to a different page or route within a Flask application.\n",
    "\n",
    "# Here are some reasons why redirect() is commonly used in Flask:\n",
    "# URL Routing: When a user performs an action that requires them to be redirected to another page within the application, such as after submitting a form or logging in, redirect() can be used to route them to the appropriate URL.\n",
    "# Post-Redirect-Get Pattern (PRG): The PRG pattern is a common web development practice where after processing a POST request, the server responds with a redirect to another URL using the GET method. This helps prevent issues such as form resubmission when users refresh the page. Flask's redirect() function is often used to implement this pattern.\n",
    "# Dynamic URL Generation: Flask's redirect() function allows for dynamic URL generation, meaning developers can generate URLs dynamically based on certain conditions or variables in their code before redirecting the user.\n",
    "# Improving User Experience: Redirection can be used to improve the user experience by guiding users to relevant pages, providing feedback after completing an action, or handling authentication and authorization flows.\n",
    "# Error Handling: In some cases, redirect() can be used for error handling, such as redirecting users to a custom error page when certain conditions are met."
   ]
  },
  {
   "cell_type": "code",
   "execution_count": 7,
   "id": "d2757f58-8567-42c9-85b1-8d7a72c3d289",
   "metadata": {},
   "outputs": [],
   "source": [
    "# # Q4. What are templates in Flask? Why is the render_template() function used?\n",
    "# Ans:-\n",
    "# In Flask, templates are files that contain static or dynamic content and are used to generate HTML responses to be sent back to the client'sbrowser.\n",
    "# Templates allow developers to create dynamic web pages by combining HTML with placeholders for dynamic content that can be populated with data from the application.\n",
    "# The render_template() function in Flask is used to render templates by passing the name of the template file and any necessary data to be rendered within the template."
   ]
  },
  {
   "cell_type": "code",
   "execution_count": null,
   "id": "d535bc71-1102-46f7-acd6-357bd927b157",
   "metadata": {},
   "outputs": [],
   "source": [
    "\n",
    "from flask import Flask, jsonify\n",
    "\n",
    "app = Flask(__name__)\n",
    "\n",
    "# Define a route for the API endpoint\n",
    "@app.route('/api', methods=['GET'])\n",
    "def get_data():\n",
    "    # Dummy data\n",
    "    data = {'message': 'Hello, this is a simple API!'}\n",
    "    # Return the data as JSON\n",
    "    return jsonify(data)\n",
    "\n",
    "if __name__ == '__main__':\n",
    "    app.run(debug=True)\n"
   ]
  }
 ],
 "metadata": {
  "kernelspec": {
   "display_name": "Python 3 (ipykernel)",
   "language": "python",
   "name": "python3"
  },
  "language_info": {
   "codemirror_mode": {
    "name": "ipython",
    "version": 3
   },
   "file_extension": ".py",
   "mimetype": "text/x-python",
   "name": "python",
   "nbconvert_exporter": "python",
   "pygments_lexer": "ipython3",
   "version": "3.10.8"
  }
 },
 "nbformat": 4,
 "nbformat_minor": 5
}
