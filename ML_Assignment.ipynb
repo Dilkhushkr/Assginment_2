{
 "cells": [
  {
   "cell_type": "code",
   "execution_count": 2,
   "id": "15600802-26fd-4e8b-8a40-80036bd224c4",
   "metadata": {},
   "outputs": [],
   "source": [
    "## Q1. What is data encoding? How is it useful in data science?\n",
    "#Ans : - data  encoding is the way to converting categorical data into numrecal  beacuse compute can not understand categorical data"
   ]
  },
  {
   "cell_type": "code",
   "execution_count": 3,
   "id": "6e13e742-28de-44e2-a0a0-7b44a241f5c2",
   "metadata": {},
   "outputs": [],
   "source": [
    "## Q2. What is nominal encoding? Provide an example of how you would use it in a real-world scenario.\n",
    "# ans :- nominal encoding the technique where we convert categorical data into banry formate\n",
    "# example :-Let's say you have a dataset containing information about different types of fruits,\n",
    "# and one of the categorical features is \"fruit_color,\" which can take values like \"red,\" \"yellow,\" and \"green.\"\n",
    "# Apple is represented by [1, 0, 0] because it's red.\n",
    "# Banana is represented by [0, 1, 0] because it's yellow.\n",
    "# Grape is represented by [0, 0, 1] because it's green."
   ]
  },
  {
   "cell_type": "code",
   "execution_count": 4,
   "id": "388aaf17-0d48-4d76-9c07-29b0d144624f",
   "metadata": {},
   "outputs": [],
   "source": [
    "# Q3. In what situations is nominal encoding preferred over one-hot encoding? Provide a practical example.\n",
    "#Ans : - sorry but nominal and one hot encoding both are same so there are no different between them"
   ]
  },
  {
   "cell_type": "code",
   "execution_count": 7,
   "id": "e902e950-e9fd-4313-8adb-203f6aa72bfd",
   "metadata": {},
   "outputs": [],
   "source": [
    "# Q4. Suppose you have a dataset containing categorical data with 5 unique values. Which encoding\n",
    "# technique would you use to transform this data into a format suitable for machine learning algorithms?\n",
    "# Explain why you made this choice.\n",
    "# Ans :- ofcourse i will use one hot encoding because we have short data and one hot encoding works nicely on this data \n",
    "# hnn but if we have much data then we can not use this because it will create spark matrix that will not be use for computer"
   ]
  },
  {
   "cell_type": "code",
   "execution_count": 8,
   "id": "08817d29-0a4a-4339-888b-bbfc09f2e238",
   "metadata": {},
   "outputs": [],
   "source": [
    "# Q5. In a machine learning project, you have a dataset with 1000 rows and 5 columns. Two of the columns\n",
    "# are categorical, and the remaining three columns are numerical. If you were to use nominal encoding to\n",
    "# transform the categorical data, how many new columns would be created? Show your calculations.\n",
    "# Ans : - If you're using nominal encoding (also known as one-hot encoding) to transform categorical data,\n",
    "#each unique category within each categorical column will be represented by its own binary column. \n",
    "# Let's denote:\n",
    "\n",
    "# Number of unique categories in the first categorical column:n1\n",
    "# Number of unique categories in the second categorical column:n2\n",
    "# Therefore, the total number of new columns created would be n1+n2\n",
    "# Given that you have 1000 rows and 5 columns, and two of them are categorical, let's say:\n",
    "# First categorical column has n1 = 4 unique categories.\n",
    "# First categorical column has n2 = 3 unique categories.\n",
    "# total number of coumns is = n1+n2\n",
    "# 7"
   ]
  },
  {
   "cell_type": "code",
   "execution_count": 9,
   "id": "9bc95b09-7f91-4c61-b931-7c88192e6fbd",
   "metadata": {},
   "outputs": [],
   "source": [
    "# Q6. You are working with a dataset containing information about different types of animals, including their\n",
    "# species, habitat, and diet. Which encoding technique would you use to transform the categorical data into\n",
    "# a format suitable for machine learning algorithms? Justify your answer."
   ]
  },
  {
   "cell_type": "code",
   "execution_count": 10,
   "id": "26877b59-b124-4982-8636-80a98fd9bcad",
   "metadata": {},
   "outputs": [],
   "source": [
    "# ans :- One-hot encoding is suitable for nominal categorical variables where there's no inherent order among categories (e.g., species, habitat).\n",
    "# Ordinal encoding is suitable for categorical variables where there may be an inherent order among categories (e.g., diet), allowing the model to capture the ordinal relationship if deemed necessary.\n",
    "# Using a combination of these encoding techniques ensures that the categorical data is appropriately transformed into a format suitable for machine learning algorithms, taking into account the specific characteristics of each categorical variable."
   ]
  },
  {
   "cell_type": "code",
   "execution_count": 11,
   "id": "d2e9648e-defe-4032-bc67-766212d3b72a",
   "metadata": {},
   "outputs": [],
   "source": [
    "# Q7.You are working on a project that involves predicting customer churn for a telecommunications\n",
    "# company. You have a dataset with 5 features, including the customer's gender, age, contract type,\n",
    "# monthly charges, and tenure. Which encoding technique(s) would you use to transform the categorical\n",
    "# data into numerical data? Provide a step-by-step explanation of how you would implement the encoding."
   ]
  },
  {
   "cell_type": "code",
   "execution_count": null,
   "id": "1dc3483c-279d-4fcf-ac13-516be7c796f0",
   "metadata": {},
   "outputs": [],
   "source": []
  }
 ],
 "metadata": {
  "kernelspec": {
   "display_name": "Python 3 (ipykernel)",
   "language": "python",
   "name": "python3"
  },
  "language_info": {
   "codemirror_mode": {
    "name": "ipython",
    "version": 3
   },
   "file_extension": ".py",
   "mimetype": "text/x-python",
   "name": "python",
   "nbconvert_exporter": "python",
   "pygments_lexer": "ipython3",
   "version": "3.10.8"
  }
 },
 "nbformat": 4,
 "nbformat_minor": 5
}
