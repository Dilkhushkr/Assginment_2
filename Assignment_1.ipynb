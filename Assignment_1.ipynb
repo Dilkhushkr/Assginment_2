{
 "cells": [
  {
   "cell_type": "code",
   "execution_count": 1,
   "id": "fe43927b-2a30-4e20-aebb-0d5e0ea8c81e",
   "metadata": {},
   "outputs": [],
   "source": [
    "# Q.1 which keyWord is used to create a function ? create a function to return a list of odd numbers in the range of 1 to 25"
   ]
  },
  {
   "cell_type": "code",
   "execution_count": 2,
   "id": "1f633fb7-2aaf-4083-884d-abf994ad4b13",
   "metadata": {},
   "outputs": [],
   "source": [
    "# Ans : - def key use to making  a function "
   ]
  },
  {
   "cell_type": "code",
   "execution_count": 11,
   "id": "443e922a-0f73-474d-954b-76554ee8fc55",
   "metadata": {},
   "outputs": [],
   "source": [
    "def odd_num():\n",
    "    l = []\n",
    "    for i in range(1 , 26):\n",
    "        if i % 2 !=0:\n",
    "            l.append(i)\n",
    "    return l"
   ]
  },
  {
   "cell_type": "code",
   "execution_count": 12,
   "id": "04e9fc88-3a0a-42d2-a3c2-169e013c0fae",
   "metadata": {},
   "outputs": [
    {
     "name": "stdout",
     "output_type": "stream",
     "text": [
      "[1, 3, 5, 7, 9, 11, 13, 15, 17, 19, 21, 23, 25]\n"
     ]
    }
   ],
   "source": [
    "print(odd_num())"
   ]
  },
  {
   "cell_type": "code",
   "execution_count": 13,
   "id": "71c94d70-5a6d-4393-93df-355b44d80c94",
   "metadata": {},
   "outputs": [],
   "source": [
    "# Q.2 why *args **kwargs is used in some function ? Create a function each for *args and **kwargs to demonstrate their use.\n",
    "# Ans : - *args if you want to one or more argument to pass that why we use it but it keep the value inside of tuple \n",
    "#         same  type of work to **kwargs but it keep data in dict \n"
   ]
  },
  {
   "cell_type": "code",
   "execution_count": 14,
   "id": "5305a7d6-2f6f-497a-aea7-f473f1f4cfb6",
   "metadata": {},
   "outputs": [],
   "source": [
    "def test(*args):\n",
    "    return args"
   ]
  },
  {
   "cell_type": "code",
   "execution_count": 15,
   "id": "23d70f24-8309-48f8-a656-93a5ef2926a0",
   "metadata": {},
   "outputs": [
    {
     "data": {
      "text/plain": [
       "(1, 2, 3, 4)"
      ]
     },
     "execution_count": 15,
     "metadata": {},
     "output_type": "execute_result"
    }
   ],
   "source": [
    "test(1,2,3,4)"
   ]
  },
  {
   "cell_type": "code",
   "execution_count": 16,
   "id": "75c62ca5-8199-4740-b3c9-4c6f4dca5e2b",
   "metadata": {},
   "outputs": [],
   "source": [
    "def test1(**kwargs):\n",
    "    return kwargs"
   ]
  },
  {
   "cell_type": "code",
   "execution_count": 18,
   "id": "6555ce8f-e544-444a-9e63-236bd18b68c5",
   "metadata": {},
   "outputs": [
    {
     "data": {
      "text/plain": [
       "{'a': 1, 'b': 2}"
      ]
     },
     "execution_count": 18,
     "metadata": {},
     "output_type": "execute_result"
    }
   ],
   "source": [
    "test1( a = 1  , b = 2)"
   ]
  },
  {
   "cell_type": "code",
   "execution_count": 19,
   "id": "db1ef1b3-ea27-4db0-9c4b-e5d904ed56a2",
   "metadata": {},
   "outputs": [],
   "source": [
    "# Q.3 what is iterator in python ? Name the method used to intialise the iterator object and the method used for iteration.\n",
    "#use these method to print the first five element of given list"
   ]
  },
  {
   "cell_type": "code",
   "execution_count": 21,
   "id": "a3f78714-5818-4b1a-b782-9c29c7a09ad3",
   "metadata": {},
   "outputs": [],
   "source": [
    "l = [2,4,6,8,10,12,14,16,18,20]"
   ]
  },
  {
   "cell_type": "code",
   "execution_count": 22,
   "id": "d076118c-122d-4287-8f43-43f934f18944",
   "metadata": {},
   "outputs": [],
   "source": [
    "# Q.4 what is a generator function in pyhton ? why yield keyword is used ? Given an example of a generator function?\n",
    "# Ans:- this is a special type of function which works like iterator (yield) is a keyword which is return value without store data in memory"
   ]
  },
  {
   "cell_type": "code",
   "execution_count": 29,
   "id": "437bc212-6743-4957-995b-88271a6724e2",
   "metadata": {},
   "outputs": [],
   "source": [
    "def sqr():\n",
    "    for num in range(1,11):\n",
    "        yield num\n"
   ]
  },
  {
   "cell_type": "code",
   "execution_count": 30,
   "id": "398c41e6-78e4-4bff-bbef-ad8c1ed94653",
   "metadata": {},
   "outputs": [
    {
     "name": "stdout",
     "output_type": "stream",
     "text": [
      "1\n",
      "2\n",
      "3\n",
      "4\n",
      "5\n",
      "6\n",
      "7\n",
      "8\n",
      "9\n",
      "10\n"
     ]
    }
   ],
   "source": [
    "for i in sqr():\n",
    "    print(i)"
   ]
  },
  {
   "cell_type": "code",
   "execution_count": 31,
   "id": "6924a3e5-de2d-44f2-b1e0-e58b328b905a",
   "metadata": {},
   "outputs": [],
   "source": [
    "# Q.5 Create a generator function for prime numbers less then 1000. use the next() method to print the first 20 prime number"
   ]
  },
  {
   "cell_type": "code",
   "execution_count": 39,
   "id": "3d295fa7-99e0-4c94-8bdc-a4a85b598a5b",
   "metadata": {},
   "outputs": [],
   "source": [
    "def prime(number):\n",
    "    if number<2:\n",
    "        return False\n",
    "    for i in range(2,number):\n",
    "        if(number%2==0):\n",
    "            return False\n",
    "    return True\n",
    "        \n",
    "def genprime():\n",
    "    number = 2\n",
    "    while number<1000:\n",
    "        if prime(number):\n",
    "            yield number\n",
    "            number+=1\n",
    "    \n",
    "    "
   ]
  },
  {
   "cell_type": "code",
   "execution_count": 44,
   "id": "9b935bae-7629-454e-8fd1-db3c894b93f0",
   "metadata": {},
   "outputs": [
    {
     "name": "stdout",
     "output_type": "stream",
     "text": [
      "2\n",
      "3\n",
      "5\n",
      "7\n",
      "9\n",
      "11\n",
      "13\n",
      "15\n",
      "17\n",
      "19\n",
      "21\n",
      "23\n",
      "25\n",
      "27\n",
      "29\n",
      "31\n",
      "33\n",
      "35\n",
      "37\n",
      "39\n"
     ]
    }
   ],
   "source": [
    "res = genprime()\n",
    "for _ in  range(20):\n",
    "    print(next(res))"
   ]
  },
  {
   "cell_type": "code",
   "execution_count": 45,
   "id": "8d96caa1-d435-4d49-9c3b-15cb32ae3b01",
   "metadata": {},
   "outputs": [],
   "source": [
    "# Q.6  write a python program to print the first 10 fibonacci number using while loop"
   ]
  },
  {
   "cell_type": "code",
   "execution_count": 54,
   "id": "89fb2b66-edf7-4bd6-8921-05888608d310",
   "metadata": {},
   "outputs": [],
   "source": [
    "def fib():\n",
    "    a,b = 0,1\n",
    "    while True:\n",
    "        yield a\n",
    "        a , b=b , a+b"
   ]
  },
  {
   "cell_type": "code",
   "execution_count": 55,
   "id": "6e52253c-4b18-4e8f-bac6-2c859a7f75a7",
   "metadata": {},
   "outputs": [],
   "source": [
    "res = fib()"
   ]
  },
  {
   "cell_type": "code",
   "execution_count": 56,
   "id": "5afdba09-907c-4e87-9257-77e84584902d",
   "metadata": {},
   "outputs": [
    {
     "name": "stdout",
     "output_type": "stream",
     "text": [
      "0\n",
      "1\n",
      "1\n",
      "2\n",
      "3\n",
      "5\n",
      "8\n",
      "13\n",
      "21\n",
      "34\n"
     ]
    }
   ],
   "source": [
    "for i in range(10):\n",
    "    print(next(res))"
   ]
  },
  {
   "cell_type": "code",
   "execution_count": 57,
   "id": "b1d2af37-4f6d-4f6c-82f6-0e426eec24dc",
   "metadata": {},
   "outputs": [],
   "source": [
    "# Q.7 write a list comprehension to iterate through the given String 'pwSkills'"
   ]
  },
  {
   "cell_type": "code",
   "execution_count": 58,
   "id": "a875e438-844b-4fbe-a288-ac2304bea8b8",
   "metadata": {},
   "outputs": [],
   "source": [
    "s = \"pwskills\""
   ]
  },
  {
   "cell_type": "code",
   "execution_count": 64,
   "id": "241c2b07-4cd5-49bb-a2be-dd6ab263c32c",
   "metadata": {},
   "outputs": [],
   "source": [
    " l = []\n",
    "for i in s:\n",
    "    l.append(i)"
   ]
  },
  {
   "cell_type": "code",
   "execution_count": 65,
   "id": "3127d866-f782-4ae5-9355-97d7d6e33782",
   "metadata": {},
   "outputs": [
    {
     "data": {
      "text/plain": [
       "['p', 'w', 's', 'k', 'i', 'l', 'l', 's']"
      ]
     },
     "execution_count": 65,
     "metadata": {},
     "output_type": "execute_result"
    }
   ],
   "source": [
    "l"
   ]
  },
  {
   "cell_type": "code",
   "execution_count": 66,
   "id": "0edf10a3-a9f4-4d24-8ee8-6841e7c97789",
   "metadata": {},
   "outputs": [],
   "source": [
    "# Q.8  write a python program to check whether a given number id palindrome or not using a while loop."
   ]
  },
  {
   "cell_type": "code",
   "execution_count": 2,
   "id": "bd91cdd0-eed2-4c22-a697-861539a6b864",
   "metadata": {},
   "outputs": [],
   "source": [
    "number = 121"
   ]
  },
  {
   "cell_type": "code",
   "execution_count": 25,
   "id": "85e8673e-0e76-4d26-8390-0623fbf96e6a",
   "metadata": {},
   "outputs": [
    {
     "name": "stdout",
     "output_type": "stream",
     "text": [
      "Is palindrome\n"
     ]
    }
   ],
   "source": [
    "number = 12121\n",
    "orignel = number\n",
    "reverse = 0\n",
    "while number>0:\n",
    "        last = number%10\n",
    "        reverse = reverse*10+last\n",
    "        number = number//10\n",
    "if orignel == reverse:\n",
    "    print(\"Is palindrome\")\n",
    "else :\n",
    "    print(\"Not a palindrome\")"
   ]
  },
  {
   "cell_type": "code",
   "execution_count": 26,
   "id": "a24c1013-0b51-4fde-b182-24fff2897291",
   "metadata": {},
   "outputs": [],
   "source": [
    "# Q.9 write a code to print odd number  frome 1 to 100 using list comprehension"
   ]
  },
  {
   "cell_type": "code",
   "execution_count": 7,
   "id": "c541261f-9fa5-4f0c-9f63-ed25059f173c",
   "metadata": {},
   "outputs": [
    {
     "name": "stdout",
     "output_type": "stream",
     "text": [
      "[1, 3, 5, 7, 9, 11, 13, 15, 17, 19, 21, 23, 25, 27, 29, 31, 33, 35, 37, 39, 41, 43, 45, 47, 49, 51, 53, 55, 57, 59, 61, 63, 65, 67, 69, 71, 73, 75, 77, 79, 81, 83, 85, 87, 89, 91, 93, 95, 97, 99]\n"
     ]
    }
   ],
   "source": [
    "odd_numbers = [ num for num in range(1, 101) if num % 2 != 0 ]\n",
    "\n",
    "# Print the list of odd numbers\n",
    "print(odd_numbers)"
   ]
  },
  {
   "cell_type": "code",
   "execution_count": 1,
   "id": "b708f579-9737-408b-8208-d508b401b54b",
   "metadata": {},
   "outputs": [],
   "source": [
    "# Q. create a python program to sort the given list of tuple based in integer value using a lambda function\n",
    "#[('Scachin',34357),('Ricky ponting' ,27483),('jack Kallis',25534),(\"Virat Kohli\",24936)]"
   ]
  },
  {
   "cell_type": "code",
   "execution_count": 2,
   "id": "b3ce5c43-5c35-4b56-bba8-ab48e3362575",
   "metadata": {},
   "outputs": [],
   "source": [
    "data = [('Scachin',34357),('Ricky ponting' ,27483),('jack Kallis',25534),(\"Virat Kohli\",24936)]"
   ]
  },
  {
   "cell_type": "code",
   "execution_count": 3,
   "id": "29672813-80b1-4f74-ab56-05b32b567190",
   "metadata": {},
   "outputs": [],
   "source": [
    "sorted_data = sorted(data,key=lambda x : x[1])"
   ]
  },
  {
   "cell_type": "code",
   "execution_count": 4,
   "id": "826fb581-ddaa-4df5-9cf4-c92a833855e7",
   "metadata": {},
   "outputs": [
    {
     "data": {
      "text/plain": [
       "[('Virat Kohli', 24936),\n",
       " ('jack Kallis', 25534),\n",
       " ('Ricky ponting', 27483),\n",
       " ('Scachin', 34357)]"
      ]
     },
     "execution_count": 4,
     "metadata": {},
     "output_type": "execute_result"
    }
   ],
   "source": [
    "sorted_data"
   ]
  },
  {
   "cell_type": "code",
   "execution_count": 5,
   "id": "d0bc1ab2-a4d5-448a-8192-c142512c0595",
   "metadata": {},
   "outputs": [],
   "source": [
    "# Q.Write a python program to find the squares of all the number in the given list of integers using lambda and map function"
   ]
  },
  {
   "cell_type": "code",
   "execution_count": 6,
   "id": "45a40bf2-7f8c-4663-a296-1e9533b02f73",
   "metadata": {},
   "outputs": [],
   "source": [
    "l = [1,2,3,4,5,6,7,8,9,10]"
   ]
  },
  {
   "cell_type": "code",
   "execution_count": 7,
   "id": "54a865d7-4230-4f38-a6e1-e072878787e4",
   "metadata": {},
   "outputs": [],
   "source": [
    "sqr = list(map(lambda x : x**2,l))"
   ]
  },
  {
   "cell_type": "code",
   "execution_count": 8,
   "id": "c22fc65d-331d-48f3-abf7-15b39074ce55",
   "metadata": {},
   "outputs": [
    {
     "data": {
      "text/plain": [
       "[1, 4, 9, 16, 25, 36, 49, 64, 81, 100]"
      ]
     },
     "execution_count": 8,
     "metadata": {},
     "output_type": "execute_result"
    }
   ],
   "source": [
    "sqr"
   ]
  },
  {
   "cell_type": "code",
   "execution_count": 10,
   "id": "35c724fe-1fea-440a-88ee-b370dbd2aa27",
   "metadata": {},
   "outputs": [],
   "source": [
    "# Q. Write a python program to convert the given list of integers  int a tuple of String . using map and lambda function\n",
    "#l = [1,2,3,4,5,6,7,8,9,10] to ['1','2','3','4','5','6','7','8','9','10']"
   ]
  },
  {
   "cell_type": "code",
   "execution_count": 11,
   "id": "ca8e61de-1e04-4539-874d-42f1e8d554b3",
   "metadata": {},
   "outputs": [],
   "source": [
    " l = [1,2,3,4,5,6,7,8,9,10]"
   ]
  },
  {
   "cell_type": "code",
   "execution_count": 12,
   "id": "2a3052e0-9887-4afa-97f6-519a3d20c264",
   "metadata": {},
   "outputs": [],
   "source": [
    " res = list(map(lambda x : str(x),l))"
   ]
  },
  {
   "cell_type": "code",
   "execution_count": 13,
   "id": "93c5125e-ca6f-4688-9615-f28eb4006019",
   "metadata": {},
   "outputs": [
    {
     "data": {
      "text/plain": [
       "['1', '2', '3', '4', '5', '6', '7', '8', '9', '10']"
      ]
     },
     "execution_count": 13,
     "metadata": {},
     "output_type": "execute_result"
    }
   ],
   "source": [
    "res"
   ]
  },
  {
   "cell_type": "raw",
   "id": "9aff1a3d-22c8-4393-89f3-397987d2f0e8",
   "metadata": {},
   "source": []
  },
  {
   "cell_type": "code",
   "execution_count": 14,
   "id": "9ac40667-9374-4473-b7d4-c499b74a2047",
   "metadata": {},
   "outputs": [],
   "source": [
    "# Q.Write a pyhton program using reduce function to compute the product of a list containing numbers from 1 to 25"
   ]
  },
  {
   "cell_type": "code",
   "execution_count": 15,
   "id": "b9c943f6-0571-4377-9abe-f6bf1812b48b",
   "metadata": {},
   "outputs": [],
   "source": [
    "from functools import reduce \n",
    "number = list(range(1,26))\n",
    "product = reduce(lambda x,y:x*y,number)"
   ]
  },
  {
   "cell_type": "code",
   "execution_count": 16,
   "id": "9526ade3-2391-4bfa-a6a0-af876182c3a3",
   "metadata": {},
   "outputs": [
    {
     "data": {
      "text/plain": [
       "15511210043330985984000000"
      ]
     },
     "execution_count": 16,
     "metadata": {},
     "output_type": "execute_result"
    }
   ],
   "source": [
    "product"
   ]
  },
  {
   "cell_type": "code",
   "execution_count": 17,
   "id": "6b34335e-ef7d-48ae-a724-9e4fb1deb438",
   "metadata": {},
   "outputs": [],
   "source": [
    "# Q.Write a python program to filter the number in a given list that are divisible by 2 and 3 using filter function .\n",
    "#[2,3,6,9,27,60,90,120,55,46]"
   ]
  },
  {
   "cell_type": "code",
   "execution_count": 18,
   "id": "97217d8f-8f4d-4631-9b73-7b145f6db05d",
   "metadata": {},
   "outputs": [],
   "source": [
    " l = [2,3,6,9,27,60,90,120,55,46]"
   ]
  },
  {
   "cell_type": "code",
   "execution_count": 19,
   "id": "637e0be2-a453-4ace-b7ba-e67e6b8c620c",
   "metadata": {},
   "outputs": [],
   "source": [
    " res = list(filter(lambda x : x%6==0,l))"
   ]
  },
  {
   "cell_type": "code",
   "execution_count": 20,
   "id": "dff9c2ed-8001-49af-80f7-e9908093c229",
   "metadata": {},
   "outputs": [
    {
     "data": {
      "text/plain": [
       "[6, 60, 90, 120]"
      ]
     },
     "execution_count": 20,
     "metadata": {},
     "output_type": "execute_result"
    }
   ],
   "source": [
    "res"
   ]
  },
  {
   "cell_type": "code",
   "execution_count": 21,
   "id": "9dabd921-2c37-4810-8218-846ae40f5f79",
   "metadata": {},
   "outputs": [],
   "source": [
    "# Write a pyhton program to find palindromes in the given list of String using lambda and filter function\n",
    "#['python','php','aba','radar','level']"
   ]
  },
  {
   "cell_type": "code",
   "execution_count": 22,
   "id": "16b43655-315b-4e1a-9bc1-d9cdec5be170",
   "metadata": {},
   "outputs": [],
   "source": [
    "words = ['python', 'php', 'aba', 'radar', 'level']\n"
   ]
  },
  {
   "cell_type": "code",
   "execution_count": 25,
   "id": "a7a65b45-d1b9-4ccf-a6f4-e35939369cec",
   "metadata": {},
   "outputs": [
    {
     "ename": "NameError",
     "evalue": "name 'words' is not defined",
     "output_type": "error",
     "traceback": [
      "\u001b[0;31m---------------------------------------------------------------------------\u001b[0m",
      "\u001b[0;31mNameError\u001b[0m                                 Traceback (most recent call last)",
      "Cell \u001b[0;32mIn[25], line 1\u001b[0m\n\u001b[0;32m----> 1\u001b[0m palindrome \u001b[38;5;241m=\u001b[39m \u001b[38;5;28mlist\u001b[39m(\u001b[38;5;28mfilter\u001b[39m(\u001b[38;5;28;01mlambda\u001b[39;00m word : word \u001b[38;5;241m==\u001b[39m word[::\u001b[38;5;241m-\u001b[39m\u001b[38;5;241m1\u001b[39m], \u001b[43mwords\u001b[49m))\n",
      "\u001b[0;31mNameError\u001b[0m: name 'words' is not defined"
     ]
    }
   ],
   "source": [
    "palindrome = list(filter(lambda word : word == word[::-1], words))"
   ]
  },
  {
   "cell_type": "code",
   "execution_count": null,
   "id": "fb23407e-1811-4803-acb9-724943aaee17",
   "metadata": {},
   "outputs": [],
   "source": []
  }
 ],
 "metadata": {
  "kernelspec": {
   "display_name": "Python 3 (ipykernel)",
   "language": "python",
   "name": "python3"
  },
  "language_info": {
   "codemirror_mode": {
    "name": "ipython",
    "version": 3
   },
   "file_extension": ".py",
   "mimetype": "text/x-python",
   "name": "python",
   "nbconvert_exporter": "python",
   "pygments_lexer": "ipython3",
   "version": "3.10.8"
  }
 },
 "nbformat": 4,
 "nbformat_minor": 5
}
