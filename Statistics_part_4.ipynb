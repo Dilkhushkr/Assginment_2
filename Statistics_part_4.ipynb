{
 "cells": [
  {
   "cell_type": "code",
   "execution_count": 5,
   "id": "fc8f42d4-9141-43ce-b4b4-30ca102117fa",
   "metadata": {},
   "outputs": [],
   "source": [
    "# Q1: What are the Probability Mass Function (PMF) and Probability Density Function (PDF)? Explain with\n",
    "# an example."
   ]
  },
  {
   "cell_type": "code",
   "execution_count": 6,
   "id": "f77b2752-d160-4685-8595-c820d47cfbde",
   "metadata": {},
   "outputs": [],
   "source": [
    "# # PMF:-it works discrete  on  random variable \n",
    "# #    ex:-rolling a dice \n",
    "# PDF:-it works continous random variable \n",
    "#  Ex:-For example, you might want to find the probability that a randomly selected person has a height between 160 cm and 170 cm. \n",
    "#     You would calculate the integral of the PDF from 160 to 170."
   ]
  },
  {
   "cell_type": "code",
   "execution_count": 7,
   "id": "d9163df4-a8b1-4e4c-8594-c2dcc76f2587",
   "metadata": {},
   "outputs": [],
   "source": [
    "#Q2: What is Cumulative Density Function (CDF)? Explain with an example. Why CDF is used?"
   ]
  },
  {
   "cell_type": "code",
   "execution_count": 8,
   "id": "f3d75e5a-cc92-4e2b-85fd-dca4b7a5194b",
   "metadata": {},
   "outputs": [],
   "source": [
    "# Ans:-\n",
    "#   The Cumulative Density Function (CDF), also known as the Cumulative Distribution Function, is a fundamental concept in probability and statistics.\n",
    "#     It is used to describe the cumulative probability associated with a random variable.\n",
    "#     The CDF provides information about the probability that a random variable takes on a value less than or equal to a specified value."
   ]
  },
  {
   "cell_type": "code",
   "execution_count": 9,
   "id": "1b2ced6d-06c4-4757-be7d-ad354f17ffdf",
   "metadata": {},
   "outputs": [],
   "source": [
    "# Q3: What are some examples of situations where the normal distribution might be used as a model?\n",
    "# Explain how the parameters of the normal distribution relate to the shape of the distribution.\n",
    "# Ans:-\n",
    "#    Normal Distribution  works on Symmetric distribution means avearge of value will distribute in equal face \n",
    "#     1.Biological Measurements\n",
    "#     2.Physical Sciences\n",
    "#     3.Social Sciences\n",
    "#     4.Finance and Economics\n",
    "#     5.Quality Control and Manufacturing"
   ]
  },
  {
   "cell_type": "code",
   "execution_count": 10,
   "id": "23be77c1-5269-4784-ad87-303e02b8d09d",
   "metadata": {},
   "outputs": [],
   "source": [
    "# Q4: Explain the importance of Normal Distribution. Give a few real-life examples of Normal\n",
    "# Distribution.\n",
    "# Ans:-\n",
    "#    we know that it is depend upon avarge value so it can be a  real life example\n",
    "#     here some example about it\n",
    "#     1.Height of Individuals\n",
    "#     2.Exam Scores\n",
    "#     3.IQ Scores:"
   ]
  },
  {
   "cell_type": "code",
   "execution_count": 1,
   "id": "a5c875cd-3ab2-4eb4-b599-337be494ed40",
   "metadata": {},
   "outputs": [],
   "source": [
    "# Q5: What is Bernaulli Distribution? Give an Example. What is the difference between Bernoulli\n",
    "# Distribution and Binomial Distribution?\n",
    "# Ans:- in this case  probabilty comes only true or false cases like 0 and 1 \n",
    "#     if p = 0.5\n",
    "#       q = 1-p\n",
    "#     but the points to Binomial:-in this we count the value of all the probabilty cases this we try this "
   ]
  },
  {
   "cell_type": "code",
   "execution_count": 2,
   "id": "367e7a17-68f0-47af-a8f0-4f57fe374aee",
   "metadata": {},
   "outputs": [],
   "source": [
    "# Q6. Consider a dataset with a mean of 50 and a standard deviation of 10. If we assume that the dataset\n",
    "# is normally distributed, what is the probability that a randomly selected observation will be greater\n",
    "# than 60? Use the appropriate formula and show your calculations."
   ]
  },
  {
   "cell_type": "code",
   "execution_count": 3,
   "id": "8753e44d-4e6e-4db8-bc1e-e62dc7dc7b76",
   "metadata": {},
   "outputs": [],
   "source": [
    "# Ans:- the probability of greater then 60 is 84.13% "
   ]
  },
  {
   "cell_type": "code",
   "execution_count": 4,
   "id": "6055e898-97f8-4575-a2af-d15c000022dc",
   "metadata": {},
   "outputs": [],
   "source": [
    "# Q7: Explain uniform Distribution with an example."
   ]
  },
  {
   "cell_type": "code",
   "execution_count": 6,
   "id": "c7126177-8b35-43c5-888c-3da4b48e50b7",
   "metadata": {},
   "outputs": [],
   "source": [
    "# Ans:- in  this case the probabilty of getting value will be equale \n",
    "#    Ex:- Roling a dice {1,2,3,4,5,6}\n",
    "#        in this case probabilty of all values will be same \n",
    "        "
   ]
  },
  {
   "cell_type": "code",
   "execution_count": 7,
   "id": "c072da4e-8b17-4d95-8ade-3eed197ac143",
   "metadata": {},
   "outputs": [],
   "source": [
    "# Q8: What is the z score? State the importance of the z score."
   ]
  },
  {
   "cell_type": "code",
   "execution_count": 8,
   "id": "7489adad-f407-4baf-af8e-7679e5633833",
   "metadata": {},
   "outputs": [],
   "source": [
    "# Ans:-\n",
    "#    The z-score, also known as the standard score, \n",
    "#     is a statistical measure that quantifies how many standard deviations a particular data point is from the mean of a dataset. \n",
    "#     It's used to standardize and compare data points from different distributions. "
   ]
  },
  {
   "cell_type": "code",
   "execution_count": 9,
   "id": "d0f3fb9f-c182-4ee6-b57f-4b96c32f7798",
   "metadata": {},
   "outputs": [],
   "source": [
    "# Q9: What is Central Limit Theorem? State the significance of the Central Limit Theorem."
   ]
  },
  {
   "cell_type": "code",
   "execution_count": 10,
   "id": "8c28a6d3-821d-4cf5-b6b6-e9c6571102a6",
   "metadata": {},
   "outputs": [],
   "source": [
    "# Ans:-\n",
    "#    In the CLT case tells the high population data and the size of sample it should be greater than 30\n",
    "#     but if we find mean sample s1,s2,s3,s4....sn but then the output will be in normal distribution"
   ]
  },
  {
   "cell_type": "code",
   "execution_count": 11,
   "id": "5dbf301f-d720-430e-a164-7f0c7f15f759",
   "metadata": {},
   "outputs": [],
   "source": [
    "# Q10: State the assumptions of the Central Limit Theorem."
   ]
  },
  {
   "cell_type": "code",
   "execution_count": null,
   "id": "ab0f8b25-f36a-4786-911b-081e42d8cc3e",
   "metadata": {},
   "outputs": [],
   "source": []
  }
 ],
 "metadata": {
  "kernelspec": {
   "display_name": "Python 3 (ipykernel)",
   "language": "python",
   "name": "python3"
  },
  "language_info": {
   "codemirror_mode": {
    "name": "ipython",
    "version": 3
   },
   "file_extension": ".py",
   "mimetype": "text/x-python",
   "name": "python",
   "nbconvert_exporter": "python",
   "pygments_lexer": "ipython3",
   "version": "3.10.8"
  }
 },
 "nbformat": 4,
 "nbformat_minor": 5
}
