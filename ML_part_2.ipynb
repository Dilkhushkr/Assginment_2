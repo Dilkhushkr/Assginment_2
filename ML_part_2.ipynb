{
 "cells": [
  {
   "cell_type": "code",
   "execution_count": 2,
   "id": "d93c87ba-59e8-4481-a9e0-58a9591340f8",
   "metadata": {},
   "outputs": [],
   "source": [
    "# Q1: Define overfitting and underfitting in machine learning. What are the consequences of each, and how\n",
    "# can they be mitigated?\n"
   ]
  },
  {
   "cell_type": "code",
   "execution_count": 3,
   "id": "3f2e8b12-7e50-4198-a776-f6e54a12fb60",
   "metadata": {},
   "outputs": [],
   "source": [
    "# Ans:-\n",
    "#       Overfitting:-\n",
    "#       Train:-Accuracy is high (95%)\n",
    "#       Test:- Accuracy is low   (55%)\n",
    "#       underfitting:-\n",
    "#       Train:-Accuracy is low(55%)\n",
    "#       Test:- Acurracy is low(50%)"
   ]
  },
  {
   "cell_type": "code",
   "execution_count": 5,
   "id": "36fcf2e9-e0c9-404c-bbd3-a1be01318117",
   "metadata": {},
   "outputs": [],
   "source": [
    "#Q2: How can we reduce overfitting? Explain in brief."
   ]
  },
  {
   "cell_type": "code",
   "execution_count": 6,
   "id": "fd3820de-eafa-4a95-b929-2d9b1ac88dfa",
   "metadata": {},
   "outputs": [],
   "source": [
    "# Reducing overfitting is crucial in machine learning to ensure that a model generalizes well to unseen data.\n",
    "# Overfitting occurs when a model performs well on the training data but poorly on new, unseen data."
   ]
  },
  {
   "cell_type": "code",
   "execution_count": 7,
   "id": "57f1bb9a-fd67-4b07-aa86-d9196b62e8ea",
   "metadata": {},
   "outputs": [],
   "source": [
    "#Q3: Explain underfitting. List scenarios where underfitting can occur in ML."
   ]
  },
  {
   "cell_type": "code",
   "execution_count": 8,
   "id": "b5a99240-9d16-4579-a46b-61776d736eb3",
   "metadata": {},
   "outputs": [],
   "source": [
    "# Ans:-\n",
    "#      Train:-Accuracy is low (50%)\n",
    "#      Test :-Accuracy is low (45%)\n",
    "#      occur in ML:-\n",
    "#      Linear Models for Non-Linear Data:\n",
    "#      Low Model Complexity\n",
    "#      Insufficient Features:\n",
    "#      Over-regularization:\n",
    "#      Small Training Dataset\n",
    "#      Inadequate Training\n",
    "     "
   ]
  },
  {
   "cell_type": "code",
   "execution_count": 9,
   "id": "424e9748-1e5d-45c4-b407-a434516eae3b",
   "metadata": {},
   "outputs": [],
   "source": [
    "# Q4: Explain the bias-variance tradeoff in machine learning. What is the relationship between bias and\n",
    "# variance, and how do they affect model performance?"
   ]
  },
  {
   "cell_type": "code",
   "execution_count": 10,
   "id": "5d83fad2-92c8-4f16-98a9-3e865859544e",
   "metadata": {},
   "outputs": [],
   "source": [
    "# Ans:-\n",
    "#The bais-variance tradeoff is a fundamental concept in machine learning\n",
    "# that represents the balance between two source of model can have when making \n",
    "# predication: bias and variance. Undersatnding this tradeoff is crucial building \n",
    "# models that generalize well to unseen data.\n",
    "# relation between bias and variance \n",
    "# 1.Inverse Relationship:\n",
    "# 2.Bias-Variance Tradeoff:"
   ]
  },
  {
   "cell_type": "code",
   "execution_count": 11,
   "id": "865ae343-8694-4e9c-909c-daf9df3c6362",
   "metadata": {},
   "outputs": [],
   "source": [
    "# Q5: Discuss some common methods for detecting overfitting and underfitting in machine learning models.\n",
    "# How can you determine whether your model is overfitting or underfitting?"
   ]
  },
  {
   "cell_type": "code",
   "execution_count": 12,
   "id": "29294489-e33b-45e3-a86b-57857b07109b",
   "metadata": {},
   "outputs": [],
   "source": [
    "# Ans:-\n",
    "#    1. Visual Inspection:\n",
    "#    2. Learning Curves:\n",
    "#    3. Cross-Validation:\n",
    "#    4. Regularization Strength:\n",
    "#    5. Feature Importance:\n",
    "#    6. Hyperparameter Tuning:\n",
    "#    7. Holdout Validation Set:"
   ]
  },
  {
   "cell_type": "code",
   "execution_count": 13,
   "id": "e534d6a0-322c-45c7-bbfa-b60495a6232e",
   "metadata": {},
   "outputs": [],
   "source": [
    "# Q6: Compare and contrast bias and variance in machine learning. What are some examples of high bias\n",
    "# and high variance models, and how do they differ in terms of their performance?"
   ]
  },
  {
   "cell_type": "code",
   "execution_count": 14,
   "id": "0446498b-6824-4116-a4d9-8654c75fb7e8",
   "metadata": {},
   "outputs": [],
   "source": [
    "# Ans:-\n",
    "#    Bias and variance are two fundamental concepts in machine learning that describe different types of errors in models.\n",
    "#     Let's compare and contrast them, and provide examples of high bias and high variance models along with their performance differences:"
   ]
  },
  {
   "cell_type": "code",
   "execution_count": 15,
   "id": "b5dec84d-6443-4211-8d1a-cfc8eb76c3f5",
   "metadata": {},
   "outputs": [],
   "source": [
    "# Q7: What is regularization in machine learning, and how can it be used to prevent overfitting? Describe\n",
    "# some common regularization techniques and how they work."
   ]
  },
  {
   "cell_type": "code",
   "execution_count": null,
   "id": "1b40f18b-824c-463b-9ed0-8774a4b5d03c",
   "metadata": {},
   "outputs": [],
   "source": [
    "Ans:-"
   ]
  }
 ],
 "metadata": {
  "kernelspec": {
   "display_name": "Python 3 (ipykernel)",
   "language": "python",
   "name": "python3"
  },
  "language_info": {
   "codemirror_mode": {
    "name": "ipython",
    "version": 3
   },
   "file_extension": ".py",
   "mimetype": "text/x-python",
   "name": "python",
   "nbconvert_exporter": "python",
   "pygments_lexer": "ipython3",
   "version": "3.10.8"
  }
 },
 "nbformat": 4,
 "nbformat_minor": 5
}
