{
 "cells": [
  {
   "cell_type": "code",
   "execution_count": 2,
   "id": "3b266315-6b43-454f-a794-a34c170fb710",
   "metadata": {},
   "outputs": [],
   "source": [
    "# Q1. What is data encoding? How is it useful in data science?"
   ]
  },
  {
   "cell_type": "code",
   "execution_count": 3,
   "id": "571f139d-4189-4f60-b20f-c7d254a65617",
   "metadata": {},
   "outputs": [],
   "source": [
    "# Ans:-\n",
    "#    Data encoding is the part of feature engineering in the case we convert catgorical data into numerical fomrme \n",
    "#     Beacuse in the machine leaning algorithem works on only numericl data \n",
    "#     this is most commenly use in data science "
   ]
  },
  {
   "cell_type": "code",
   "execution_count": 4,
   "id": "2f4c9e01-fe82-472d-b914-0ff5ddca8a61",
   "metadata": {},
   "outputs": [],
   "source": [
    "# Q2. What is nominal encoding? Provide an example of how you would use it in a real-world scenario."
   ]
  },
  {
   "cell_type": "code",
   "execution_count": 5,
   "id": "532551fb-1d9c-4a11-9e4e-970b3e6bfcd7",
   "metadata": {},
   "outputs": [],
   "source": [
    "# Ans:- In this case we convert catgorical into numrical but the data will be 0 and 1 formate \n",
    "#      First we Find uniqueue value and we do sort it and then we put the value 0 and 1 \n",
    "#     which data first comes"
   ]
  },
  {
   "cell_type": "code",
   "execution_count": 10,
   "id": "2996ce13-6e58-416c-9355-4b84d64a192f",
   "metadata": {},
   "outputs": [],
   "source": [
    "import pandas as pd\n",
    "from sklearn.preprocessing import OneHotEncoder"
   ]
  },
  {
   "cell_type": "code",
   "execution_count": 8,
   "id": "7b5d99d8-2729-4f8f-a3dc-4a26c22fafdd",
   "metadata": {},
   "outputs": [],
   "source": [
    "df=pd.DataFrame({\n",
    "    'color':['blue','blue','red','red','orange']\n",
    "})"
   ]
  },
  {
   "cell_type": "code",
   "execution_count": 9,
   "id": "248d796f-2c3f-4f33-8c77-12ae7763fda6",
   "metadata": {},
   "outputs": [
    {
     "data": {
      "text/html": [
       "<div>\n",
       "<style scoped>\n",
       "    .dataframe tbody tr th:only-of-type {\n",
       "        vertical-align: middle;\n",
       "    }\n",
       "\n",
       "    .dataframe tbody tr th {\n",
       "        vertical-align: top;\n",
       "    }\n",
       "\n",
       "    .dataframe thead th {\n",
       "        text-align: right;\n",
       "    }\n",
       "</style>\n",
       "<table border=\"1\" class=\"dataframe\">\n",
       "  <thead>\n",
       "    <tr style=\"text-align: right;\">\n",
       "      <th></th>\n",
       "      <th>color</th>\n",
       "    </tr>\n",
       "  </thead>\n",
       "  <tbody>\n",
       "    <tr>\n",
       "      <th>0</th>\n",
       "      <td>blue</td>\n",
       "    </tr>\n",
       "    <tr>\n",
       "      <th>1</th>\n",
       "      <td>blue</td>\n",
       "    </tr>\n",
       "    <tr>\n",
       "      <th>2</th>\n",
       "      <td>red</td>\n",
       "    </tr>\n",
       "    <tr>\n",
       "      <th>3</th>\n",
       "      <td>red</td>\n",
       "    </tr>\n",
       "    <tr>\n",
       "      <th>4</th>\n",
       "      <td>orange</td>\n",
       "    </tr>\n",
       "  </tbody>\n",
       "</table>\n",
       "</div>"
      ],
      "text/plain": [
       "    color\n",
       "0    blue\n",
       "1    blue\n",
       "2     red\n",
       "3     red\n",
       "4  orange"
      ]
     },
     "execution_count": 9,
     "metadata": {},
     "output_type": "execute_result"
    }
   ],
   "source": [
    "df"
   ]
  },
  {
   "cell_type": "code",
   "execution_count": 11,
   "id": "e51e07e5-71bf-4e18-a4bc-c10213c090f1",
   "metadata": {},
   "outputs": [],
   "source": [
    "encoder  = OneHotEncoder()"
   ]
  },
  {
   "cell_type": "code",
   "execution_count": 16,
   "id": "c83a132c-65d9-4f06-b667-4842ba4e7da0",
   "metadata": {},
   "outputs": [],
   "source": [
    "encoded=encoder.fit_transform(df).toarray()"
   ]
  },
  {
   "cell_type": "code",
   "execution_count": 19,
   "id": "f2ef3648-7f2e-45e3-a33b-742f0157dcad",
   "metadata": {},
   "outputs": [],
   "source": [
    "encoded_data=pd.DataFrame(encoded,columns=encoder.get_feature_names_out())"
   ]
  },
  {
   "cell_type": "code",
   "execution_count": 21,
   "id": "f6b8776a-571b-4135-a5b3-f6dc9bff1113",
   "metadata": {},
   "outputs": [
    {
     "data": {
      "text/html": [
       "<div>\n",
       "<style scoped>\n",
       "    .dataframe tbody tr th:only-of-type {\n",
       "        vertical-align: middle;\n",
       "    }\n",
       "\n",
       "    .dataframe tbody tr th {\n",
       "        vertical-align: top;\n",
       "    }\n",
       "\n",
       "    .dataframe thead th {\n",
       "        text-align: right;\n",
       "    }\n",
       "</style>\n",
       "<table border=\"1\" class=\"dataframe\">\n",
       "  <thead>\n",
       "    <tr style=\"text-align: right;\">\n",
       "      <th></th>\n",
       "      <th>color</th>\n",
       "      <th>color_blue</th>\n",
       "      <th>color_orange</th>\n",
       "      <th>color_red</th>\n",
       "    </tr>\n",
       "  </thead>\n",
       "  <tbody>\n",
       "    <tr>\n",
       "      <th>0</th>\n",
       "      <td>blue</td>\n",
       "      <td>1.0</td>\n",
       "      <td>0.0</td>\n",
       "      <td>0.0</td>\n",
       "    </tr>\n",
       "    <tr>\n",
       "      <th>1</th>\n",
       "      <td>blue</td>\n",
       "      <td>1.0</td>\n",
       "      <td>0.0</td>\n",
       "      <td>0.0</td>\n",
       "    </tr>\n",
       "    <tr>\n",
       "      <th>2</th>\n",
       "      <td>red</td>\n",
       "      <td>0.0</td>\n",
       "      <td>0.0</td>\n",
       "      <td>1.0</td>\n",
       "    </tr>\n",
       "    <tr>\n",
       "      <th>3</th>\n",
       "      <td>red</td>\n",
       "      <td>0.0</td>\n",
       "      <td>0.0</td>\n",
       "      <td>1.0</td>\n",
       "    </tr>\n",
       "    <tr>\n",
       "      <th>4</th>\n",
       "      <td>orange</td>\n",
       "      <td>0.0</td>\n",
       "      <td>1.0</td>\n",
       "      <td>0.0</td>\n",
       "    </tr>\n",
       "  </tbody>\n",
       "</table>\n",
       "</div>"
      ],
      "text/plain": [
       "    color  color_blue  color_orange  color_red\n",
       "0    blue         1.0           0.0        0.0\n",
       "1    blue         1.0           0.0        0.0\n",
       "2     red         0.0           0.0        1.0\n",
       "3     red         0.0           0.0        1.0\n",
       "4  orange         0.0           1.0        0.0"
      ]
     },
     "execution_count": 21,
     "metadata": {},
     "output_type": "execute_result"
    }
   ],
   "source": [
    "pd.concat([df,encoded_data],axis   = 1)"
   ]
  },
  {
   "cell_type": "code",
   "execution_count": 22,
   "id": "98b9a913-6057-4c06-b50c-8c7ae29df147",
   "metadata": {},
   "outputs": [],
   "source": [
    "# Q3. In what situations is nominal encoding preferred over one-hot encoding? Provide a practical example."
   ]
  },
  {
   "cell_type": "code",
   "execution_count": 24,
   "id": "a682827d-799e-48ae-b8f8-1b89f7419cbb",
   "metadata": {},
   "outputs": [
    {
     "data": {
      "text/html": [
       "<div>\n",
       "<style scoped>\n",
       "    .dataframe tbody tr th:only-of-type {\n",
       "        vertical-align: middle;\n",
       "    }\n",
       "\n",
       "    .dataframe tbody tr th {\n",
       "        vertical-align: top;\n",
       "    }\n",
       "\n",
       "    .dataframe thead th {\n",
       "        text-align: right;\n",
       "    }\n",
       "</style>\n",
       "<table border=\"1\" class=\"dataframe\">\n",
       "  <thead>\n",
       "    <tr style=\"text-align: right;\">\n",
       "      <th></th>\n",
       "      <th>sex</th>\n",
       "      <th>sex_female</th>\n",
       "      <th>sex_male</th>\n",
       "    </tr>\n",
       "  </thead>\n",
       "  <tbody>\n",
       "    <tr>\n",
       "      <th>0</th>\n",
       "      <td>male</td>\n",
       "      <td>0.0</td>\n",
       "      <td>1.0</td>\n",
       "    </tr>\n",
       "    <tr>\n",
       "      <th>1</th>\n",
       "      <td>female</td>\n",
       "      <td>1.0</td>\n",
       "      <td>0.0</td>\n",
       "    </tr>\n",
       "    <tr>\n",
       "      <th>2</th>\n",
       "      <td>male</td>\n",
       "      <td>0.0</td>\n",
       "      <td>1.0</td>\n",
       "    </tr>\n",
       "    <tr>\n",
       "      <th>3</th>\n",
       "      <td>female</td>\n",
       "      <td>1.0</td>\n",
       "      <td>0.0</td>\n",
       "    </tr>\n",
       "    <tr>\n",
       "      <th>4</th>\n",
       "      <td>male</td>\n",
       "      <td>0.0</td>\n",
       "      <td>1.0</td>\n",
       "    </tr>\n",
       "  </tbody>\n",
       "</table>\n",
       "</div>"
      ],
      "text/plain": [
       "      sex  sex_female  sex_male\n",
       "0    male         0.0       1.0\n",
       "1  female         1.0       0.0\n",
       "2    male         0.0       1.0\n",
       "3  female         1.0       0.0\n",
       "4    male         0.0       1.0"
      ]
     },
     "execution_count": 24,
     "metadata": {},
     "output_type": "execute_result"
    }
   ],
   "source": [
    "#Ans:-if we  have less catgorical data that time we can do label encoding \n",
    "import pandas as pd\n",
    "from sklearn.preprocessing import OneHotEncoder\n",
    "df=pd.DataFrame({\n",
    "    'sex':['male','female','male','female','male']\n",
    "})\n",
    "encoder  = OneHotEncoder()\n",
    "encoded=encoder.fit_transform(df).toarray()\n",
    "encoded_data=pd.DataFrame(encoded,columns=encoder.get_feature_names_out())\n",
    "pd.concat([df,encoded_data],axis   = 1)"
   ]
  },
  {
   "cell_type": "code",
   "execution_count": 27,
   "id": "2160c419-296a-43cf-8ebf-e637195b98fc",
   "metadata": {},
   "outputs": [],
   "source": [
    "# Q4. Suppose you have a dataset containing categorical data with 5 unique values. Which encoding\n",
    "# technique would you use to transform this data into a format suitable for machine learning algorithms?\n",
    "# Explain why you made this choice."
   ]
  },
  {
   "cell_type": "code",
   "execution_count": 26,
   "id": "8cdf01bb-3874-46f8-a455-5d80a317bf2d",
   "metadata": {},
   "outputs": [],
   "source": [
    "# Ans:-\n",
    "# 1.One-Hot Encoding:\n",
    "\n",
    "# Suitability: Suitable when the categorical variable has no ordinal relationship, meaning the categories don't have a specific order.\n",
    "# Advantages: Each category is represented by a binary column, making it easy for algorithms to understand. It preserves the independence of categories.\n",
    "# Considerations: May lead to a high-dimensional dataset if there are many unique categories.\n",
    "# 2.Label Encoding:\n",
    "# Suitability: Suitable when the categorical variable has an ordinal relationship, meaning there is a meaningful order among the categories.\n",
    "# Advantages: Reduces dimensionality compared to one-hot encoding. Useful when the order among categories matters.\n",
    "# Considerations: Assumes an ordinal relationship that may not exist, and the numerical values assigned could be misleading to the algorithm.\n",
    "# 3.Binary Encoding:\n",
    "# Suitability: Suitable for categorical variables with a moderate number of unique categories.\n",
    "# Advantages: Reduces dimensionality compared to one-hot encoding. More efficient for high-cardinality data than one-hot encoding.\n",
    "# Considerations: Adds complexity to interpretation compared to one-hot encoding.\n",
    "# 4.Frequency or Count Encoding:\n",
    "# Suitability: Suitable for high-cardinality categorical variables.\n",
    "# Advantages: Encodes categories based on their frequency or count, providing information about the distribution of categories.\n",
    "# Considerations: May not be suitable for categories with similar frequencies.\n",
    "# 5.Target Encoding (Mean Encoding):\n",
    "# Suitability: Suitable when the target variable is available and there is a correlation between the categorical variable and the target.\n",
    "# Advantages: Encodes categories based on the mean of the target variable, capturing the relationship with the target.\n",
    "# Considerations: Prone to overfitting if not handled carefully, and may lead to leakage if not done properly."
   ]
  },
  {
   "cell_type": "code",
   "execution_count": 29,
   "id": "92909d4c-b4bd-4313-8b15-949c6487f3d4",
   "metadata": {},
   "outputs": [],
   "source": [
    "# Q5. In a machine learning project, you have a dataset with 1000 rows and 5 columns. Two of the columns\n",
    "# are categorical, and the remaining three columns are numerical. If you were to use nominal encoding to\n",
    "# transform the categorical data, how many new columns would be created? Show your calculations."
   ]
  },
  {
   "cell_type": "code",
   "execution_count": 33,
   "id": "688dbf12-5e34-4504-bb46-2dc9b1a1e2b4",
   "metadata": {},
   "outputs": [],
   "source": [
    "# # Ans:-\n",
    "# #    The number of new columns created through nominal encoding, specifically one-hot encoding,\n",
    "# #     depends on the number of unique categories in each categorical column. For each unique category in a column, a new binary column is created.\n",
    "# # The number of new columns created through nominal encoding, specifically one-hot encoding, depends on the number of unique categories in each categorical\n",
    "# # column. For each unique category in a column, a new binary column is created.\n",
    "# # Let's denote the number of unique categories in the first categorical column as c1 and the number of unique categories in the second categorical column as c2\n",
    "# # The formula for calculating the number of new columns created through one-hot encoding is given by:\n",
    "# #     Number of New comunns = c1+c2-2\n",
    "# let's say c1 = 4 and c2 = 3\n",
    "# then the number of columns = 4+3-2 = 5 "
   ]
  },
  {
   "cell_type": "code",
   "execution_count": 35,
   "id": "938ed566-2474-4a6f-a9a2-99da1eec4132",
   "metadata": {},
   "outputs": [],
   "source": [
    "# Q6. You are working with a dataset containing information about different types of animals, including their\n",
    "# species, habitat, and diet. Which encoding technique would you use to transform the categorical data into\n",
    "# a format suitable for machine learning algorithms? Justify your answer."
   ]
  },
  {
   "cell_type": "code",
   "execution_count": 36,
   "id": "44d549fa-7cfe-43fe-b378-e95b20c22ed0",
   "metadata": {},
   "outputs": [],
   "source": [
    "# 1.One-Hot Encoding:\n",
    "# Justification: If the categorical variables such as \"species,\" \"habitat,\" and \"diet\" have no inherent order or hierarchy,\n",
    "# one-hot encoding would be a suitable choice. Each unique category would be represented by a binary column, making it easy for\n",
    "# machine learning algorithms to handle.\n",
    "# 2.Label Encoding:\n",
    "# Justification: If there is a meaningful ordinal relationship among the categories in any of the variables\n",
    "# (e.g., a specific order in the \"diet\" categories like \"herbivore,\" \"omnivore,\" \"carnivore\"), you might consider label encoding.\n",
    "# However, be cautious and ensure that the ordinal relationship is accurate and meaningful.\n",
    "# 3.Binary Encoding:\n",
    "# Justification: If the number of unique categories in any of the variables is moderate,\n",
    "# binary encoding could be an efficient choice. It reduces dimensionality compared to one-hot encoding while maintaining interpretability.\n",
    "# 4.Frequency or Count Encoding:\n",
    "# Justification: If any of the categorical variables have a high cardinality (many unique categories),\n",
    "# frequency or count encoding might be considered. This method encodes categories based on their occurrence frequency\n",
    "# and could capture the distribution of species, habitats, or diets.\n",
    "# 5.Target Encoding (Mean Encoding):\n",
    "# Justification: If your dataset includes a target variable (e.g., some outcome related to animals), \n",
    "# and there is a correlation between the categorical variables (e.g., species, habitat, diet) and the target,\n",
    "# target encoding might be explored. It encodes categories based on the mean of the target variable, capturing relationships with the outcome."
   ]
  },
  {
   "cell_type": "code",
   "execution_count": 37,
   "id": "6e4e8220-78f0-4d63-abed-78d13813e937",
   "metadata": {},
   "outputs": [],
   "source": [
    "# Q7.You are working on a project that involves predicting customer churn for a telecommunications\n",
    "# company. You have a dataset with 5 features, including the customer's gender, age, contract type,\n",
    "# monthly charges, and tenure. Which encoding technique(s) would you use to transform the categorical\n",
    "# data into numerical data? Provide a step-by-step explanation of how you would implement the encoding."
   ]
  },
  {
   "cell_type": "code",
   "execution_count": 38,
   "id": "141a11e1-c1ed-42fa-97b1-fd85b67a222a",
   "metadata": {},
   "outputs": [
    {
     "ename": "SyntaxError",
     "evalue": "invalid syntax. Perhaps you forgot a comma? (34342526.py, line 1)",
     "output_type": "error",
     "traceback": [
      "\u001b[0;36m  Cell \u001b[0;32mIn[38], line 1\u001b[0;36m\u001b[0m\n\u001b[0;31m    Gender (Binary Categorical):\u001b[0m\n\u001b[0m            ^\u001b[0m\n\u001b[0;31mSyntaxError\u001b[0m\u001b[0;31m:\u001b[0m invalid syntax. Perhaps you forgot a comma?\n"
     ]
    }
   ],
   "source": [
    "Gender (Binary Categorical):\n",
    "\n",
    "Encoding Technique: Label Encoding or Binary Encoding.\n",
    "Explanation:\n",
    "If there are only two genders (binary), you can use label encoding (assigning 0 or 1).\n",
    "Alternatively, you might use binary encoding, which represents each category with a binary code."
   ]
  },
  {
   "cell_type": "code",
   "execution_count": 39,
   "id": "44e5d48a-ce40-4ac1-b7d5-b2b79aa2f38e",
   "metadata": {},
   "outputs": [
    {
     "ename": "ModuleNotFoundError",
     "evalue": "No module named 'category_encoders'",
     "output_type": "error",
     "traceback": [
      "\u001b[0;31m---------------------------------------------------------------------------\u001b[0m",
      "\u001b[0;31mModuleNotFoundError\u001b[0m                       Traceback (most recent call last)",
      "Cell \u001b[0;32mIn[39], line 2\u001b[0m\n\u001b[1;32m      1\u001b[0m \u001b[38;5;66;03m# Example in Python using pandas for binary encoding\u001b[39;00m\n\u001b[0;32m----> 2\u001b[0m \u001b[38;5;28;01mimport\u001b[39;00m \u001b[38;5;21;01mcategory_encoders\u001b[39;00m \u001b[38;5;28;01mas\u001b[39;00m \u001b[38;5;21;01mce\u001b[39;00m\n\u001b[1;32m      4\u001b[0m encoder \u001b[38;5;241m=\u001b[39m ce\u001b[38;5;241m.\u001b[39mBinaryEncoder(cols\u001b[38;5;241m=\u001b[39m[\u001b[38;5;124m'\u001b[39m\u001b[38;5;124mgender\u001b[39m\u001b[38;5;124m'\u001b[39m])\n\u001b[1;32m      5\u001b[0m data_encoded \u001b[38;5;241m=\u001b[39m encoder\u001b[38;5;241m.\u001b[39mfit_transform(data)\n",
      "\u001b[0;31mModuleNotFoundError\u001b[0m: No module named 'category_encoders'"
     ]
    }
   ],
   "source": [
    "# Example in Python using pandas for binary encoding\n",
    "import category_encoders as ce\n",
    "\n",
    "encoder = ce.BinaryEncoder(cols=['gender'])\n",
    "data_encoded = encoder.fit_transform(data)\n"
   ]
  },
  {
   "cell_type": "code",
   "execution_count": null,
   "id": "e6426bfc-8302-484e-8b0d-ba932c5c217e",
   "metadata": {},
   "outputs": [],
   "source": []
  }
 ],
 "metadata": {
  "kernelspec": {
   "display_name": "Python 3 (ipykernel)",
   "language": "python",
   "name": "python3"
  },
  "language_info": {
   "codemirror_mode": {
    "name": "ipython",
    "version": 3
   },
   "file_extension": ".py",
   "mimetype": "text/x-python",
   "name": "python",
   "nbconvert_exporter": "python",
   "pygments_lexer": "ipython3",
   "version": "3.10.8"
  }
 },
 "nbformat": 4,
 "nbformat_minor": 5
}
