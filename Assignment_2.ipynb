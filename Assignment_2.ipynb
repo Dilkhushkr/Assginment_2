{
 "cells": [
  {
   "cell_type": "code",
   "execution_count": 1,
   "id": "d73e43d7-d455-40f5-856b-31d8d2dc9ca2",
   "metadata": {},
   "outputs": [],
   "source": [
    "# Q.1 How do you comment in python ? What are the different types of comments\n",
    " \n",
    "    # Ans:- there are many ways of comment \n",
    "      #1. through the # \n",
    "        #2. through the all String rulles (\"\",\"\"\"\",\"\"\"\"\"\",'')\n"
   ]
  },
  {
   "cell_type": "code",
   "execution_count": 3,
   "id": "2c40ef3d-f819-402e-9aa5-2e0fecc2b6a7",
   "metadata": {},
   "outputs": [],
   "source": [
    "# Q.2What are the variable in python? How do  you declare and assign value to variables\n",
    "# Ans :- variable is a memory location where we can strore  the data \n",
    "#     eg:- a = 10 \n",
    "#           here a is name of variable and in the we assign the value "
   ]
  },
  {
   "cell_type": "code",
   "execution_count": 11,
   "id": "1b465ffb-2f1e-42bd-9385-e4ea969a1802",
   "metadata": {},
   "outputs": [],
   "source": [
    "# Q.3 How do you convert one data type to another in python\n",
    " # Ans :- we can convert data one to another form through the typecating \n",
    " #      eg :- a = 10\n",
    "  #            a = float(a)"
   ]
  },
  {
   "cell_type": "code",
   "execution_count": 12,
   "id": "484c4697-6497-423a-b6e0-8fd5735f9392",
   "metadata": {},
   "outputs": [],
   "source": [
    "# Q.4 How do you write and execute a pyhton script from the command line \n",
    "# Ans :- it is too easy to run it first you have to go on command line and create file name .py and code will be execute the to esay "
   ]
  },
  {
   "cell_type": "code",
   "execution_count": 17,
   "id": "304c75d1-eb84-4cba-a1f3-a1da1415c462",
   "metadata": {},
   "outputs": [],
   "source": [
    "# Q.5 Given a list my_list = [1,2,3,4,5], write the code to slice the list and obtain the sub-list[2,3"
   ]
  },
  {
   "cell_type": "code",
   "execution_count": 21,
   "id": "969936c0-0b3e-4741-901d-b049c41e80db",
   "metadata": {},
   "outputs": [],
   "source": [
    "my_list = [1,2,3,4,5]"
   ]
  },
  {
   "cell_type": "code",
   "execution_count": 22,
   "id": "dafd555d-f887-46b1-bb05-e61529757423",
   "metadata": {},
   "outputs": [
    {
     "data": {
      "text/plain": [
       "[1, 2, 3, 4, 5]"
      ]
     },
     "execution_count": 22,
     "metadata": {},
     "output_type": "execute_result"
    }
   ],
   "source": [
    "my_list"
   ]
  },
  {
   "cell_type": "code",
   "execution_count": 23,
   "id": "73b7b662-8498-46ef-8b6a-e90ec330e083",
   "metadata": {},
   "outputs": [
    {
     "data": {
      "text/plain": [
       "[2, 3]"
      ]
     },
     "execution_count": 23,
     "metadata": {},
     "output_type": "execute_result"
    }
   ],
   "source": [
    "my_list[1:3:1]"
   ]
  },
  {
   "cell_type": "code",
   "execution_count": 24,
   "id": "c8398b4f-e518-451d-ad99-d20b45e8717e",
   "metadata": {},
   "outputs": [],
   "source": [
    "# Q.6  What is the complex number in mathematics ,and how is it represented in pyhton\n",
    "  # ans :- the sum of real number and imagenary number is called complex number \n",
    "  #      eg:- 4 + 6j\n",
    "  #       here 4 is real number but 6j is a imagnary number"
   ]
  },
  {
   "cell_type": "code",
   "execution_count": 25,
   "id": "c0452018-fdf0-446e-8771-bc1fd3d2195a",
   "metadata": {},
   "outputs": [],
   "source": [
    "# Q.7 what are the correct way to declare a variable named age and assign the value 25 ton it \n",
    "# Ans:- the best way to declare it list we have to make a list and the put it value in list this all\n",
    "#   eg:- l=[1,2,5,\"Hello\"]"
   ]
  },
  {
   "cell_type": "code",
   "execution_count": 26,
   "id": "9334c4b6-878d-4c6c-b31b-d37d6a275982",
   "metadata": {},
   "outputs": [],
   "source": [
    "# Q.8 Declare a varibale named price and assign the value 9.99 to it. What data type does this variable belong to"
   ]
  },
  {
   "cell_type": "code",
   "execution_count": 27,
   "id": "ca483c36-5526-490b-8506-26a6085b44c5",
   "metadata": {},
   "outputs": [],
   "source": [
    "price = 9.99"
   ]
  },
  {
   "cell_type": "code",
   "execution_count": 28,
   "id": "61322cb6-e920-434b-a943-8d40b70220bd",
   "metadata": {},
   "outputs": [
    {
     "data": {
      "text/plain": [
       "float"
      ]
     },
     "execution_count": 28,
     "metadata": {},
     "output_type": "execute_result"
    }
   ],
   "source": [
    "type(price)"
   ]
  },
  {
   "cell_type": "code",
   "execution_count": 29,
   "id": "ba304722-c384-40e9-8e98-c23a04058c3c",
   "metadata": {},
   "outputs": [],
   "source": [
    "# Q.9 create a variable named name and assign your full name to it as a string . How would you print the value of this varibale "
   ]
  },
  {
   "cell_type": "code",
   "execution_count": 30,
   "id": "22292ca2-d7e8-4323-babe-ba6bb61ec24f",
   "metadata": {},
   "outputs": [],
   "source": [
    "name =\"Dilkhush singh\""
   ]
  },
  {
   "cell_type": "code",
   "execution_count": 31,
   "id": "518479bf-b268-4c73-bb96-fd301b74c90b",
   "metadata": {},
   "outputs": [
    {
     "data": {
      "text/plain": [
       "'Dilkhush singh'"
      ]
     },
     "execution_count": 31,
     "metadata": {},
     "output_type": "execute_result"
    }
   ],
   "source": [
    "name"
   ]
  },
  {
   "cell_type": "code",
   "execution_count": 32,
   "id": "8cb98751-f9e4-4565-8ab3-cfecbc1938d2",
   "metadata": {},
   "outputs": [],
   "source": [
    "# Q.10 Given the String \"Hello World!\",extract the subString \"world\""
   ]
  },
  {
   "cell_type": "code",
   "execution_count": 33,
   "id": "82acf1f5-8261-49d1-8a35-d1d80b17580a",
   "metadata": {},
   "outputs": [],
   "source": [
    "str = \"Hello, World!\""
   ]
  },
  {
   "cell_type": "code",
   "execution_count": 40,
   "id": "761c724d-5c7a-4153-b7b4-73caad0d3777",
   "metadata": {},
   "outputs": [
    {
     "data": {
      "text/plain": [
       "'World'"
      ]
     },
     "execution_count": 40,
     "metadata": {},
     "output_type": "execute_result"
    }
   ],
   "source": [
    "str[7:12:1]"
   ]
  },
  {
   "cell_type": "code",
   "execution_count": 41,
   "id": "9e300ae8-95de-4ef9-8205-dc5da67993c5",
   "metadata": {},
   "outputs": [],
   "source": [
    "# Q.11 Create a variable named \"is_student\"and assign it a bookean value indicating whether you are currently a student or not "
   ]
  },
  {
   "cell_type": "code",
   "execution_count": 43,
   "id": "5137907d-b932-4f6b-80d8-d6021714435e",
   "metadata": {},
   "outputs": [
    {
     "ename": "IndentationError",
     "evalue": "unindent does not match any outer indentation level (<tokenize>, line 4)",
     "output_type": "error",
     "traceback": [
      "\u001b[0;36m  File \u001b[0;32m<tokenize>:4\u001b[0;36m\u001b[0m\n\u001b[0;31m    else:\u001b[0m\n\u001b[0m    ^\u001b[0m\n\u001b[0;31mIndentationError\u001b[0m\u001b[0;31m:\u001b[0m unindent does not match any outer indentation level\n"
     ]
    }
   ],
   "source": [
    "is_student=True\n",
    "  if is_student==True:\n",
    "        print(\"YES\")\n",
    "   else\n",
    "        print(\"NO\")\n",
    "   "
   ]
  },
  {
   "cell_type": "code",
   "execution_count": null,
   "id": "a216cb52-d285-4d05-9693-034bbda1d8a2",
   "metadata": {},
   "outputs": [],
   "source": []
  }
 ],
 "metadata": {
  "kernelspec": {
   "display_name": "Python 3 (ipykernel)",
   "language": "python",
   "name": "python3"
  },
  "language_info": {
   "codemirror_mode": {
    "name": "ipython",
    "version": 3
   },
   "file_extension": ".py",
   "mimetype": "text/x-python",
   "name": "python",
   "nbconvert_exporter": "python",
   "pygments_lexer": "ipython3",
   "version": "3.10.8"
  }
 },
 "nbformat": 4,
 "nbformat_minor": 5
}
