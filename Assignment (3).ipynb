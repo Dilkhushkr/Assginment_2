{
 "cells": [
  {
   "cell_type": "code",
   "execution_count": 3,
   "id": "bd3e6a19-59a5-4bac-97a2-ebeffe7c5389",
   "metadata": {},
   "outputs": [],
   "source": [
    "import numpy as np\n",
    "list_ = [ '1','2','3','4','5' ]\n",
    "array_list = np.array(object = list_)"
   ]
  },
  {
   "cell_type": "code",
   "execution_count": 4,
   "id": "b43d7553-e4b4-4b0b-b3b8-36e0c3c9c27f",
   "metadata": {},
   "outputs": [
    {
     "data": {
      "text/plain": [
       "array(['1', '2', '3', '4', '5'], dtype='<U1')"
      ]
     },
     "execution_count": 4,
     "metadata": {},
     "output_type": "execute_result"
    }
   ],
   "source": [
    "array_list"
   ]
  },
  {
   "cell_type": "code",
   "execution_count": 5,
   "id": "98aa2078-43ff-4329-97d8-7d5e8b06ed8e",
   "metadata": {},
   "outputs": [],
   "source": [
    "# Q1. Is there any difference in the data type of variables list_ and array_list? If there is then write a code\n",
    "# to print the data types of both the variables."
   ]
  },
  {
   "cell_type": "code",
   "execution_count": 6,
   "id": "46927378-73eb-4cf8-bbb0-930cf018a768",
   "metadata": {},
   "outputs": [
    {
     "data": {
      "text/plain": [
       "list"
      ]
     },
     "execution_count": 6,
     "metadata": {},
     "output_type": "execute_result"
    }
   ],
   "source": [
    "type(list_)"
   ]
  },
  {
   "cell_type": "code",
   "execution_count": 7,
   "id": "dc4e8ca2-489c-426c-bbbe-080d66191987",
   "metadata": {},
   "outputs": [
    {
     "data": {
      "text/plain": [
       "numpy.ndarray"
      ]
     },
     "execution_count": 7,
     "metadata": {},
     "output_type": "execute_result"
    }
   ],
   "source": [
    "type(array_list)"
   ]
  },
  {
   "cell_type": "code",
   "execution_count": 8,
   "id": "5d07e3e1-473f-4fcf-97ce-ed12ed6b7e30",
   "metadata": {},
   "outputs": [],
   "source": [
    "# Q2. Write a code to print the data type of each and every element of both the variables list_ and\n",
    "# arra_list."
   ]
  },
  {
   "cell_type": "code",
   "execution_count": 11,
   "id": "92dbb977-6155-4f1b-a429-ceae5e11c780",
   "metadata": {},
   "outputs": [
    {
     "name": "stdout",
     "output_type": "stream",
     "text": [
      "Data types of all element of list is  :\n",
      "<class 'str'>\n",
      "<class 'str'>\n",
      "<class 'str'>\n",
      "<class 'str'>\n",
      "<class 'str'>\n"
     ]
    }
   ],
   "source": [
    "print(\"Data types of all element of list is  :\")\n",
    "for i in list_:\n",
    "    print(type(i))"
   ]
  },
  {
   "cell_type": "code",
   "execution_count": 12,
   "id": "86175f7c-fe7e-415d-bdfe-4cf8f82b254b",
   "metadata": {},
   "outputs": [
    {
     "name": "stdout",
     "output_type": "stream",
     "text": [
      "Date type of all element of array_list:\n",
      "<class 'numpy.str_'>\n",
      "<class 'numpy.str_'>\n",
      "<class 'numpy.str_'>\n",
      "<class 'numpy.str_'>\n",
      "<class 'numpy.str_'>\n"
     ]
    }
   ],
   "source": [
    "print(\"Date type of all element of array_list:\")\n",
    "for i in array_list:\n",
    "    print(type(i))"
   ]
  },
  {
   "cell_type": "code",
   "execution_count": 13,
   "id": "55b62e15-303a-4107-958b-41e40ca0b654",
   "metadata": {},
   "outputs": [],
   "source": [
    "# Q.3. Considering the following changes in the variable, array_list:\n",
    "# array_list = np.array(object = list_, dtype = int)\n",
    "# Will there be any difference in the data type of the elements present in both the variables, list_ and\n",
    "# arra_list? If so then print the data types of each and every element present in both the variables, list_\n",
    "# and arra_list."
   ]
  },
  {
   "cell_type": "code",
   "execution_count": 14,
   "id": "dbf14b94-99ae-4a3c-9bc5-4f94d85377d4",
   "metadata": {},
   "outputs": [],
   "source": [
    "array_list = np.array(object = list_ , dtype = int)"
   ]
  },
  {
   "cell_type": "code",
   "execution_count": 15,
   "id": "196a3f30-f870-46dc-af36-804d242b25f7",
   "metadata": {},
   "outputs": [
    {
     "data": {
      "text/plain": [
       "array([1, 2, 3, 4, 5])"
      ]
     },
     "execution_count": 15,
     "metadata": {},
     "output_type": "execute_result"
    }
   ],
   "source": [
    "array_list"
   ]
  },
  {
   "cell_type": "code",
   "execution_count": 16,
   "id": "2d208019-6df2-4fdb-807c-d942d2dcaa92",
   "metadata": {},
   "outputs": [
    {
     "name": "stdout",
     "output_type": "stream",
     "text": [
      "Data types of all element of list is  :\n",
      "<class 'str'>\n",
      "<class 'str'>\n",
      "<class 'str'>\n",
      "<class 'str'>\n",
      "<class 'str'>\n"
     ]
    }
   ],
   "source": [
    "print(\"Data types of all element of list is  :\")\n",
    "for i in list_:\n",
    "    print(type(i))"
   ]
  },
  {
   "cell_type": "code",
   "execution_count": 19,
   "id": "dcfdb85c-ad80-49a0-b877-f5b70b07a865",
   "metadata": {},
   "outputs": [
    {
     "name": "stdout",
     "output_type": "stream",
     "text": [
      "Data types of all element of array_list is  :\n",
      "<class 'numpy.int64'>\n",
      "<class 'numpy.int64'>\n",
      "<class 'numpy.int64'>\n",
      "<class 'numpy.int64'>\n",
      "<class 'numpy.int64'>\n"
     ]
    }
   ],
   "source": [
    "print(\"Data types of all element of array_list is  :\")\n",
    "for i in array_list:\n",
    "    print(type(i))\n",
    "    "
   ]
  },
  {
   "cell_type": "code",
   "execution_count": 20,
   "id": "620971e4-57cc-452e-897a-4b17ac635a75",
   "metadata": {},
   "outputs": [],
   "source": [
    "import numpy as np\n",
    "num_list = [ [ 1 , 2 , 3 ] , [ 4 , 5 , 6 ] ]\n",
    "num_array = np.array(object = num_list)"
   ]
  },
  {
   "cell_type": "code",
   "execution_count": 21,
   "id": "552d6760-0a45-46db-ae7a-d75218866ec5",
   "metadata": {},
   "outputs": [
    {
     "data": {
      "text/plain": [
       "array([[1, 2, 3],\n",
       "       [4, 5, 6]])"
      ]
     },
     "execution_count": 21,
     "metadata": {},
     "output_type": "execute_result"
    }
   ],
   "source": [
    "num_array"
   ]
  },
  {
   "cell_type": "code",
   "execution_count": 22,
   "id": "dcc44836-bd99-4ff9-bbb0-ac1acdea6809",
   "metadata": {},
   "outputs": [],
   "source": [
    "# Q4. Write a code to find the following characteristics of variable, num_array:\n",
    "# (i) shape\n",
    "# (ii) size"
   ]
  },
  {
   "cell_type": "code",
   "execution_count": 23,
   "id": "09ccdb5e-6731-4a08-a0c6-488253ac92af",
   "metadata": {},
   "outputs": [
    {
     "data": {
      "text/plain": [
       "(2, 3)"
      ]
     },
     "execution_count": 23,
     "metadata": {},
     "output_type": "execute_result"
    }
   ],
   "source": [
    "num_array.shape"
   ]
  },
  {
   "cell_type": "code",
   "execution_count": 24,
   "id": "e02d84d6-4fa6-4e1e-b6ab-72f5047ea403",
   "metadata": {},
   "outputs": [
    {
     "data": {
      "text/plain": [
       "6"
      ]
     },
     "execution_count": 24,
     "metadata": {},
     "output_type": "execute_result"
    }
   ],
   "source": [
    "num_array.size"
   ]
  },
  {
   "cell_type": "code",
   "execution_count": 25,
   "id": "b0a913a0-e8c8-49f6-910f-7cfa10ec0ef2",
   "metadata": {},
   "outputs": [],
   "source": [
    "# Q5. Write a code to create numpy array of 3*3 matrix containing zeros only, using a numpy array\n",
    "# creation function."
   ]
  },
  {
   "cell_type": "code",
   "execution_count": 26,
   "id": "16834090-43e5-4503-b286-8acf520945b8",
   "metadata": {},
   "outputs": [
    {
     "data": {
      "text/plain": [
       "array([[0, 0, 0],\n",
       "       [0, 0, 0],\n",
       "       [0, 0, 0]])"
      ]
     },
     "execution_count": 26,
     "metadata": {},
     "output_type": "execute_result"
    }
   ],
   "source": [
    "np.random.randint(0,1,(3,3))"
   ]
  },
  {
   "cell_type": "code",
   "execution_count": 27,
   "id": "89bf0015-7f1b-48ef-9782-030d940af05b",
   "metadata": {},
   "outputs": [],
   "source": [
    "# Q6. Create an identity matrix of shape (5,5) using numpy functions?\n",
    "# [Hint: An identity matrix is a matrix containing 1 diagonally and other elements will be 0.]"
   ]
  },
  {
   "cell_type": "code",
   "execution_count": 28,
   "id": "ea7f9aae-b2e4-49e1-b410-b760a5a8d1bd",
   "metadata": {},
   "outputs": [
    {
     "data": {
      "text/plain": [
       "array([[1, 0, 0, 0, 0],\n",
       "       [0, 1, 0, 0, 0],\n",
       "       [0, 0, 1, 0, 0],\n",
       "       [0, 0, 0, 1, 0],\n",
       "       [0, 0, 0, 0, 1]])"
      ]
     },
     "execution_count": 28,
     "metadata": {},
     "output_type": "execute_result"
    }
   ],
   "source": [
    "np.diag([1,1,1,1,1])"
   ]
  },
  {
   "cell_type": "code",
   "execution_count": 29,
   "id": "ac7239dc-6f68-4f39-a44e-befb2e7bdeb4",
   "metadata": {},
   "outputs": [
    {
     "data": {
      "text/plain": [
       "array([[1., 0., 0., 0., 0.],\n",
       "       [0., 1., 0., 0., 0.],\n",
       "       [0., 0., 1., 0., 0.],\n",
       "       [0., 0., 0., 1., 0.],\n",
       "       [0., 0., 0., 0., 1.]])"
      ]
     },
     "execution_count": 29,
     "metadata": {},
     "output_type": "execute_result"
    }
   ],
   "source": [
    "np.eye(5)"
   ]
  },
  {
   "cell_type": "code",
   "execution_count": null,
   "id": "77609bde-948f-4754-8461-55249b39df75",
   "metadata": {},
   "outputs": [],
   "source": [
    "np"
   ]
  }
 ],
 "metadata": {
  "kernelspec": {
   "display_name": "Python 3 (ipykernel)",
   "language": "python",
   "name": "python3"
  },
  "language_info": {
   "codemirror_mode": {
    "name": "ipython",
    "version": 3
   },
   "file_extension": ".py",
   "mimetype": "text/x-python",
   "name": "python",
   "nbconvert_exporter": "python",
   "pygments_lexer": "ipython3",
   "version": "3.10.8"
  }
 },
 "nbformat": 4,
 "nbformat_minor": 5
}
