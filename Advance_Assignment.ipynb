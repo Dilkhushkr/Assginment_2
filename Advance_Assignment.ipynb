{
 "cells": [
  {
   "cell_type": "code",
   "execution_count": 3,
   "id": "a0d7c97b-c118-4668-8c8f-5b08b21f17f2",
   "metadata": {},
   "outputs": [],
   "source": [
    "# Q.1 List any five functions of the pandas library with execution.\n",
    "import pandas as pd \n",
    "data = pd.read_csv('plsyers_data.csv')\n"
   ]
  },
  {
   "cell_type": "code",
   "execution_count": 11,
   "id": "8b713cbd-428b-42bd-a89f-181b046596e8",
   "metadata": {},
   "outputs": [
    {
     "data": {
      "text/html": [
       "<div>\n",
       "<style scoped>\n",
       "    .dataframe tbody tr th:only-of-type {\n",
       "        vertical-align: middle;\n",
       "    }\n",
       "\n",
       "    .dataframe tbody tr th {\n",
       "        vertical-align: top;\n",
       "    }\n",
       "\n",
       "    .dataframe thead th {\n",
       "        text-align: right;\n",
       "    }\n",
       "</style>\n",
       "<table border=\"1\" class=\"dataframe\">\n",
       "  <thead>\n",
       "    <tr style=\"text-align: right;\">\n",
       "      <th></th>\n",
       "      <th>Rk</th>\n",
       "      <th>Player</th>\n",
       "      <th>Pos</th>\n",
       "      <th>Age</th>\n",
       "      <th>Tm</th>\n",
       "      <th>G</th>\n",
       "      <th>GS</th>\n",
       "      <th>MP</th>\n",
       "      <th>FG</th>\n",
       "      <th>FGA</th>\n",
       "      <th>...</th>\n",
       "      <th>FT%</th>\n",
       "      <th>ORB</th>\n",
       "      <th>DRB</th>\n",
       "      <th>TRB</th>\n",
       "      <th>AST</th>\n",
       "      <th>STL</th>\n",
       "      <th>BLK</th>\n",
       "      <th>TOV</th>\n",
       "      <th>PF</th>\n",
       "      <th>PTS</th>\n",
       "    </tr>\n",
       "  </thead>\n",
       "  <tbody>\n",
       "    <tr>\n",
       "      <th>0</th>\n",
       "      <td>1</td>\n",
       "      <td>Quincy Acy</td>\n",
       "      <td>PF</td>\n",
       "      <td>24</td>\n",
       "      <td>NYK</td>\n",
       "      <td>68</td>\n",
       "      <td>22</td>\n",
       "      <td>1287</td>\n",
       "      <td>152</td>\n",
       "      <td>331</td>\n",
       "      <td>...</td>\n",
       "      <td>.784</td>\n",
       "      <td>79</td>\n",
       "      <td>222</td>\n",
       "      <td>301</td>\n",
       "      <td>68</td>\n",
       "      <td>27</td>\n",
       "      <td>22</td>\n",
       "      <td>60</td>\n",
       "      <td>147</td>\n",
       "      <td>398</td>\n",
       "    </tr>\n",
       "    <tr>\n",
       "      <th>1</th>\n",
       "      <td>2</td>\n",
       "      <td>Jordan Adams</td>\n",
       "      <td>SG</td>\n",
       "      <td>20</td>\n",
       "      <td>MEM</td>\n",
       "      <td>30</td>\n",
       "      <td>0</td>\n",
       "      <td>248</td>\n",
       "      <td>35</td>\n",
       "      <td>86</td>\n",
       "      <td>...</td>\n",
       "      <td>.609</td>\n",
       "      <td>9</td>\n",
       "      <td>19</td>\n",
       "      <td>28</td>\n",
       "      <td>16</td>\n",
       "      <td>16</td>\n",
       "      <td>7</td>\n",
       "      <td>14</td>\n",
       "      <td>24</td>\n",
       "      <td>94</td>\n",
       "    </tr>\n",
       "    <tr>\n",
       "      <th>2</th>\n",
       "      <td>3</td>\n",
       "      <td>Steven Adams</td>\n",
       "      <td>C</td>\n",
       "      <td>21</td>\n",
       "      <td>OKC</td>\n",
       "      <td>70</td>\n",
       "      <td>67</td>\n",
       "      <td>1771</td>\n",
       "      <td>217</td>\n",
       "      <td>399</td>\n",
       "      <td>...</td>\n",
       "      <td>.502</td>\n",
       "      <td>199</td>\n",
       "      <td>324</td>\n",
       "      <td>523</td>\n",
       "      <td>66</td>\n",
       "      <td>38</td>\n",
       "      <td>86</td>\n",
       "      <td>99</td>\n",
       "      <td>222</td>\n",
       "      <td>537</td>\n",
       "    </tr>\n",
       "    <tr>\n",
       "      <th>3</th>\n",
       "      <td>4</td>\n",
       "      <td>Jeff Adrien</td>\n",
       "      <td>PF</td>\n",
       "      <td>28</td>\n",
       "      <td>MIN</td>\n",
       "      <td>17</td>\n",
       "      <td>0</td>\n",
       "      <td>215</td>\n",
       "      <td>19</td>\n",
       "      <td>44</td>\n",
       "      <td>...</td>\n",
       "      <td>.579</td>\n",
       "      <td>23</td>\n",
       "      <td>54</td>\n",
       "      <td>77</td>\n",
       "      <td>15</td>\n",
       "      <td>4</td>\n",
       "      <td>9</td>\n",
       "      <td>9</td>\n",
       "      <td>30</td>\n",
       "      <td>60</td>\n",
       "    </tr>\n",
       "    <tr>\n",
       "      <th>4</th>\n",
       "      <td>5</td>\n",
       "      <td>Arron Afflalo</td>\n",
       "      <td>SG</td>\n",
       "      <td>29</td>\n",
       "      <td>TOT</td>\n",
       "      <td>78</td>\n",
       "      <td>72</td>\n",
       "      <td>2502</td>\n",
       "      <td>375</td>\n",
       "      <td>884</td>\n",
       "      <td>...</td>\n",
       "      <td>.843</td>\n",
       "      <td>27</td>\n",
       "      <td>220</td>\n",
       "      <td>247</td>\n",
       "      <td>129</td>\n",
       "      <td>41</td>\n",
       "      <td>7</td>\n",
       "      <td>116</td>\n",
       "      <td>167</td>\n",
       "      <td>1035</td>\n",
       "    </tr>\n",
       "  </tbody>\n",
       "</table>\n",
       "<p>5 rows × 30 columns</p>\n",
       "</div>"
      ],
      "text/plain": [
       "  Rk         Player Pos Age   Tm   G  GS    MP   FG  FGA  ...   FT%  ORB  DRB  \\\n",
       "0  1     Quincy Acy  PF  24  NYK  68  22  1287  152  331  ...  .784   79  222   \n",
       "1  2   Jordan Adams  SG  20  MEM  30   0   248   35   86  ...  .609    9   19   \n",
       "2  3   Steven Adams   C  21  OKC  70  67  1771  217  399  ...  .502  199  324   \n",
       "3  4    Jeff Adrien  PF  28  MIN  17   0   215   19   44  ...  .579   23   54   \n",
       "4  5  Arron Afflalo  SG  29  TOT  78  72  2502  375  884  ...  .843   27  220   \n",
       "\n",
       "   TRB  AST STL BLK  TOV   PF   PTS  \n",
       "0  301   68  27  22   60  147   398  \n",
       "1   28   16  16   7   14   24    94  \n",
       "2  523   66  38  86   99  222   537  \n",
       "3   77   15   4   9    9   30    60  \n",
       "4  247  129  41   7  116  167  1035  \n",
       "\n",
       "[5 rows x 30 columns]"
      ]
     },
     "execution_count": 11,
     "metadata": {},
     "output_type": "execute_result"
    }
   ],
   "source": [
    "data.head()"
   ]
  },
  {
   "cell_type": "code",
   "execution_count": 22,
   "id": "c9498f5d-72c0-4701-ad19-d6cf49e7a589",
   "metadata": {},
   "outputs": [
    {
     "data": {
      "text/plain": [
       "dtype('O')"
      ]
     },
     "execution_count": 22,
     "metadata": {},
     "output_type": "execute_result"
    }
   ],
   "source": [
    "data['Age'].dtype"
   ]
  },
  {
   "cell_type": "code",
   "execution_count": 23,
   "id": "392694f9-a989-4f1f-a5ad-b7c9295d5435",
   "metadata": {},
   "outputs": [],
   "source": [
    "data['Age'] = pd.to_numeric(data['Age'], errors='coerce')"
   ]
  },
  {
   "cell_type": "code",
   "execution_count": 24,
   "id": "be3b3a35-6aa2-45b9-8e94-1a3fc48fa7a4",
   "metadata": {},
   "outputs": [],
   "source": [
    "data1 = data[data['Age'] > 30]"
   ]
  },
  {
   "cell_type": "code",
   "execution_count": 25,
   "id": "2700e4d4-d161-49fe-a2f0-879a5716bdf1",
   "metadata": {},
   "outputs": [
    {
     "data": {
      "text/html": [
       "<div>\n",
       "<style scoped>\n",
       "    .dataframe tbody tr th:only-of-type {\n",
       "        vertical-align: middle;\n",
       "    }\n",
       "\n",
       "    .dataframe tbody tr th {\n",
       "        vertical-align: top;\n",
       "    }\n",
       "\n",
       "    .dataframe thead th {\n",
       "        text-align: right;\n",
       "    }\n",
       "</style>\n",
       "<table border=\"1\" class=\"dataframe\">\n",
       "  <thead>\n",
       "    <tr style=\"text-align: right;\">\n",
       "      <th></th>\n",
       "      <th>Rk</th>\n",
       "      <th>Player</th>\n",
       "      <th>Pos</th>\n",
       "      <th>Age</th>\n",
       "      <th>Tm</th>\n",
       "      <th>G</th>\n",
       "      <th>GS</th>\n",
       "      <th>MP</th>\n",
       "      <th>FG</th>\n",
       "      <th>FGA</th>\n",
       "      <th>...</th>\n",
       "      <th>FT%</th>\n",
       "      <th>ORB</th>\n",
       "      <th>DRB</th>\n",
       "      <th>TRB</th>\n",
       "      <th>AST</th>\n",
       "      <th>STL</th>\n",
       "      <th>BLK</th>\n",
       "      <th>TOV</th>\n",
       "      <th>PF</th>\n",
       "      <th>PTS</th>\n",
       "    </tr>\n",
       "  </thead>\n",
       "  <tbody>\n",
       "    <tr>\n",
       "      <th>12</th>\n",
       "      <td>11</td>\n",
       "      <td>Tony Allen</td>\n",
       "      <td>SG</td>\n",
       "      <td>33.0</td>\n",
       "      <td>MEM</td>\n",
       "      <td>63</td>\n",
       "      <td>41</td>\n",
       "      <td>1648</td>\n",
       "      <td>225</td>\n",
       "      <td>455</td>\n",
       "      <td>...</td>\n",
       "      <td>.627</td>\n",
       "      <td>103</td>\n",
       "      <td>177</td>\n",
       "      <td>280</td>\n",
       "      <td>86</td>\n",
       "      <td>129</td>\n",
       "      <td>30</td>\n",
       "      <td>86</td>\n",
       "      <td>166</td>\n",
       "      <td>539</td>\n",
       "    </tr>\n",
       "    <tr>\n",
       "      <th>14</th>\n",
       "      <td>13</td>\n",
       "      <td>Lou Amundson</td>\n",
       "      <td>PF</td>\n",
       "      <td>32.0</td>\n",
       "      <td>TOT</td>\n",
       "      <td>53</td>\n",
       "      <td>35</td>\n",
       "      <td>937</td>\n",
       "      <td>109</td>\n",
       "      <td>255</td>\n",
       "      <td>...</td>\n",
       "      <td>.471</td>\n",
       "      <td>94</td>\n",
       "      <td>174</td>\n",
       "      <td>268</td>\n",
       "      <td>70</td>\n",
       "      <td>22</td>\n",
       "      <td>52</td>\n",
       "      <td>62</td>\n",
       "      <td>126</td>\n",
       "      <td>259</td>\n",
       "    </tr>\n",
       "    <tr>\n",
       "      <th>15</th>\n",
       "      <td>13</td>\n",
       "      <td>Lou Amundson</td>\n",
       "      <td>PF</td>\n",
       "      <td>32.0</td>\n",
       "      <td>CLE</td>\n",
       "      <td>12</td>\n",
       "      <td>0</td>\n",
       "      <td>79</td>\n",
       "      <td>4</td>\n",
       "      <td>12</td>\n",
       "      <td>...</td>\n",
       "      <td>.600</td>\n",
       "      <td>5</td>\n",
       "      <td>15</td>\n",
       "      <td>20</td>\n",
       "      <td>5</td>\n",
       "      <td>1</td>\n",
       "      <td>0</td>\n",
       "      <td>5</td>\n",
       "      <td>11</td>\n",
       "      <td>11</td>\n",
       "    </tr>\n",
       "    <tr>\n",
       "      <th>16</th>\n",
       "      <td>13</td>\n",
       "      <td>Lou Amundson</td>\n",
       "      <td>PF</td>\n",
       "      <td>32.0</td>\n",
       "      <td>NYK</td>\n",
       "      <td>41</td>\n",
       "      <td>35</td>\n",
       "      <td>858</td>\n",
       "      <td>105</td>\n",
       "      <td>243</td>\n",
       "      <td>...</td>\n",
       "      <td>.463</td>\n",
       "      <td>89</td>\n",
       "      <td>159</td>\n",
       "      <td>248</td>\n",
       "      <td>65</td>\n",
       "      <td>21</td>\n",
       "      <td>52</td>\n",
       "      <td>57</td>\n",
       "      <td>115</td>\n",
       "      <td>248</td>\n",
       "    </tr>\n",
       "    <tr>\n",
       "      <th>17</th>\n",
       "      <td>14</td>\n",
       "      <td>Chris Andersen</td>\n",
       "      <td>C</td>\n",
       "      <td>36.0</td>\n",
       "      <td>MIA</td>\n",
       "      <td>60</td>\n",
       "      <td>20</td>\n",
       "      <td>1132</td>\n",
       "      <td>120</td>\n",
       "      <td>207</td>\n",
       "      <td>...</td>\n",
       "      <td>.667</td>\n",
       "      <td>76</td>\n",
       "      <td>223</td>\n",
       "      <td>299</td>\n",
       "      <td>43</td>\n",
       "      <td>26</td>\n",
       "      <td>61</td>\n",
       "      <td>40</td>\n",
       "      <td>88</td>\n",
       "      <td>320</td>\n",
       "    </tr>\n",
       "    <tr>\n",
       "      <th>...</th>\n",
       "      <td>...</td>\n",
       "      <td>...</td>\n",
       "      <td>...</td>\n",
       "      <td>...</td>\n",
       "      <td>...</td>\n",
       "      <td>...</td>\n",
       "      <td>...</td>\n",
       "      <td>...</td>\n",
       "      <td>...</td>\n",
       "      <td>...</td>\n",
       "      <td>...</td>\n",
       "      <td>...</td>\n",
       "      <td>...</td>\n",
       "      <td>...</td>\n",
       "      <td>...</td>\n",
       "      <td>...</td>\n",
       "      <td>...</td>\n",
       "      <td>...</td>\n",
       "      <td>...</td>\n",
       "      <td>...</td>\n",
       "      <td>...</td>\n",
       "    </tr>\n",
       "    <tr>\n",
       "      <th>631</th>\n",
       "      <td>463</td>\n",
       "      <td>Gerald Wallace</td>\n",
       "      <td>SF</td>\n",
       "      <td>32.0</td>\n",
       "      <td>BOS</td>\n",
       "      <td>32</td>\n",
       "      <td>0</td>\n",
       "      <td>286</td>\n",
       "      <td>14</td>\n",
       "      <td>34</td>\n",
       "      <td>...</td>\n",
       "      <td>.400</td>\n",
       "      <td>17</td>\n",
       "      <td>40</td>\n",
       "      <td>57</td>\n",
       "      <td>11</td>\n",
       "      <td>15</td>\n",
       "      <td>4</td>\n",
       "      <td>18</td>\n",
       "      <td>19</td>\n",
       "      <td>35</td>\n",
       "    </tr>\n",
       "    <tr>\n",
       "      <th>637</th>\n",
       "      <td>469</td>\n",
       "      <td>David West</td>\n",
       "      <td>PF</td>\n",
       "      <td>34.0</td>\n",
       "      <td>IND</td>\n",
       "      <td>66</td>\n",
       "      <td>66</td>\n",
       "      <td>1895</td>\n",
       "      <td>323</td>\n",
       "      <td>686</td>\n",
       "      <td>...</td>\n",
       "      <td>.739</td>\n",
       "      <td>108</td>\n",
       "      <td>341</td>\n",
       "      <td>449</td>\n",
       "      <td>223</td>\n",
       "      <td>48</td>\n",
       "      <td>48</td>\n",
       "      <td>120</td>\n",
       "      <td>160</td>\n",
       "      <td>769</td>\n",
       "    </tr>\n",
       "    <tr>\n",
       "      <th>650</th>\n",
       "      <td>480</td>\n",
       "      <td>Mo Williams</td>\n",
       "      <td>PG</td>\n",
       "      <td>32.0</td>\n",
       "      <td>TOT</td>\n",
       "      <td>68</td>\n",
       "      <td>33</td>\n",
       "      <td>1980</td>\n",
       "      <td>341</td>\n",
       "      <td>860</td>\n",
       "      <td>...</td>\n",
       "      <td>.872</td>\n",
       "      <td>22</td>\n",
       "      <td>152</td>\n",
       "      <td>174</td>\n",
       "      <td>424</td>\n",
       "      <td>46</td>\n",
       "      <td>14</td>\n",
       "      <td>172</td>\n",
       "      <td>162</td>\n",
       "      <td>964</td>\n",
       "    </tr>\n",
       "    <tr>\n",
       "      <th>651</th>\n",
       "      <td>480</td>\n",
       "      <td>Mo Williams</td>\n",
       "      <td>PG</td>\n",
       "      <td>32.0</td>\n",
       "      <td>MIN</td>\n",
       "      <td>41</td>\n",
       "      <td>19</td>\n",
       "      <td>1149</td>\n",
       "      <td>180</td>\n",
       "      <td>447</td>\n",
       "      <td>...</td>\n",
       "      <td>.851</td>\n",
       "      <td>13</td>\n",
       "      <td>85</td>\n",
       "      <td>98</td>\n",
       "      <td>261</td>\n",
       "      <td>30</td>\n",
       "      <td>8</td>\n",
       "      <td>102</td>\n",
       "      <td>103</td>\n",
       "      <td>499</td>\n",
       "    </tr>\n",
       "    <tr>\n",
       "      <th>652</th>\n",
       "      <td>480</td>\n",
       "      <td>Mo Williams</td>\n",
       "      <td>PG</td>\n",
       "      <td>32.0</td>\n",
       "      <td>CHO</td>\n",
       "      <td>27</td>\n",
       "      <td>14</td>\n",
       "      <td>831</td>\n",
       "      <td>161</td>\n",
       "      <td>413</td>\n",
       "      <td>...</td>\n",
       "      <td>.892</td>\n",
       "      <td>9</td>\n",
       "      <td>67</td>\n",
       "      <td>76</td>\n",
       "      <td>163</td>\n",
       "      <td>16</td>\n",
       "      <td>6</td>\n",
       "      <td>70</td>\n",
       "      <td>59</td>\n",
       "      <td>465</td>\n",
       "    </tr>\n",
       "  </tbody>\n",
       "</table>\n",
       "<p>110 rows × 30 columns</p>\n",
       "</div>"
      ],
      "text/plain": [
       "      Rk          Player Pos   Age   Tm   G  GS    MP   FG  FGA  ...   FT%  \\\n",
       "12    11      Tony Allen  SG  33.0  MEM  63  41  1648  225  455  ...  .627   \n",
       "14    13    Lou Amundson  PF  32.0  TOT  53  35   937  109  255  ...  .471   \n",
       "15    13    Lou Amundson  PF  32.0  CLE  12   0    79    4   12  ...  .600   \n",
       "16    13    Lou Amundson  PF  32.0  NYK  41  35   858  105  243  ...  .463   \n",
       "17    14  Chris Andersen   C  36.0  MIA  60  20  1132  120  207  ...  .667   \n",
       "..   ...             ...  ..   ...  ...  ..  ..   ...  ...  ...  ...   ...   \n",
       "631  463  Gerald Wallace  SF  32.0  BOS  32   0   286   14   34  ...  .400   \n",
       "637  469      David West  PF  34.0  IND  66  66  1895  323  686  ...  .739   \n",
       "650  480     Mo Williams  PG  32.0  TOT  68  33  1980  341  860  ...  .872   \n",
       "651  480     Mo Williams  PG  32.0  MIN  41  19  1149  180  447  ...  .851   \n",
       "652  480     Mo Williams  PG  32.0  CHO  27  14   831  161  413  ...  .892   \n",
       "\n",
       "     ORB  DRB  TRB  AST  STL BLK  TOV   PF  PTS  \n",
       "12   103  177  280   86  129  30   86  166  539  \n",
       "14    94  174  268   70   22  52   62  126  259  \n",
       "15     5   15   20    5    1   0    5   11   11  \n",
       "16    89  159  248   65   21  52   57  115  248  \n",
       "17    76  223  299   43   26  61   40   88  320  \n",
       "..   ...  ...  ...  ...  ...  ..  ...  ...  ...  \n",
       "631   17   40   57   11   15   4   18   19   35  \n",
       "637  108  341  449  223   48  48  120  160  769  \n",
       "650   22  152  174  424   46  14  172  162  964  \n",
       "651   13   85   98  261   30   8  102  103  499  \n",
       "652    9   67   76  163   16   6   70   59  465  \n",
       "\n",
       "[110 rows x 30 columns]"
      ]
     },
     "execution_count": 25,
     "metadata": {},
     "output_type": "execute_result"
    }
   ],
   "source": [
    "data1"
   ]
  },
  {
   "cell_type": "code",
   "execution_count": 26,
   "id": "2ee91668-4ae7-442a-b958-00ff110e6878",
   "metadata": {},
   "outputs": [],
   "source": [
    "#Q2. Given a Pandas DataFrame df with columns 'A', 'B', and 'C', write a Python function to re-index the\n",
    "#     DataFrame with a new index that starts from 1 and increments by 2 for each row."
   ]
  },
  {
   "cell_type": "code",
   "execution_count": 27,
   "id": "d17a83f8-1db3-4069-8072-c224a46917ef",
   "metadata": {},
   "outputs": [],
   "source": [
    "import  pandas as pd"
   ]
  },
  {
   "cell_type": "code",
   "execution_count": 30,
   "id": "a070e80a-1142-4a77-99be-459c8b89a2b9",
   "metadata": {},
   "outputs": [],
   "source": [
    "def reindex_dataframe(df):\n",
    "    new_index = range(1,len(df)*2,2)\n",
    "    df.index = new_index\n",
    "    return df"
   ]
  },
  {
   "cell_type": "code",
   "execution_count": 31,
   "id": "54306c07-954c-49f9-8e77-9148d19b1061",
   "metadata": {},
   "outputs": [],
   "source": [
    "data = {'A':[10,20,30],\n",
    "        'B':[40,50,60],\n",
    "        'C':[70,80,90]}\n",
    "df = pd.DataFrame(data)"
   ]
  },
  {
   "cell_type": "code",
   "execution_count": 32,
   "id": "89418b8f-a239-416f-a019-fc7c827769d9",
   "metadata": {},
   "outputs": [],
   "source": [
    "df = reindex_dataframe(df)"
   ]
  },
  {
   "cell_type": "code",
   "execution_count": 33,
   "id": "c19a529e-4e1c-4d43-b0fc-e4aceffab649",
   "metadata": {},
   "outputs": [
    {
     "data": {
      "text/html": [
       "<div>\n",
       "<style scoped>\n",
       "    .dataframe tbody tr th:only-of-type {\n",
       "        vertical-align: middle;\n",
       "    }\n",
       "\n",
       "    .dataframe tbody tr th {\n",
       "        vertical-align: top;\n",
       "    }\n",
       "\n",
       "    .dataframe thead th {\n",
       "        text-align: right;\n",
       "    }\n",
       "</style>\n",
       "<table border=\"1\" class=\"dataframe\">\n",
       "  <thead>\n",
       "    <tr style=\"text-align: right;\">\n",
       "      <th></th>\n",
       "      <th>A</th>\n",
       "      <th>B</th>\n",
       "      <th>C</th>\n",
       "    </tr>\n",
       "  </thead>\n",
       "  <tbody>\n",
       "    <tr>\n",
       "      <th>1</th>\n",
       "      <td>10</td>\n",
       "      <td>40</td>\n",
       "      <td>70</td>\n",
       "    </tr>\n",
       "    <tr>\n",
       "      <th>3</th>\n",
       "      <td>20</td>\n",
       "      <td>50</td>\n",
       "      <td>80</td>\n",
       "    </tr>\n",
       "    <tr>\n",
       "      <th>5</th>\n",
       "      <td>30</td>\n",
       "      <td>60</td>\n",
       "      <td>90</td>\n",
       "    </tr>\n",
       "  </tbody>\n",
       "</table>\n",
       "</div>"
      ],
      "text/plain": [
       "    A   B   C\n",
       "1  10  40  70\n",
       "3  20  50  80\n",
       "5  30  60  90"
      ]
     },
     "execution_count": 33,
     "metadata": {},
     "output_type": "execute_result"
    }
   ],
   "source": [
    "df"
   ]
  },
  {
   "cell_type": "code",
   "execution_count": 34,
   "id": "ac51f93c-3f85-432b-83cf-eb4e59da7ed3",
   "metadata": {},
   "outputs": [],
   "source": [
    "#Q.3 Q3. You have a Pandas DataFrame df with a column named 'Values'. Write a Python function that\n",
    "# iterates over the DataFrame and calculates the sum of the first three values in the 'Values' column. The\n",
    "# function should print the sum to the console.\n",
    "# For example, if the 'Values' column of df contains the values [10, 20, 30, 40, 50], your function should\n",
    "# calculate and print the sum of the first three values, which is 60."
   ]
  },
  {
   "cell_type": "code",
   "execution_count": 35,
   "id": "9ed12e04-6c87-4aa7-8080-6d6df316b2fe",
   "metadata": {},
   "outputs": [],
   "source": [
    "data1 = {'Value':[10,20,30,40,50,60]}"
   ]
  },
  {
   "cell_type": "code",
   "execution_count": 37,
   "id": "2fe23aa4-2b27-4878-bfaa-fa5aa39a36ff",
   "metadata": {},
   "outputs": [],
   "source": [
    "df = pd.DataFrame(data1)"
   ]
  },
  {
   "cell_type": "code",
   "execution_count": 42,
   "id": "dc1e9c8b-c604-45ee-aed1-3a89711faff1",
   "metadata": {},
   "outputs": [],
   "source": [
    "def calculate_sum_of_first_three(df):\n",
    "    column_value = df['Value']\n",
    "    sum_of_first_three = column_value.head(3).sum()\n",
    "    print(\"SUM :\",sum_of_first_three)"
   ]
  },
  {
   "cell_type": "code",
   "execution_count": 43,
   "id": "5af5550d-0bf6-44ea-9da9-a71fa2d4c158",
   "metadata": {},
   "outputs": [
    {
     "name": "stdout",
     "output_type": "stream",
     "text": [
      "SUM : 60\n"
     ]
    }
   ],
   "source": [
    "calculate_sum_of_first_three(df)"
   ]
  },
  {
   "cell_type": "code",
   "execution_count": 1,
   "id": "620b1627-4eaf-466f-8978-77c70406b53c",
   "metadata": {},
   "outputs": [],
   "source": [
    "# Q4. Given a Pandas DataFrame df with a column 'Text', write a Python function to create a new column\n",
    "# 'Word_Count' that contains the number of words in each row of the 'Text' column."
   ]
  },
  {
   "cell_type": "code",
   "execution_count": 39,
   "id": "139980a5-f0e0-4775-a6e6-5ce94348a739",
   "metadata": {},
   "outputs": [
    {
     "name": "stdout",
     "output_type": "stream",
     "text": [
      "                         Text  Word_Count\n",
      "0  This is a sample sentence.           5\n",
      "1    Another example of text.           4\n",
      "2              Just one more.           3\n"
     ]
    }
   ],
   "source": [
    "import pandas as pd\n",
    "\n",
    "def count_words(text):\n",
    "    return len(str(text).split())\n",
    "\n",
    "def add_word_count_column(df):\n",
    "\n",
    "    df['Word_Count'] = df['Text'].apply(count_words)\n",
    "    \n",
    "    return df\n",
    "\n",
    "df = pd.DataFrame({'Text': ['This is a sample sentence.', 'Another example of text.', 'Just one more.']})\n",
    "df = add_word_count_column(df)\n",
    "print(df)"
   ]
  },
  {
   "cell_type": "code",
   "execution_count": 43,
   "id": "4c65664b-19ad-4941-909d-7f408281864f",
   "metadata": {},
   "outputs": [
    {
     "data": {
      "text/plain": [
       "6"
      ]
     },
     "execution_count": 43,
     "metadata": {},
     "output_type": "execute_result"
    }
   ],
   "source": [
    "# How are DataFrame.size() and DataFrame.shape() different?\n",
    "data  = {'A':[1,2,3],\n",
    "          'B':[4,5,6]}\n",
    "df = pd.DataFrame(data)\n",
    "df.size\n",
    "#size provide total no of element"
   ]
  },
  {
   "cell_type": "code",
   "execution_count": 46,
   "id": "ba4ab42c-8376-443f-b03b-6cdbda9c6b56",
   "metadata": {},
   "outputs": [],
   "source": [
    "data1 = {'A':[1,2,3],\n",
    "         'B':[4,5,6]}\n",
    "df = pd.DataFrame(data1)\n",
    "shape = df.shape\n",
    "# but here shape provide total number of row and column"
   ]
  },
  {
   "cell_type": "code",
   "execution_count": 47,
   "id": "749e27db-fa54-4c81-bdab-c076e46bed06",
   "metadata": {},
   "outputs": [
    {
     "data": {
      "text/plain": [
       "(3, 2)"
      ]
     },
     "execution_count": 47,
     "metadata": {},
     "output_type": "execute_result"
    }
   ],
   "source": [
    "shape"
   ]
  },
  {
   "cell_type": "code",
   "execution_count": 48,
   "id": "581f60b5-b283-422c-9dd9-f13195c58abf",
   "metadata": {},
   "outputs": [],
   "source": [
    "#Q6. Which function of pandas do we use to read an excel file?\n",
    "      #pd.read_excel()"
   ]
  },
  {
   "cell_type": "code",
   "execution_count": 49,
   "id": "5a43a912-355c-460b-bda5-89555c7950c0",
   "metadata": {},
   "outputs": [],
   "source": [
    "#Q 7.You have a Pandas DataFrame df that contains a column named 'Email' that contains email\n",
    "# addresses in the format 'username@domain.com'. Write a Python function that creates a new column\n",
    "# 'Username' in df that contains only the username part of each email address."
   ]
  },
  {
   "cell_type": "code",
   "execution_count": 52,
   "id": "8601dafd-c585-4eea-88b1-2970de1c3ca3",
   "metadata": {},
   "outputs": [],
   "source": [
    "df = pd.DataFrame({'Email':['user1@gmail.com','user1@gmail.com','user1@gmail.com']})"
   ]
  },
  {
   "cell_type": "code",
   "execution_count": 53,
   "id": "6c77bfee-4d28-4216-8fc2-4951b338a36a",
   "metadata": {},
   "outputs": [
    {
     "data": {
      "text/html": [
       "<div>\n",
       "<style scoped>\n",
       "    .dataframe tbody tr th:only-of-type {\n",
       "        vertical-align: middle;\n",
       "    }\n",
       "\n",
       "    .dataframe tbody tr th {\n",
       "        vertical-align: top;\n",
       "    }\n",
       "\n",
       "    .dataframe thead th {\n",
       "        text-align: right;\n",
       "    }\n",
       "</style>\n",
       "<table border=\"1\" class=\"dataframe\">\n",
       "  <thead>\n",
       "    <tr style=\"text-align: right;\">\n",
       "      <th></th>\n",
       "      <th>Email</th>\n",
       "    </tr>\n",
       "  </thead>\n",
       "  <tbody>\n",
       "    <tr>\n",
       "      <th>0</th>\n",
       "      <td>user1@gmail.com</td>\n",
       "    </tr>\n",
       "    <tr>\n",
       "      <th>1</th>\n",
       "      <td>user1@gmail.com</td>\n",
       "    </tr>\n",
       "    <tr>\n",
       "      <th>2</th>\n",
       "      <td>user1@gmail.com</td>\n",
       "    </tr>\n",
       "  </tbody>\n",
       "</table>\n",
       "</div>"
      ],
      "text/plain": [
       "             Email\n",
       "0  user1@gmail.com\n",
       "1  user1@gmail.com\n",
       "2  user1@gmail.com"
      ]
     },
     "execution_count": 53,
     "metadata": {},
     "output_type": "execute_result"
    }
   ],
   "source": [
    "df"
   ]
  },
  {
   "cell_type": "code",
   "execution_count": 63,
   "id": "3e7f89a1-cb73-49a2-9035-1c560fac366d",
   "metadata": {},
   "outputs": [
    {
     "data": {
      "text/plain": [
       "0    user1\n",
       "1    user1\n",
       "2    user1\n",
       "Name: Email, dtype: object"
      ]
     },
     "execution_count": 63,
     "metadata": {},
     "output_type": "execute_result"
    }
   ],
   "source": [
    "df['Email'].str.split('@').str[0]"
   ]
  },
  {
   "cell_type": "code",
   "execution_count": null,
   "id": "c34cfd3a-ded4-40e7-a8a2-34e443bb5eff",
   "metadata": {},
   "outputs": [],
   "source": [
    "def extract_username(df)"
   ]
  },
  {
   "cell_type": "code",
   "execution_count": 1,
   "id": "c8891c5c-c67b-4a43-846a-8d38fbee79e4",
   "metadata": {},
   "outputs": [],
   "source": [
    "# Q.8 You have a Pandas DataFrame df with columns 'A', 'B', and 'C'. Write a Python function that selects\n",
    "# all rows where the value in column 'A' is greater than 5 and the value in column 'B' is less than 10. The\n",
    "# function should return a new DataFrame that contains only the selected rows.\n",
    "# For example, if df contains the following values:\n",
    "# A B C\n",
    "# 0 3 5 1\n",
    "# 1 8 2 7\n",
    "# 2 6 9 4\n",
    "# 3 2 3 5\n",
    "# 4 9 1 2"
   ]
  },
  {
   "cell_type": "code",
   "execution_count": 4,
   "id": "5587ae43-7cd4-46c9-8da1-86485357ab3c",
   "metadata": {},
   "outputs": [],
   "source": [
    "data = {\n",
    "        'A':[3,8,6,2,9],\n",
    "        'B':[5,2,9,3,1],\n",
    "        'C':[1,7,4,5,2]\n",
    "}"
   ]
  },
  {
   "cell_type": "code",
   "execution_count": 6,
   "id": "4e9d231f-2464-4dbf-88dd-891db53d438f",
   "metadata": {},
   "outputs": [],
   "source": [
    "df = pd.DataFrame(data)"
   ]
  },
  {
   "cell_type": "code",
   "execution_count": 28,
   "id": "f0eaa73e-7fea-41a0-9a6e-b2da72abf332",
   "metadata": {},
   "outputs": [],
   "source": [
    "def select_rows(df):\n",
    "    # Create a boolean mask for the conditions\n",
    "    condition = (df['A'] > 5) & (df['B'] < 10)\n",
    "    \n",
    "    # Use the mask to select rows that meet the conditions\n",
    "    selected_df = df[condition]\n",
    "    \n",
    "    return selected_df"
   ]
  },
  {
   "cell_type": "code",
   "execution_count": 29,
   "id": "59578e86-ce5e-472f-a491-2b480bcc6a96",
   "metadata": {},
   "outputs": [],
   "source": [
    "select_rows = select_rows(df)"
   ]
  },
  {
   "cell_type": "code",
   "execution_count": 30,
   "id": "0ee5129b-b9ba-4ff8-9b64-39e07f696fea",
   "metadata": {},
   "outputs": [
    {
     "data": {
      "text/html": [
       "<div>\n",
       "<style scoped>\n",
       "    .dataframe tbody tr th:only-of-type {\n",
       "        vertical-align: middle;\n",
       "    }\n",
       "\n",
       "    .dataframe tbody tr th {\n",
       "        vertical-align: top;\n",
       "    }\n",
       "\n",
       "    .dataframe thead th {\n",
       "        text-align: right;\n",
       "    }\n",
       "</style>\n",
       "<table border=\"1\" class=\"dataframe\">\n",
       "  <thead>\n",
       "    <tr style=\"text-align: right;\">\n",
       "      <th></th>\n",
       "      <th>A</th>\n",
       "      <th>B</th>\n",
       "      <th>C</th>\n",
       "    </tr>\n",
       "  </thead>\n",
       "  <tbody>\n",
       "    <tr>\n",
       "      <th>1</th>\n",
       "      <td>8</td>\n",
       "      <td>2</td>\n",
       "      <td>7</td>\n",
       "    </tr>\n",
       "    <tr>\n",
       "      <th>2</th>\n",
       "      <td>6</td>\n",
       "      <td>9</td>\n",
       "      <td>4</td>\n",
       "    </tr>\n",
       "    <tr>\n",
       "      <th>4</th>\n",
       "      <td>9</td>\n",
       "      <td>1</td>\n",
       "      <td>2</td>\n",
       "    </tr>\n",
       "  </tbody>\n",
       "</table>\n",
       "</div>"
      ],
      "text/plain": [
       "   A  B  C\n",
       "1  8  2  7\n",
       "2  6  9  4\n",
       "4  9  1  2"
      ]
     },
     "execution_count": 30,
     "metadata": {},
     "output_type": "execute_result"
    }
   ],
   "source": [
    "select_rows"
   ]
  },
  {
   "cell_type": "code",
   "execution_count": 31,
   "id": "e602b928-fc6b-4340-949b-463296421a86",
   "metadata": {},
   "outputs": [],
   "source": [
    "# Q9. Given a Pandas DataFrame df with a column 'Values', write a Python function to calculate the mean,\n",
    "# median, and standard deviation of the values in the 'Values' column."
   ]
  },
  {
   "cell_type": "code",
   "execution_count": 33,
   "id": "51d6faee-17f7-4773-96ab-61be7383f481",
   "metadata": {},
   "outputs": [],
   "source": [
    "df = pd.DataFrame({'Value':[10,15,20,25,30]})"
   ]
  },
  {
   "cell_type": "code",
   "execution_count": 36,
   "id": "34ce5f69-e7c2-4f6f-b543-e78ed60d2133",
   "metadata": {},
   "outputs": [
    {
     "data": {
      "text/plain": [
       "20.0"
      ]
     },
     "execution_count": 36,
     "metadata": {},
     "output_type": "execute_result"
    }
   ],
   "source": [
    "df['Value'].mean()"
   ]
  },
  {
   "cell_type": "code",
   "execution_count": 37,
   "id": "3e07a341-4d33-4c47-ab89-36ed8a203479",
   "metadata": {},
   "outputs": [],
   "source": [
    "def calculate_statistics(df):\n",
    "    mean_val = df['Value'].mean()\n",
    "    median_val = df['Value'].median()\n",
    "    std_val = df['Value'].std()\n",
    "    return mean_val,median_val,std_val"
   ]
  },
  {
   "cell_type": "code",
   "execution_count": 38,
   "id": "ca5e63ac-ffa4-4091-b30e-c61bcac96231",
   "metadata": {},
   "outputs": [
    {
     "data": {
      "text/plain": [
       "(20.0, 20.0, 7.905694150420948)"
      ]
     },
     "execution_count": 38,
     "metadata": {},
     "output_type": "execute_result"
    }
   ],
   "source": [
    "calculate_statistics(df)"
   ]
  },
  {
   "cell_type": "code",
   "execution_count": 39,
   "id": "2b751b1d-41c5-4d8f-bb0e-0d2fed391c8b",
   "metadata": {},
   "outputs": [],
   "source": [
    "# Q10. Given a Pandas DataFrame df with a column 'Sales' and a column 'Date', write a Python function to\n",
    "# create a new column 'MovingAverage' that contains the moving average of the sales for the past 7 days\n",
    "# for each row in the DataFrame. The moving average should be calculated using a window of size 7 and\n",
    "# should include the current day."
   ]
  },
  {
   "cell_type": "code",
   "execution_count": 40,
   "id": "4804aae9-2353-42a4-8385-5d1bebd80735",
   "metadata": {},
   "outputs": [],
   "source": [
    " df = pd.DataFrame({'Date': ['2023-09-01', '2023-09-02', '2023-09-03', '2023-09-04', '2023-09-05', '2023-09-06', '2023-09-07'],\n",
    "                    'Sales': [100, 150, 200, 120, 180, 250, 300]})"
   ]
  },
  {
   "cell_type": "code",
   "execution_count": 41,
   "id": "e49b9c83-36b8-4a39-920d-93ff3cb4d985",
   "metadata": {},
   "outputs": [
    {
     "data": {
      "text/html": [
       "<div>\n",
       "<style scoped>\n",
       "    .dataframe tbody tr th:only-of-type {\n",
       "        vertical-align: middle;\n",
       "    }\n",
       "\n",
       "    .dataframe tbody tr th {\n",
       "        vertical-align: top;\n",
       "    }\n",
       "\n",
       "    .dataframe thead th {\n",
       "        text-align: right;\n",
       "    }\n",
       "</style>\n",
       "<table border=\"1\" class=\"dataframe\">\n",
       "  <thead>\n",
       "    <tr style=\"text-align: right;\">\n",
       "      <th></th>\n",
       "      <th>Date</th>\n",
       "      <th>Sales</th>\n",
       "    </tr>\n",
       "  </thead>\n",
       "  <tbody>\n",
       "    <tr>\n",
       "      <th>0</th>\n",
       "      <td>2023-09-01</td>\n",
       "      <td>100</td>\n",
       "    </tr>\n",
       "    <tr>\n",
       "      <th>1</th>\n",
       "      <td>2023-09-02</td>\n",
       "      <td>150</td>\n",
       "    </tr>\n",
       "    <tr>\n",
       "      <th>2</th>\n",
       "      <td>2023-09-03</td>\n",
       "      <td>200</td>\n",
       "    </tr>\n",
       "    <tr>\n",
       "      <th>3</th>\n",
       "      <td>2023-09-04</td>\n",
       "      <td>120</td>\n",
       "    </tr>\n",
       "    <tr>\n",
       "      <th>4</th>\n",
       "      <td>2023-09-05</td>\n",
       "      <td>180</td>\n",
       "    </tr>\n",
       "    <tr>\n",
       "      <th>5</th>\n",
       "      <td>2023-09-06</td>\n",
       "      <td>250</td>\n",
       "    </tr>\n",
       "    <tr>\n",
       "      <th>6</th>\n",
       "      <td>2023-09-07</td>\n",
       "      <td>300</td>\n",
       "    </tr>\n",
       "  </tbody>\n",
       "</table>\n",
       "</div>"
      ],
      "text/plain": [
       "         Date  Sales\n",
       "0  2023-09-01    100\n",
       "1  2023-09-02    150\n",
       "2  2023-09-03    200\n",
       "3  2023-09-04    120\n",
       "4  2023-09-05    180\n",
       "5  2023-09-06    250\n",
       "6  2023-09-07    300"
      ]
     },
     "execution_count": 41,
     "metadata": {},
     "output_type": "execute_result"
    }
   ],
   "source": [
    "df"
   ]
  },
  {
   "cell_type": "code",
   "execution_count": 46,
   "id": "d0c4d253-3641-4aa7-b9ed-6ba146f622ad",
   "metadata": {},
   "outputs": [],
   "source": [
    "df.sort_values(by='Date',inplace = True)"
   ]
  },
  {
   "cell_type": "code",
   "execution_count": 47,
   "id": "77328a6f-f37b-4615-a68e-62b2012193d8",
   "metadata": {},
   "outputs": [
    {
     "data": {
      "text/html": [
       "<div>\n",
       "<style scoped>\n",
       "    .dataframe tbody tr th:only-of-type {\n",
       "        vertical-align: middle;\n",
       "    }\n",
       "\n",
       "    .dataframe tbody tr th {\n",
       "        vertical-align: top;\n",
       "    }\n",
       "\n",
       "    .dataframe thead th {\n",
       "        text-align: right;\n",
       "    }\n",
       "</style>\n",
       "<table border=\"1\" class=\"dataframe\">\n",
       "  <thead>\n",
       "    <tr style=\"text-align: right;\">\n",
       "      <th></th>\n",
       "      <th>Date</th>\n",
       "      <th>Sales</th>\n",
       "    </tr>\n",
       "  </thead>\n",
       "  <tbody>\n",
       "    <tr>\n",
       "      <th>0</th>\n",
       "      <td>2023-09-01</td>\n",
       "      <td>100</td>\n",
       "    </tr>\n",
       "    <tr>\n",
       "      <th>1</th>\n",
       "      <td>2023-09-02</td>\n",
       "      <td>150</td>\n",
       "    </tr>\n",
       "    <tr>\n",
       "      <th>2</th>\n",
       "      <td>2023-09-03</td>\n",
       "      <td>200</td>\n",
       "    </tr>\n",
       "    <tr>\n",
       "      <th>3</th>\n",
       "      <td>2023-09-04</td>\n",
       "      <td>120</td>\n",
       "    </tr>\n",
       "    <tr>\n",
       "      <th>4</th>\n",
       "      <td>2023-09-05</td>\n",
       "      <td>180</td>\n",
       "    </tr>\n",
       "    <tr>\n",
       "      <th>5</th>\n",
       "      <td>2023-09-06</td>\n",
       "      <td>250</td>\n",
       "    </tr>\n",
       "    <tr>\n",
       "      <th>6</th>\n",
       "      <td>2023-09-07</td>\n",
       "      <td>300</td>\n",
       "    </tr>\n",
       "  </tbody>\n",
       "</table>\n",
       "</div>"
      ],
      "text/plain": [
       "         Date  Sales\n",
       "0  2023-09-01    100\n",
       "1  2023-09-02    150\n",
       "2  2023-09-03    200\n",
       "3  2023-09-04    120\n",
       "4  2023-09-05    180\n",
       "5  2023-09-06    250\n",
       "6  2023-09-07    300"
      ]
     },
     "execution_count": 47,
     "metadata": {},
     "output_type": "execute_result"
    }
   ],
   "source": [
    "df"
   ]
  },
  {
   "cell_type": "code",
   "execution_count": 50,
   "id": "e76a207d-5783-48a1-b8dc-f46d0ef343ee",
   "metadata": {},
   "outputs": [
    {
     "data": {
      "text/plain": [
       "0    100.000000\n",
       "1    125.000000\n",
       "2    150.000000\n",
       "3    142.500000\n",
       "4    150.000000\n",
       "5    166.666667\n",
       "6    185.714286\n",
       "Name: Sales, dtype: float64"
      ]
     },
     "execution_count": 50,
     "metadata": {},
     "output_type": "execute_result"
    }
   ],
   "source": [
    "df['Sales'].rolling(window=7, min_periods=1).mean()"
   ]
  },
  {
   "cell_type": "code",
   "execution_count": 53,
   "id": "af221099-65e3-46c4-8a08-0ee7486ede94",
   "metadata": {},
   "outputs": [],
   "source": [
    "def calculate_moving_average(df):\n",
    "    df.sort_values(by='Date',inplace = True)\n",
    "    df['mivingAvg']=df['Sales'].rolling(window=7, min_periods=1).mean()\n",
    "    return df"
   ]
  },
  {
   "cell_type": "code",
   "execution_count": 56,
   "id": "2a7e2bb9-c379-4e6f-a7a5-c45689e1df16",
   "metadata": {},
   "outputs": [
    {
     "data": {
      "text/html": [
       "<div>\n",
       "<style scoped>\n",
       "    .dataframe tbody tr th:only-of-type {\n",
       "        vertical-align: middle;\n",
       "    }\n",
       "\n",
       "    .dataframe tbody tr th {\n",
       "        vertical-align: top;\n",
       "    }\n",
       "\n",
       "    .dataframe thead th {\n",
       "        text-align: right;\n",
       "    }\n",
       "</style>\n",
       "<table border=\"1\" class=\"dataframe\">\n",
       "  <thead>\n",
       "    <tr style=\"text-align: right;\">\n",
       "      <th></th>\n",
       "      <th>Date</th>\n",
       "      <th>Sales</th>\n",
       "      <th>mivingAvg</th>\n",
       "    </tr>\n",
       "  </thead>\n",
       "  <tbody>\n",
       "    <tr>\n",
       "      <th>0</th>\n",
       "      <td>2023-09-01</td>\n",
       "      <td>100</td>\n",
       "      <td>100.000000</td>\n",
       "    </tr>\n",
       "    <tr>\n",
       "      <th>1</th>\n",
       "      <td>2023-09-02</td>\n",
       "      <td>150</td>\n",
       "      <td>125.000000</td>\n",
       "    </tr>\n",
       "    <tr>\n",
       "      <th>2</th>\n",
       "      <td>2023-09-03</td>\n",
       "      <td>200</td>\n",
       "      <td>150.000000</td>\n",
       "    </tr>\n",
       "    <tr>\n",
       "      <th>3</th>\n",
       "      <td>2023-09-04</td>\n",
       "      <td>120</td>\n",
       "      <td>142.500000</td>\n",
       "    </tr>\n",
       "    <tr>\n",
       "      <th>4</th>\n",
       "      <td>2023-09-05</td>\n",
       "      <td>180</td>\n",
       "      <td>150.000000</td>\n",
       "    </tr>\n",
       "    <tr>\n",
       "      <th>5</th>\n",
       "      <td>2023-09-06</td>\n",
       "      <td>250</td>\n",
       "      <td>166.666667</td>\n",
       "    </tr>\n",
       "    <tr>\n",
       "      <th>6</th>\n",
       "      <td>2023-09-07</td>\n",
       "      <td>300</td>\n",
       "      <td>185.714286</td>\n",
       "    </tr>\n",
       "  </tbody>\n",
       "</table>\n",
       "</div>"
      ],
      "text/plain": [
       "         Date  Sales   mivingAvg\n",
       "0  2023-09-01    100  100.000000\n",
       "1  2023-09-02    150  125.000000\n",
       "2  2023-09-03    200  150.000000\n",
       "3  2023-09-04    120  142.500000\n",
       "4  2023-09-05    180  150.000000\n",
       "5  2023-09-06    250  166.666667\n",
       "6  2023-09-07    300  185.714286"
      ]
     },
     "execution_count": 56,
     "metadata": {},
     "output_type": "execute_result"
    }
   ],
   "source": [
    "calculate_moving_average(df)"
   ]
  },
  {
   "cell_type": "code",
   "execution_count": 57,
   "id": "2a14412d-c07b-4a66-b0af-50fcf43ff950",
   "metadata": {},
   "outputs": [],
   "source": [
    "# Q11. You have a Pandas DataFrame df with a column 'Date'. Write a Python function that creates a new\n",
    "# column 'Weekday' in the DataFrame. The 'Weekday' column should contain the weekday name (e.g.\n",
    "# Monday, Tuesday) corresponding to each date in the 'Date' column.\n",
    "# For example, if df contains the following values:\n",
    "# Date\n",
    "# 0 2023-01-01\n",
    "# 1 2023-01-02\n",
    "# 2 2023-01-03\n",
    "# 3 2023-01-04\n",
    "# 4 2023-01-05"
   ]
  },
  {
   "cell_type": "code",
   "execution_count": 58,
   "id": "d6a5dc22-1783-4431-b86a-2f8d1a73ab26",
   "metadata": {},
   "outputs": [],
   "source": [
    "df = pd.DataFrame({'Date':['2023-01-01', '2023-01-02', '2023-01-03' , '2023-01-04' , '2023-01-05']})"
   ]
  },
  {
   "cell_type": "code",
   "execution_count": 59,
   "id": "2a28c509-eb10-4548-89d2-58eb18abb5a4",
   "metadata": {},
   "outputs": [
    {
     "data": {
      "text/html": [
       "<div>\n",
       "<style scoped>\n",
       "    .dataframe tbody tr th:only-of-type {\n",
       "        vertical-align: middle;\n",
       "    }\n",
       "\n",
       "    .dataframe tbody tr th {\n",
       "        vertical-align: top;\n",
       "    }\n",
       "\n",
       "    .dataframe thead th {\n",
       "        text-align: right;\n",
       "    }\n",
       "</style>\n",
       "<table border=\"1\" class=\"dataframe\">\n",
       "  <thead>\n",
       "    <tr style=\"text-align: right;\">\n",
       "      <th></th>\n",
       "      <th>Date</th>\n",
       "    </tr>\n",
       "  </thead>\n",
       "  <tbody>\n",
       "    <tr>\n",
       "      <th>0</th>\n",
       "      <td>2023-01-01</td>\n",
       "    </tr>\n",
       "    <tr>\n",
       "      <th>1</th>\n",
       "      <td>2023-01-02</td>\n",
       "    </tr>\n",
       "    <tr>\n",
       "      <th>2</th>\n",
       "      <td>2023-01-03</td>\n",
       "    </tr>\n",
       "    <tr>\n",
       "      <th>3</th>\n",
       "      <td>2023-01-04</td>\n",
       "    </tr>\n",
       "    <tr>\n",
       "      <th>4</th>\n",
       "      <td>2023-01-05</td>\n",
       "    </tr>\n",
       "  </tbody>\n",
       "</table>\n",
       "</div>"
      ],
      "text/plain": [
       "         Date\n",
       "0  2023-01-01\n",
       "1  2023-01-02\n",
       "2  2023-01-03\n",
       "3  2023-01-04\n",
       "4  2023-01-05"
      ]
     },
     "execution_count": 59,
     "metadata": {},
     "output_type": "execute_result"
    }
   ],
   "source": [
    "df"
   ]
  },
  {
   "cell_type": "code",
   "execution_count": 63,
   "id": "29a094a0-f60e-4652-aea8-7f246e7639b0",
   "metadata": {},
   "outputs": [],
   "source": [
    "def add_weekday_column(df):\n",
    "    df['Date'] = pd.to_datetime(df['Date'])\n",
    "    df['Weekday'] = df['Date'].dt.strftime('%A')\n",
    "    return df"
   ]
  },
  {
   "cell_type": "code",
   "execution_count": 64,
   "id": "dd6aa468-4fd7-4001-9dee-b39a90c98025",
   "metadata": {},
   "outputs": [],
   "source": [
    "df = add_weekday_column(df)"
   ]
  },
  {
   "cell_type": "code",
   "execution_count": 65,
   "id": "d3a76daf-936a-4b85-b599-83fc1e59503f",
   "metadata": {},
   "outputs": [
    {
     "data": {
      "text/html": [
       "<div>\n",
       "<style scoped>\n",
       "    .dataframe tbody tr th:only-of-type {\n",
       "        vertical-align: middle;\n",
       "    }\n",
       "\n",
       "    .dataframe tbody tr th {\n",
       "        vertical-align: top;\n",
       "    }\n",
       "\n",
       "    .dataframe thead th {\n",
       "        text-align: right;\n",
       "    }\n",
       "</style>\n",
       "<table border=\"1\" class=\"dataframe\">\n",
       "  <thead>\n",
       "    <tr style=\"text-align: right;\">\n",
       "      <th></th>\n",
       "      <th>Date</th>\n",
       "      <th>Weekday</th>\n",
       "    </tr>\n",
       "  </thead>\n",
       "  <tbody>\n",
       "    <tr>\n",
       "      <th>0</th>\n",
       "      <td>2023-01-01</td>\n",
       "      <td>Sunday</td>\n",
       "    </tr>\n",
       "    <tr>\n",
       "      <th>1</th>\n",
       "      <td>2023-01-02</td>\n",
       "      <td>Monday</td>\n",
       "    </tr>\n",
       "    <tr>\n",
       "      <th>2</th>\n",
       "      <td>2023-01-03</td>\n",
       "      <td>Tuesday</td>\n",
       "    </tr>\n",
       "    <tr>\n",
       "      <th>3</th>\n",
       "      <td>2023-01-04</td>\n",
       "      <td>Wednesday</td>\n",
       "    </tr>\n",
       "    <tr>\n",
       "      <th>4</th>\n",
       "      <td>2023-01-05</td>\n",
       "      <td>Thursday</td>\n",
       "    </tr>\n",
       "  </tbody>\n",
       "</table>\n",
       "</div>"
      ],
      "text/plain": [
       "        Date    Weekday\n",
       "0 2023-01-01     Sunday\n",
       "1 2023-01-02     Monday\n",
       "2 2023-01-03    Tuesday\n",
       "3 2023-01-04  Wednesday\n",
       "4 2023-01-05   Thursday"
      ]
     },
     "execution_count": 65,
     "metadata": {},
     "output_type": "execute_result"
    }
   ],
   "source": [
    "df"
   ]
  },
  {
   "cell_type": "code",
   "execution_count": 66,
   "id": "c4e774c4-c602-4b19-91d8-00963b3bd54e",
   "metadata": {},
   "outputs": [],
   "source": [
    "# Q12. Given a Pandas DataFrame df with a column 'Date' that contains timestamps, write a Python\n",
    "# function to select all rows where the date is between '2023-01-01' and '2023-01-31'."
   ]
  },
  {
   "cell_type": "code",
   "execution_count": 67,
   "id": "f52240dc-98c9-489f-8f5a-304c1b1d4303",
   "metadata": {},
   "outputs": [],
   "source": [
    "df = pd.DataFrame({'Date': ['2023-01-01', '2023-01-15', '2023-01-31', '2023-02-05', '2023-03-10']})"
   ]
  },
  {
   "cell_type": "code",
   "execution_count": 69,
   "id": "c2f8fcb4-5dda-436f-a20f-6fcc680138ef",
   "metadata": {},
   "outputs": [],
   "source": [
    "def select_rows_in_date_range(df):\n",
    "    df['Date'] = pd.to_datetime(df['Date'])\n",
    "    start_data= pd.Timestamp('2023-01-01')\n",
    "    end_data = pd.Timestamp('2023-01-31')\n",
    "    mask = (df['Date'] >= start_date) & (df['Date'] <= end_date)\n",
    "    selected_df = df[mask]\n",
    "    return selected_df"
   ]
  },
  {
   "cell_type": "code",
   "execution_count": 70,
   "id": "0e1239ff-7878-499a-8cfb-4b73c33bb67e",
   "metadata": {},
   "outputs": [
    {
     "ename": "NameError",
     "evalue": "name 'start_date' is not defined",
     "output_type": "error",
     "traceback": [
      "\u001b[0;31m---------------------------------------------------------------------------\u001b[0m",
      "\u001b[0;31mNameError\u001b[0m                                 Traceback (most recent call last)",
      "Cell \u001b[0;32mIn[70], line 1\u001b[0m\n\u001b[0;32m----> 1\u001b[0m \u001b[43mselect_rows_in_date_range\u001b[49m\u001b[43m(\u001b[49m\u001b[43mdf\u001b[49m\u001b[43m)\u001b[49m\n",
      "Cell \u001b[0;32mIn[69], line 5\u001b[0m, in \u001b[0;36mselect_rows_in_date_range\u001b[0;34m(df)\u001b[0m\n\u001b[1;32m      3\u001b[0m start_data\u001b[38;5;241m=\u001b[39m pd\u001b[38;5;241m.\u001b[39mTimestamp(\u001b[38;5;124m'\u001b[39m\u001b[38;5;124m2023-01-01\u001b[39m\u001b[38;5;124m'\u001b[39m)\n\u001b[1;32m      4\u001b[0m end_data \u001b[38;5;241m=\u001b[39m pd\u001b[38;5;241m.\u001b[39mTimestamp(\u001b[38;5;124m'\u001b[39m\u001b[38;5;124m2023-01-31\u001b[39m\u001b[38;5;124m'\u001b[39m)\n\u001b[0;32m----> 5\u001b[0m mask \u001b[38;5;241m=\u001b[39m (df[\u001b[38;5;124m'\u001b[39m\u001b[38;5;124mDate\u001b[39m\u001b[38;5;124m'\u001b[39m] \u001b[38;5;241m>\u001b[39m\u001b[38;5;241m=\u001b[39m \u001b[43mstart_date\u001b[49m) \u001b[38;5;241m&\u001b[39m (df[\u001b[38;5;124m'\u001b[39m\u001b[38;5;124mDate\u001b[39m\u001b[38;5;124m'\u001b[39m] \u001b[38;5;241m<\u001b[39m\u001b[38;5;241m=\u001b[39m end_date)\n\u001b[1;32m      6\u001b[0m selected_df \u001b[38;5;241m=\u001b[39m df[mask]\n\u001b[1;32m      7\u001b[0m \u001b[38;5;28;01mreturn\u001b[39;00m selected_df\n",
      "\u001b[0;31mNameError\u001b[0m: name 'start_date' is not defined"
     ]
    }
   ],
   "source": [
    "select_rows_in_date_range(df)"
   ]
  },
  {
   "cell_type": "code",
   "execution_count": null,
   "id": "047001b3-5927-4fd4-a5d6-a0a0c9a20c8b",
   "metadata": {},
   "outputs": [],
   "source": []
  }
 ],
 "metadata": {
  "kernelspec": {
   "display_name": "Python 3 (ipykernel)",
   "language": "python",
   "name": "python3"
  },
  "language_info": {
   "codemirror_mode": {
    "name": "ipython",
    "version": 3
   },
   "file_extension": ".py",
   "mimetype": "text/x-python",
   "name": "python",
   "nbconvert_exporter": "python",
   "pygments_lexer": "ipython3",
   "version": "3.10.8"
  }
 },
 "nbformat": 4,
 "nbformat_minor": 5
}
